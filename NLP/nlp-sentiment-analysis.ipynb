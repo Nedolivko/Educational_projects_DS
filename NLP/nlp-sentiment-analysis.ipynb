{
 "cells": [
  {
   "cell_type": "markdown",
   "id": "0618bb29",
   "metadata": {
    "id": "S3Y4CKf_KrC6",
    "papermill": {
     "duration": 0.019573,
     "end_time": "2023-01-08T14:13:52.044965",
     "exception": false,
     "start_time": "2023-01-08T14:13:52.025392",
     "status": "completed"
    },
    "tags": []
   },
   "source": [
    "# Text Classification using RNN and RoBERTa\n",
    "\n",
    "Исходные данные:\n",
    "https://www.kaggle.com/competitions/nlp-txt-classification"
   ]
  },
  {
   "cell_type": "markdown",
   "id": "d1ea8fa8",
   "metadata": {
    "papermill": {
     "duration": 0.017419,
     "end_time": "2023-01-08T14:13:52.080172",
     "exception": false,
     "start_time": "2023-01-08T14:13:52.062753",
     "status": "completed"
    },
    "tags": []
   },
   "source": [
    "## Library Importations"
   ]
  },
  {
   "cell_type": "code",
   "execution_count": 1,
   "id": "ea666174",
   "metadata": {
    "execution": {
     "iopub.execute_input": "2023-01-08T14:13:52.117685Z",
     "iopub.status.busy": "2023-01-08T14:13:52.116998Z",
     "iopub.status.idle": "2023-01-08T14:14:02.898170Z",
     "shell.execute_reply": "2023-01-08T14:14:02.896078Z"
    },
    "papermill": {
     "duration": 10.803179,
     "end_time": "2023-01-08T14:14:02.901194",
     "exception": false,
     "start_time": "2023-01-08T14:13:52.098015",
     "status": "completed"
    },
    "tags": []
   },
   "outputs": [
    {
     "name": "stderr",
     "output_type": "stream",
     "text": [
      "[nltk_data] Downloading package omw-1.4 to /usr/share/nltk_data...\n"
     ]
    },
    {
     "name": "stdout",
     "output_type": "stream",
     "text": [
      "/kaggle/input/nlp-txt-classification/sample_submission.csv\n",
      "/kaggle/input/nlp-txt-classification/train.csv\n",
      "/kaggle/input/nlp-txt-classification/test.csv\n"
     ]
    }
   ],
   "source": [
    "import numpy as np # linear algebra\n",
    "import pandas as pd # data processing, CSV file I/O (e.g. pd.read_csv)\n",
    "import string\n",
    "import random\n",
    "import time\n",
    "import sys\n",
    "import re\n",
    "import gc\n",
    "\n",
    "from tqdm import tqdm\n",
    "tqdm.pandas()\n",
    "from bs4 import BeautifulSoup\n",
    "\n",
    "from collections import Counter\n",
    "\n",
    "import matplotlib.pyplot as plt\n",
    "import seaborn as sns\n",
    "%matplotlib inline\n",
    "\n",
    "import nltk\n",
    "nltk.download('omw-1.4')\n",
    "from nltk import word_tokenize\n",
    "from nltk.tokenize import NLTKWordTokenizer\n",
    "from nltk.stem.snowball import SnowballStemmer\n",
    "from nltk.stem.wordnet import WordNetLemmatizer\n",
    "from nltk.corpus import stopwords\n",
    "from nltk import pos_tag\n",
    "stopword_list = nltk.corpus.stopwords.words('english')\n",
    "from sklearn.model_selection import train_test_split, cross_val_score\n",
    "from sklearn.feature_extraction.text import CountVectorizer\n",
    "\n",
    "import torch\n",
    "from torch import nn\n",
    "import torch.optim as optim\n",
    "from torch.utils.data import DataLoader, TensorDataset, Dataset\n",
    "from torch.utils.tensorboard import SummaryWriter\n",
    "import torchtext\n",
    "from torchtext.data import get_tokenizer\n",
    "from torchtext.vocab import GloVe\n",
    "\n",
    "import transformers\n",
    "from transformers import pipeline\n",
    "from transformers import AdamW\n",
    "from transformers import RobertaModel, RobertaTokenizer, RobertaConfig, RobertaForSequenceClassification\n",
    "\n",
    "import warnings\n",
    "warnings.filterwarnings(\"ignore\")\n",
    "\n",
    "import os\n",
    "for dirname, _, filenames in os.walk('/kaggle/input'):\n",
    "    for filename in filenames:\n",
    "        print(os.path.join(dirname, filename))"
   ]
  },
  {
   "cell_type": "code",
   "execution_count": 2,
   "id": "db0bf812",
   "metadata": {
    "execution": {
     "iopub.execute_input": "2023-01-08T14:14:02.940609Z",
     "iopub.status.busy": "2023-01-08T14:14:02.938992Z",
     "iopub.status.idle": "2023-01-08T14:14:02.951303Z",
     "shell.execute_reply": "2023-01-08T14:14:02.950462Z"
    },
    "papermill": {
     "duration": 0.033261,
     "end_time": "2023-01-08T14:14:02.953294",
     "exception": false,
     "start_time": "2023-01-08T14:14:02.920033",
     "status": "completed"
    },
    "tags": []
   },
   "outputs": [],
   "source": [
    "SEED = 42\n",
    "np.random.seed(SEED)\n",
    "torch.manual_seed(SEED)\n",
    "torch.cuda.manual_seed(SEED)\n",
    "torch.backends.cudnn.deterministic = True\n",
    "\n",
    "BATCH_SIZE = 64\n",
    "LR_RATE = 0.001"
   ]
  },
  {
   "cell_type": "code",
   "execution_count": 3,
   "id": "d0cf449b",
   "metadata": {
    "execution": {
     "iopub.execute_input": "2023-01-08T14:14:02.989858Z",
     "iopub.status.busy": "2023-01-08T14:14:02.989564Z",
     "iopub.status.idle": "2023-01-08T14:14:03.972508Z",
     "shell.execute_reply": "2023-01-08T14:14:03.971403Z"
    },
    "papermill": {
     "duration": 1.004105,
     "end_time": "2023-01-08T14:14:03.974845",
     "exception": false,
     "start_time": "2023-01-08T14:14:02.970740",
     "status": "completed"
    },
    "tags": []
   },
   "outputs": [
    {
     "name": "stdout",
     "output_type": "stream",
     "text": [
      "Sun Jan  8 14:14:03 2023       \r\n",
      "+-----------------------------------------------------------------------------+\r\n",
      "| NVIDIA-SMI 470.82.01    Driver Version: 470.82.01    CUDA Version: 11.4     |\r\n",
      "|-------------------------------+----------------------+----------------------+\r\n",
      "| GPU  Name        Persistence-M| Bus-Id        Disp.A | Volatile Uncorr. ECC |\r\n",
      "| Fan  Temp  Perf  Pwr:Usage/Cap|         Memory-Usage | GPU-Util  Compute M. |\r\n",
      "|                               |                      |               MIG M. |\r\n",
      "|===============================+======================+======================|\r\n",
      "|   0  Tesla P100-PCIE...  Off  | 00000000:00:04.0 Off |                    0 |\r\n",
      "| N/A   35C    P0    26W / 250W |      0MiB / 16280MiB |      0%      Default |\r\n",
      "|                               |                      |                  N/A |\r\n",
      "+-------------------------------+----------------------+----------------------+\r\n",
      "                                                                               \r\n",
      "+-----------------------------------------------------------------------------+\r\n",
      "| Processes:                                                                  |\r\n",
      "|  GPU   GI   CI        PID   Type   Process name                  GPU Memory |\r\n",
      "|        ID   ID                                                   Usage      |\r\n",
      "|=============================================================================|\r\n",
      "|  No running processes found                                                 |\r\n",
      "+-----------------------------------------------------------------------------+\r\n"
     ]
    }
   ],
   "source": [
    "!nvidia-smi"
   ]
  },
  {
   "cell_type": "markdown",
   "id": "95705266",
   "metadata": {
    "id": "AScUhowxOxBc",
    "papermill": {
     "duration": 0.017466,
     "end_time": "2023-01-08T14:14:04.010628",
     "exception": false,
     "start_time": "2023-01-08T14:14:03.993162",
     "status": "completed"
    },
    "tags": []
   },
   "source": [
    "### Loading Datasets"
   ]
  },
  {
   "cell_type": "code",
   "execution_count": 4,
   "id": "a95e3194",
   "metadata": {
    "execution": {
     "iopub.execute_input": "2023-01-08T14:14:04.047294Z",
     "iopub.status.busy": "2023-01-08T14:14:04.046967Z",
     "iopub.status.idle": "2023-01-08T14:14:04.051796Z",
     "shell.execute_reply": "2023-01-08T14:14:04.050838Z"
    },
    "papermill": {
     "duration": 0.025396,
     "end_time": "2023-01-08T14:14:04.053707",
     "exception": false,
     "start_time": "2023-01-08T14:14:04.028311",
     "status": "completed"
    },
    "tags": []
   },
   "outputs": [],
   "source": [
    "IN_PATH = '/kaggle/input/'\n",
    "DATA_PATH = IN_PATH+'nlp-txt-classification/'\n",
    "OUT_PATH = '/kaggle/working/' # path for output directory"
   ]
  },
  {
   "cell_type": "code",
   "execution_count": 5,
   "id": "fc7eaa4f",
   "metadata": {
    "execution": {
     "iopub.execute_input": "2023-01-08T14:14:04.090871Z",
     "iopub.status.busy": "2023-01-08T14:14:04.089981Z",
     "iopub.status.idle": "2023-01-08T14:14:04.391118Z",
     "shell.execute_reply": "2023-01-08T14:14:04.389826Z"
    },
    "id": "vN0x--gSgfNv",
    "papermill": {
     "duration": 0.322406,
     "end_time": "2023-01-08T14:14:04.393896",
     "exception": false,
     "start_time": "2023-01-08T14:14:04.071490",
     "status": "completed"
    },
    "tags": []
   },
   "outputs": [
    {
     "name": "stdout",
     "output_type": "stream",
     "text": [
      " Training dataset shape : (41159, 2)\n",
      " Testing dataset shape : (3798, 1)\n"
     ]
    }
   ],
   "source": [
    "train_df = pd.read_csv(DATA_PATH +'train.csv', index_col = 0)\n",
    "test_df = pd.read_csv(DATA_PATH +'test.csv', index_col = 0)\n",
    "sample_submission_df = pd.read_csv(DATA_PATH +'sample_submission.csv', index_col = 0)\n",
    "print(\" Training dataset shape : \" + str(train_df.shape))\n",
    "print(\" Testing dataset shape : \" + str(test_df.shape))"
   ]
  },
  {
   "cell_type": "code",
   "execution_count": 6,
   "id": "aada7a97",
   "metadata": {
    "execution": {
     "iopub.execute_input": "2023-01-08T14:14:04.432211Z",
     "iopub.status.busy": "2023-01-08T14:14:04.431218Z",
     "iopub.status.idle": "2023-01-08T14:14:04.449073Z",
     "shell.execute_reply": "2023-01-08T14:14:04.448225Z"
    },
    "papermill": {
     "duration": 0.038864,
     "end_time": "2023-01-08T14:14:04.451336",
     "exception": false,
     "start_time": "2023-01-08T14:14:04.412472",
     "status": "completed"
    },
    "tags": []
   },
   "outputs": [
    {
     "data": {
      "text/html": [
       "<div>\n",
       "<style scoped>\n",
       "    .dataframe tbody tr th:only-of-type {\n",
       "        vertical-align: middle;\n",
       "    }\n",
       "\n",
       "    .dataframe tbody tr th {\n",
       "        vertical-align: top;\n",
       "    }\n",
       "\n",
       "    .dataframe thead th {\n",
       "        text-align: right;\n",
       "    }\n",
       "</style>\n",
       "<table border=\"1\" class=\"dataframe\">\n",
       "  <thead>\n",
       "    <tr style=\"text-align: right;\">\n",
       "      <th></th>\n",
       "      <th>Text</th>\n",
       "      <th>Sentiment</th>\n",
       "    </tr>\n",
       "  </thead>\n",
       "  <tbody>\n",
       "    <tr>\n",
       "      <th>0</th>\n",
       "      <td>@MeNyrbie @Phil_Gahan @Chrisitv https://t.co/i...</td>\n",
       "      <td>Neutral</td>\n",
       "    </tr>\n",
       "    <tr>\n",
       "      <th>1</th>\n",
       "      <td>advice Talk to your neighbours family to excha...</td>\n",
       "      <td>Positive</td>\n",
       "    </tr>\n",
       "    <tr>\n",
       "      <th>2</th>\n",
       "      <td>Coronavirus Australia: Woolworths to give elde...</td>\n",
       "      <td>Positive</td>\n",
       "    </tr>\n",
       "    <tr>\n",
       "      <th>3</th>\n",
       "      <td>My food stock is not the only one which is emp...</td>\n",
       "      <td>Positive</td>\n",
       "    </tr>\n",
       "    <tr>\n",
       "      <th>4</th>\n",
       "      <td>Me, ready to go at supermarket during the #COV...</td>\n",
       "      <td>Extremely Negative</td>\n",
       "    </tr>\n",
       "  </tbody>\n",
       "</table>\n",
       "</div>"
      ],
      "text/plain": [
       "                                                Text           Sentiment\n",
       "0  @MeNyrbie @Phil_Gahan @Chrisitv https://t.co/i...             Neutral\n",
       "1  advice Talk to your neighbours family to excha...            Positive\n",
       "2  Coronavirus Australia: Woolworths to give elde...            Positive\n",
       "3  My food stock is not the only one which is emp...            Positive\n",
       "4  Me, ready to go at supermarket during the #COV...  Extremely Negative"
      ]
     },
     "execution_count": 6,
     "metadata": {},
     "output_type": "execute_result"
    }
   ],
   "source": [
    "train_df.head()"
   ]
  },
  {
   "cell_type": "code",
   "execution_count": 7,
   "id": "d059235c",
   "metadata": {
    "execution": {
     "iopub.execute_input": "2023-01-08T14:14:04.488750Z",
     "iopub.status.busy": "2023-01-08T14:14:04.487956Z",
     "iopub.status.idle": "2023-01-08T14:14:04.496462Z",
     "shell.execute_reply": "2023-01-08T14:14:04.495458Z"
    },
    "papermill": {
     "duration": 0.029669,
     "end_time": "2023-01-08T14:14:04.498794",
     "exception": false,
     "start_time": "2023-01-08T14:14:04.469125",
     "status": "completed"
    },
    "tags": []
   },
   "outputs": [
    {
     "data": {
      "text/html": [
       "<div>\n",
       "<style scoped>\n",
       "    .dataframe tbody tr th:only-of-type {\n",
       "        vertical-align: middle;\n",
       "    }\n",
       "\n",
       "    .dataframe tbody tr th {\n",
       "        vertical-align: top;\n",
       "    }\n",
       "\n",
       "    .dataframe thead th {\n",
       "        text-align: right;\n",
       "    }\n",
       "</style>\n",
       "<table border=\"1\" class=\"dataframe\">\n",
       "  <thead>\n",
       "    <tr style=\"text-align: right;\">\n",
       "      <th></th>\n",
       "      <th>Text</th>\n",
       "    </tr>\n",
       "    <tr>\n",
       "      <th>id</th>\n",
       "      <th></th>\n",
       "    </tr>\n",
       "  </thead>\n",
       "  <tbody>\n",
       "    <tr>\n",
       "      <th>787bc85b-20d4-46d8-84a0-562a2527f684</th>\n",
       "      <td>TRENDING: New Yorkers encounter empty supermar...</td>\n",
       "    </tr>\n",
       "    <tr>\n",
       "      <th>17e934cd-ba94-4d4f-9ac0-ead202abe241</th>\n",
       "      <td>When I couldn't find hand sanitizer at Fred Me...</td>\n",
       "    </tr>\n",
       "    <tr>\n",
       "      <th>5914534b-2b0f-4de8-bb8a-e25587697e0d</th>\n",
       "      <td>Find out how you can protect yourself and love...</td>\n",
       "    </tr>\n",
       "    <tr>\n",
       "      <th>cdf06cfe-29ae-48ee-ac6d-be448103ba45</th>\n",
       "      <td>#Panic buying hits #NewYork City as anxious sh...</td>\n",
       "    </tr>\n",
       "    <tr>\n",
       "      <th>aff63979-0256-4fb9-a2d9-86a3d3ca5470</th>\n",
       "      <td>#toiletpaper #dunnypaper #coronavirus #coronav...</td>\n",
       "    </tr>\n",
       "  </tbody>\n",
       "</table>\n",
       "</div>"
      ],
      "text/plain": [
       "                                                                                   Text\n",
       "id                                                                                     \n",
       "787bc85b-20d4-46d8-84a0-562a2527f684  TRENDING: New Yorkers encounter empty supermar...\n",
       "17e934cd-ba94-4d4f-9ac0-ead202abe241  When I couldn't find hand sanitizer at Fred Me...\n",
       "5914534b-2b0f-4de8-bb8a-e25587697e0d  Find out how you can protect yourself and love...\n",
       "cdf06cfe-29ae-48ee-ac6d-be448103ba45  #Panic buying hits #NewYork City as anxious sh...\n",
       "aff63979-0256-4fb9-a2d9-86a3d3ca5470  #toiletpaper #dunnypaper #coronavirus #coronav..."
      ]
     },
     "execution_count": 7,
     "metadata": {},
     "output_type": "execute_result"
    }
   ],
   "source": [
    "test_df.head()"
   ]
  },
  {
   "cell_type": "code",
   "execution_count": 8,
   "id": "69d0d277",
   "metadata": {
    "execution": {
     "iopub.execute_input": "2023-01-08T14:14:04.536868Z",
     "iopub.status.busy": "2023-01-08T14:14:04.535883Z",
     "iopub.status.idle": "2023-01-08T14:14:04.544358Z",
     "shell.execute_reply": "2023-01-08T14:14:04.543390Z"
    },
    "papermill": {
     "duration": 0.029221,
     "end_time": "2023-01-08T14:14:04.546283",
     "exception": false,
     "start_time": "2023-01-08T14:14:04.517062",
     "status": "completed"
    },
    "tags": []
   },
   "outputs": [
    {
     "data": {
      "text/html": [
       "<div>\n",
       "<style scoped>\n",
       "    .dataframe tbody tr th:only-of-type {\n",
       "        vertical-align: middle;\n",
       "    }\n",
       "\n",
       "    .dataframe tbody tr th {\n",
       "        vertical-align: top;\n",
       "    }\n",
       "\n",
       "    .dataframe thead th {\n",
       "        text-align: right;\n",
       "    }\n",
       "</style>\n",
       "<table border=\"1\" class=\"dataframe\">\n",
       "  <thead>\n",
       "    <tr style=\"text-align: right;\">\n",
       "      <th></th>\n",
       "      <th>Sentiment</th>\n",
       "    </tr>\n",
       "    <tr>\n",
       "      <th>id</th>\n",
       "      <th></th>\n",
       "    </tr>\n",
       "  </thead>\n",
       "  <tbody>\n",
       "    <tr>\n",
       "      <th>787bc85b-20d4-46d8-84a0-562a2527f684</th>\n",
       "      <td>Neutral</td>\n",
       "    </tr>\n",
       "    <tr>\n",
       "      <th>17e934cd-ba94-4d4f-9ac0-ead202abe241</th>\n",
       "      <td>Neutral</td>\n",
       "    </tr>\n",
       "    <tr>\n",
       "      <th>5914534b-2b0f-4de8-bb8a-e25587697e0d</th>\n",
       "      <td>Neutral</td>\n",
       "    </tr>\n",
       "    <tr>\n",
       "      <th>cdf06cfe-29ae-48ee-ac6d-be448103ba45</th>\n",
       "      <td>Neutral</td>\n",
       "    </tr>\n",
       "    <tr>\n",
       "      <th>aff63979-0256-4fb9-a2d9-86a3d3ca5470</th>\n",
       "      <td>Neutral</td>\n",
       "    </tr>\n",
       "  </tbody>\n",
       "</table>\n",
       "</div>"
      ],
      "text/plain": [
       "                                     Sentiment\n",
       "id                                            \n",
       "787bc85b-20d4-46d8-84a0-562a2527f684   Neutral\n",
       "17e934cd-ba94-4d4f-9ac0-ead202abe241   Neutral\n",
       "5914534b-2b0f-4de8-bb8a-e25587697e0d   Neutral\n",
       "cdf06cfe-29ae-48ee-ac6d-be448103ba45   Neutral\n",
       "aff63979-0256-4fb9-a2d9-86a3d3ca5470   Neutral"
      ]
     },
     "execution_count": 8,
     "metadata": {},
     "output_type": "execute_result"
    }
   ],
   "source": [
    "sample_submission_df.head()"
   ]
  },
  {
   "cell_type": "markdown",
   "id": "1855fefa",
   "metadata": {
    "papermill": {
     "duration": 0.017777,
     "end_time": "2023-01-08T14:14:04.581951",
     "exception": false,
     "start_time": "2023-01-08T14:14:04.564174",
     "status": "completed"
    },
    "tags": []
   },
   "source": [
    "### Exploratory Data Analysis"
   ]
  },
  {
   "cell_type": "code",
   "execution_count": 9,
   "id": "7de4704f",
   "metadata": {
    "execution": {
     "iopub.execute_input": "2023-01-08T14:14:04.619961Z",
     "iopub.status.busy": "2023-01-08T14:14:04.619273Z",
     "iopub.status.idle": "2023-01-08T14:14:04.631686Z",
     "shell.execute_reply": "2023-01-08T14:14:04.630724Z"
    },
    "papermill": {
     "duration": 0.033636,
     "end_time": "2023-01-08T14:14:04.633563",
     "exception": false,
     "start_time": "2023-01-08T14:14:04.599927",
     "status": "completed"
    },
    "tags": []
   },
   "outputs": [
    {
     "data": {
      "text/plain": [
       "Text         1\n",
       "Sentiment    4\n",
       "dtype: int64"
      ]
     },
     "execution_count": 9,
     "metadata": {},
     "output_type": "execute_result"
    }
   ],
   "source": [
    "train_df.isnull().sum()"
   ]
  },
  {
   "cell_type": "code",
   "execution_count": 10,
   "id": "236a8381",
   "metadata": {
    "execution": {
     "iopub.execute_input": "2023-01-08T14:14:04.671736Z",
     "iopub.status.busy": "2023-01-08T14:14:04.670889Z",
     "iopub.status.idle": "2023-01-08T14:14:04.684445Z",
     "shell.execute_reply": "2023-01-08T14:14:04.683624Z"
    },
    "papermill": {
     "duration": 0.034404,
     "end_time": "2023-01-08T14:14:04.686383",
     "exception": false,
     "start_time": "2023-01-08T14:14:04.651979",
     "status": "completed"
    },
    "tags": []
   },
   "outputs": [],
   "source": [
    "# Removing blank lines\n",
    "train_df = train_df[['Text', 'Sentiment']].dropna()"
   ]
  },
  {
   "cell_type": "code",
   "execution_count": 11,
   "id": "1c71a6ff",
   "metadata": {
    "execution": {
     "iopub.execute_input": "2023-01-08T14:14:04.724044Z",
     "iopub.status.busy": "2023-01-08T14:14:04.723217Z",
     "iopub.status.idle": "2023-01-08T14:14:04.742600Z",
     "shell.execute_reply": "2023-01-08T14:14:04.741254Z"
    },
    "id": "hsgKgm9XtNzO",
    "papermill": {
     "duration": 0.040125,
     "end_time": "2023-01-08T14:14:04.744540",
     "exception": false,
     "start_time": "2023-01-08T14:14:04.704415",
     "status": "completed"
    },
    "tags": []
   },
   "outputs": [
    {
     "name": "stdout",
     "output_type": "stream",
     "text": [
      "<class 'pandas.core.frame.DataFrame'>\n",
      "Index: 41155 entries, 0 to 41156\n",
      "Data columns (total 2 columns):\n",
      " #   Column     Non-Null Count  Dtype \n",
      "---  ------     --------------  ----- \n",
      " 0   Text       41155 non-null  object\n",
      " 1   Sentiment  41155 non-null  object\n",
      "dtypes: object(2)\n",
      "memory usage: 964.6+ KB\n"
     ]
    }
   ],
   "source": [
    "train_df.info()"
   ]
  },
  {
   "cell_type": "code",
   "execution_count": 12,
   "id": "dd809b93",
   "metadata": {
    "execution": {
     "iopub.execute_input": "2023-01-08T14:14:04.782261Z",
     "iopub.status.busy": "2023-01-08T14:14:04.781616Z",
     "iopub.status.idle": "2023-01-08T14:14:04.850719Z",
     "shell.execute_reply": "2023-01-08T14:14:04.849719Z"
    },
    "id": "hExGrMzNtqqw",
    "papermill": {
     "duration": 0.090227,
     "end_time": "2023-01-08T14:14:04.852955",
     "exception": false,
     "start_time": "2023-01-08T14:14:04.762728",
     "status": "completed"
    },
    "tags": []
   },
   "outputs": [
    {
     "data": {
      "text/html": [
       "<style type=\"text/css\">\n",
       "#T_4ade0_row0_col1 {\n",
       "  background-color: #3f007d;\n",
       "  color: #f1f1f1;\n",
       "}\n",
       "#T_4ade0_row1_col1 {\n",
       "  background-color: #6a51a3;\n",
       "  color: #f1f1f1;\n",
       "}\n",
       "#T_4ade0_row2_col1 {\n",
       "  background-color: #bcbddc;\n",
       "  color: #000000;\n",
       "}\n",
       "#T_4ade0_row3_col1 {\n",
       "  background-color: #e4e3f0;\n",
       "  color: #000000;\n",
       "}\n",
       "#T_4ade0_row4_col1 {\n",
       "  background-color: #fcfbfd;\n",
       "  color: #000000;\n",
       "}\n",
       "</style>\n",
       "<table id=\"T_4ade0_\">\n",
       "  <thead>\n",
       "    <tr>\n",
       "      <th class=\"blank level0\" >&nbsp;</th>\n",
       "      <th class=\"col_heading level0 col0\" >Sentiment</th>\n",
       "      <th class=\"col_heading level0 col1\" >Text</th>\n",
       "    </tr>\n",
       "  </thead>\n",
       "  <tbody>\n",
       "    <tr>\n",
       "      <th id=\"T_4ade0_level0_row0\" class=\"row_heading level0 row0\" >4</th>\n",
       "      <td id=\"T_4ade0_row0_col0\" class=\"data row0 col0\" >Positive</td>\n",
       "      <td id=\"T_4ade0_row0_col1\" class=\"data row0 col1\" >11422</td>\n",
       "    </tr>\n",
       "    <tr>\n",
       "      <th id=\"T_4ade0_level0_row1\" class=\"row_heading level0 row1\" >2</th>\n",
       "      <td id=\"T_4ade0_row1_col0\" class=\"data row1 col0\" >Negative</td>\n",
       "      <td id=\"T_4ade0_row1_col1\" class=\"data row1 col1\" >9917</td>\n",
       "    </tr>\n",
       "    <tr>\n",
       "      <th id=\"T_4ade0_level0_row2\" class=\"row_heading level0 row2\" >3</th>\n",
       "      <td id=\"T_4ade0_row2_col0\" class=\"data row2 col0\" >Neutral</td>\n",
       "      <td id=\"T_4ade0_row2_col1\" class=\"data row2 col1\" >7711</td>\n",
       "    </tr>\n",
       "    <tr>\n",
       "      <th id=\"T_4ade0_level0_row3\" class=\"row_heading level0 row3\" >1</th>\n",
       "      <td id=\"T_4ade0_row3_col0\" class=\"data row3 col0\" >Extremely Positive</td>\n",
       "      <td id=\"T_4ade0_row3_col1\" class=\"data row3 col1\" >6624</td>\n",
       "    </tr>\n",
       "    <tr>\n",
       "      <th id=\"T_4ade0_level0_row4\" class=\"row_heading level0 row4\" >0</th>\n",
       "      <td id=\"T_4ade0_row4_col0\" class=\"data row4 col0\" >Extremely Negative</td>\n",
       "      <td id=\"T_4ade0_row4_col1\" class=\"data row4 col1\" >5481</td>\n",
       "    </tr>\n",
       "  </tbody>\n",
       "</table>\n"
      ],
      "text/plain": [
       "<pandas.io.formats.style.Styler at 0x7f7b59168e50>"
      ]
     },
     "execution_count": 12,
     "metadata": {},
     "output_type": "execute_result"
    }
   ],
   "source": [
    "temp = train_df.groupby('Sentiment').count()['Text'].reset_index().sort_values(by='Text', ascending=False)\n",
    "temp.style.background_gradient(cmap='Purples')"
   ]
  },
  {
   "cell_type": "markdown",
   "id": "1e2216c5",
   "metadata": {
    "papermill": {
     "duration": 0.018156,
     "end_time": "2023-01-08T14:14:04.889516",
     "exception": false,
     "start_time": "2023-01-08T14:14:04.871360",
     "status": "completed"
    },
    "tags": []
   },
   "source": [
    "#### Number of characters in text"
   ]
  },
  {
   "cell_type": "code",
   "execution_count": 13,
   "id": "aeb086ab",
   "metadata": {
    "execution": {
     "iopub.execute_input": "2023-01-08T14:14:04.927882Z",
     "iopub.status.busy": "2023-01-08T14:14:04.927134Z",
     "iopub.status.idle": "2023-01-08T14:14:04.948282Z",
     "shell.execute_reply": "2023-01-08T14:14:04.947463Z"
    },
    "papermill": {
     "duration": 0.04253,
     "end_time": "2023-01-08T14:14:04.950273",
     "exception": false,
     "start_time": "2023-01-08T14:14:04.907743",
     "status": "completed"
    },
    "tags": []
   },
   "outputs": [],
   "source": [
    "def length(text):    \n",
    "    '''a function which returns the length of text'''\n",
    "    return len(text)\n",
    "train_df['length_text'] = train_df['Text'].apply(length)"
   ]
  },
  {
   "cell_type": "code",
   "execution_count": 14,
   "id": "715eec69",
   "metadata": {
    "execution": {
     "iopub.execute_input": "2023-01-08T14:14:04.988445Z",
     "iopub.status.busy": "2023-01-08T14:14:04.987596Z",
     "iopub.status.idle": "2023-01-08T14:14:05.307862Z",
     "shell.execute_reply": "2023-01-08T14:14:05.306823Z"
    },
    "papermill": {
     "duration": 0.34265,
     "end_time": "2023-01-08T14:14:05.311211",
     "exception": false,
     "start_time": "2023-01-08T14:14:04.968561",
     "status": "completed"
    },
    "tags": []
   },
   "outputs": [
    {
     "data": {
      "image/png": "[encoded data removed]",
      "text/plain": [
       "<Figure size 1296x432 with 1 Axes>"
      ]
     },
     "metadata": {
      "needs_background": "light"
     },
     "output_type": "display_data"
    }
   ],
   "source": [
    "plt.rcParams['figure.figsize'] = (18.0, 6.0)\n",
    "bins = 50\n",
    "plt.hist(train_df['length_text'], alpha = 0.6, bins=bins)\n",
    "plt.xlabel('length_text')\n",
    "plt.ylabel('numbers')\n",
    "plt.title('Number of characters in text')\n",
    "plt.grid()\n",
    "plt.show()"
   ]
  },
  {
   "cell_type": "markdown",
   "id": "87fcbf71",
   "metadata": {
    "papermill": {
     "duration": 0.018397,
     "end_time": "2023-01-08T14:14:05.357794",
     "exception": false,
     "start_time": "2023-01-08T14:14:05.339397",
     "status": "completed"
    },
    "tags": []
   },
   "source": [
    "#### Number of words in a text"
   ]
  },
  {
   "cell_type": "code",
   "execution_count": 15,
   "id": "17853c61",
   "metadata": {
    "execution": {
     "iopub.execute_input": "2023-01-08T14:14:05.409992Z",
     "iopub.status.busy": "2023-01-08T14:14:05.408937Z",
     "iopub.status.idle": "2023-01-08T14:14:06.277901Z",
     "shell.execute_reply": "2023-01-08T14:14:06.276941Z"
    },
    "papermill": {
     "duration": 0.903542,
     "end_time": "2023-01-08T14:14:06.279918",
     "exception": false,
     "start_time": "2023-01-08T14:14:05.376376",
     "status": "completed"
    },
    "tags": []
   },
   "outputs": [
    {
     "data": {
      "image/png": "[encoded data removed]",
      "text/plain": [
       "<Figure size 1296x432 with 1 Axes>"
      ]
     },
     "metadata": {
      "needs_background": "light"
     },
     "output_type": "display_data"
    }
   ],
   "source": [
    "plt.rcParams['figure.figsize'] = (18.0, 6.0)\n",
    "bins = 30\n",
    "text_len=train_df['Text'].str.split().map(lambda x: len(x))\n",
    "plt.hist(text_len, alpha = 0.6, bins=bins)\n",
    "plt.xlabel('length')\n",
    "plt.ylabel('numbers')\n",
    "plt.title('Number of words in a text')\n",
    "plt.grid()\n",
    "plt.show()"
   ]
  },
  {
   "cell_type": "markdown",
   "id": "470ab539",
   "metadata": {
    "papermill": {
     "duration": 0.01865,
     "end_time": "2023-01-08T14:14:06.317877",
     "exception": false,
     "start_time": "2023-01-08T14:14:06.299227",
     "status": "completed"
    },
    "tags": []
   },
   "source": [
    "### Data Cleaning"
   ]
  },
  {
   "cell_type": "code",
   "execution_count": 16,
   "id": "8aa401d1",
   "metadata": {
    "execution": {
     "iopub.execute_input": "2023-01-08T14:14:06.357488Z",
     "iopub.status.busy": "2023-01-08T14:14:06.357190Z",
     "iopub.status.idle": "2023-01-08T14:14:06.378047Z",
     "shell.execute_reply": "2023-01-08T14:14:06.377133Z"
    },
    "papermill": {
     "duration": 0.042998,
     "end_time": "2023-01-08T14:14:06.380053",
     "exception": false,
     "start_time": "2023-01-08T14:14:06.337055",
     "status": "completed"
    },
    "tags": []
   },
   "outputs": [],
   "source": [
    "# Thanks to https://www.kaggle.com/rftexas/text-only-kfold-bert\n",
    "abbreviations = {\n",
    "    \"$\" : \" dollar \",\n",
    "    \"€\" : \" euro \",\n",
    "    \"4ao\" : \"for adults only\",\n",
    "    \"a.m\" : \"before midday\",\n",
    "    \"a3\" : \"anytime anywhere anyplace\",\n",
    "    \"aamof\" : \"as a matter of fact\",\n",
    "    \"acct\" : \"account\",\n",
    "    \"adih\" : \"another day in hell\",\n",
    "    \"afaic\" : \"as far as i am concerned\",\n",
    "    \"afaict\" : \"as far as i can tell\",\n",
    "    \"afaik\" : \"as far as i know\",\n",
    "    \"afair\" : \"as far as i remember\",\n",
    "    \"afk\" : \"away from keyboard\",\n",
    "    \"app\" : \"application\",\n",
    "    \"approx\" : \"approximately\",\n",
    "    \"apps\" : \"applications\",\n",
    "    \"asap\" : \"as soon as possible\",\n",
    "    \"asl\" : \"age, sex, location\",\n",
    "    \"atk\" : \"at the keyboard\",\n",
    "    \"ave.\" : \"avenue\",\n",
    "    \"aymm\" : \"are you my mother\",\n",
    "    \"ayor\" : \"at your own risk\", \n",
    "    \"b&b\" : \"bed and breakfast\",\n",
    "    \"b+b\" : \"bed and breakfast\",\n",
    "    \"b.c\" : \"before christ\",\n",
    "    \"b2b\" : \"business to business\",\n",
    "    \"b2c\" : \"business to customer\",\n",
    "    \"b4\" : \"before\",\n",
    "    \"b4n\" : \"bye for now\",\n",
    "    \"b@u\" : \"back at you\",\n",
    "    \"bae\" : \"before anyone else\",\n",
    "    \"bak\" : \"back at keyboard\",\n",
    "    \"bbbg\" : \"bye bye be good\",\n",
    "    \"bbc\" : \"british broadcasting corporation\",\n",
    "    \"bbias\" : \"be back in a second\",\n",
    "    \"bbl\" : \"be back later\",\n",
    "    \"bbs\" : \"be back soon\",\n",
    "    \"be4\" : \"before\",\n",
    "    \"bfn\" : \"bye for now\",\n",
    "    \"blvd\" : \"boulevard\",\n",
    "    \"bout\" : \"about\",\n",
    "    \"brb\" : \"be right back\",\n",
    "    \"bros\" : \"brothers\",\n",
    "    \"brt\" : \"be right there\",\n",
    "    \"bsaaw\" : \"big smile and a wink\",\n",
    "    \"btw\" : \"by the way\",\n",
    "    \"bwl\" : \"bursting with laughter\",\n",
    "    \"c/o\" : \"care of\",\n",
    "    \"cet\" : \"central european time\",\n",
    "    \"cf\" : \"compare\",\n",
    "    \"cia\" : \"central intelligence agency\",\n",
    "    \"csl\" : \"can not stop laughing\",\n",
    "    \"cu\" : \"see you\",\n",
    "    \"cul8r\" : \"see you later\",\n",
    "    \"cv\" : \"curriculum vitae\",\n",
    "    \"cwot\" : \"complete waste of time\",\n",
    "    \"cya\" : \"see you\",\n",
    "    \"cyt\" : \"see you tomorrow\",\n",
    "    \"dae\" : \"does anyone else\",\n",
    "    \"dbmib\" : \"do not bother me i am busy\",\n",
    "    \"diy\" : \"do it yourself\",\n",
    "    \"dm\" : \"direct message\",\n",
    "    \"dwh\" : \"during work hours\",\n",
    "    \"e123\" : \"easy as one two three\",\n",
    "    \"eet\" : \"eastern european time\",\n",
    "    \"eg\" : \"example\",\n",
    "    \"embm\" : \"early morning business meeting\",\n",
    "    \"encl\" : \"enclosed\",\n",
    "    \"encl.\" : \"enclosed\",\n",
    "    \"etc\" : \"and so on\",\n",
    "    \"faq\" : \"frequently asked questions\",\n",
    "    \"fawc\" : \"for anyone who cares\",\n",
    "    \"fb\" : \"facebook\",\n",
    "    \"fc\" : \"fingers crossed\",\n",
    "    \"fig\" : \"figure\",\n",
    "    \"fimh\" : \"forever in my heart\", \n",
    "    \"ft.\" : \"feet\",\n",
    "    \"ft\" : \"featuring\",\n",
    "    \"ftl\" : \"for the loss\",\n",
    "    \"ftw\" : \"for the win\",\n",
    "    \"fwiw\" : \"for what it is worth\",\n",
    "    \"fyi\" : \"for your information\",\n",
    "    \"g9\" : \"genius\",\n",
    "    \"gahoy\" : \"get a hold of yourself\",\n",
    "    \"gal\" : \"get a life\",\n",
    "    \"gcse\" : \"general certificate of secondary education\",\n",
    "    \"gfn\" : \"gone for now\",\n",
    "    \"gg\" : \"good game\",\n",
    "    \"gl\" : \"good luck\",\n",
    "    \"glhf\" : \"good luck have fun\",\n",
    "    \"gmt\" : \"greenwich mean time\",\n",
    "    \"gmta\" : \"great minds think alike\",\n",
    "    \"gn\" : \"good night\",\n",
    "    \"g.o.a.t\" : \"greatest of all time\",\n",
    "    \"goat\" : \"greatest of all time\",\n",
    "    \"goi\" : \"get over it\",\n",
    "    \"gps\" : \"global positioning system\",\n",
    "    \"gr8\" : \"great\",\n",
    "    \"gratz\" : \"congratulations\",\n",
    "    \"gyal\" : \"girl\",\n",
    "    \"h&c\" : \"hot and cold\",\n",
    "    \"hp\" : \"horsepower\",\n",
    "    \"hr\" : \"hour\",\n",
    "    \"hrh\" : \"his royal highness\",\n",
    "    \"ht\" : \"height\",\n",
    "    \"ibrb\" : \"i will be right back\",\n",
    "    \"ic\" : \"i see\",\n",
    "    \"icq\" : \"i seek you\",\n",
    "    \"icymi\" : \"in case you missed it\",\n",
    "    \"idc\" : \"i do not care\",\n",
    "    \"idgadf\" : \"i do not give a damn fuck\",\n",
    "    \"idgaf\" : \"i do not give a fuck\",\n",
    "    \"idk\" : \"i do not know\",\n",
    "    \"ie\" : \"that is\",\n",
    "    \"i.e\" : \"that is\",\n",
    "    \"ifyp\" : \"i feel your pain\",\n",
    "    \"IG\" : \"instagram\",\n",
    "    \"iirc\" : \"if i remember correctly\",\n",
    "    \"ilu\" : \"i love you\",\n",
    "    \"ily\" : \"i love you\",\n",
    "    \"imho\" : \"in my humble opinion\",\n",
    "    \"imo\" : \"in my opinion\",\n",
    "    \"imu\" : \"i miss you\",\n",
    "    \"iow\" : \"in other words\",\n",
    "    \"irl\" : \"in real life\",\n",
    "    \"j4f\" : \"just for fun\",\n",
    "    \"jic\" : \"just in case\",\n",
    "    \"jk\" : \"just kidding\",\n",
    "    \"jsyk\" : \"just so you know\",\n",
    "    \"l8r\" : \"later\",\n",
    "    \"lb\" : \"pound\",\n",
    "    \"lbs\" : \"pounds\",\n",
    "    \"ldr\" : \"long distance relationship\",\n",
    "    \"lmao\" : \"laugh my ass off\",\n",
    "    \"lmfao\" : \"laugh my fucking ass off\",\n",
    "    \"lol\" : \"laughing out loud\",\n",
    "    \"ltd\" : \"limited\",\n",
    "    \"ltns\" : \"long time no see\",\n",
    "    \"m8\" : \"mate\",\n",
    "    \"mf\" : \"motherfucker\",\n",
    "    \"mfs\" : \"motherfuckers\",\n",
    "    \"mfw\" : \"my face when\",\n",
    "    \"mofo\" : \"motherfucker\",\n",
    "    \"mph\" : \"miles per hour\",\n",
    "    \"mr\" : \"mister\",\n",
    "    \"mrw\" : \"my reaction when\",\n",
    "    \"ms\" : \"miss\",\n",
    "    \"mte\" : \"my thoughts exactly\",\n",
    "    \"nagi\" : \"not a good idea\",\n",
    "    \"nbc\" : \"national broadcasting company\",\n",
    "    \"nbd\" : \"not big deal\",\n",
    "    \"nfs\" : \"not for sale\",\n",
    "    \"ngl\" : \"not going to lie\",\n",
    "    \"nhs\" : \"national health service\",\n",
    "    \"nrn\" : \"no reply necessary\",\n",
    "    \"nsfl\" : \"not safe for life\",\n",
    "    \"nsfw\" : \"not safe for work\",\n",
    "    \"nth\" : \"nice to have\",\n",
    "    \"nvr\" : \"never\",\n",
    "    \"nyc\" : \"new york city\",\n",
    "    \"oc\" : \"original content\",\n",
    "    \"og\" : \"original\",\n",
    "    \"ohp\" : \"overhead projector\",\n",
    "    \"oic\" : \"oh i see\",\n",
    "    \"omdb\" : \"over my dead body\",\n",
    "    \"omg\" : \"oh my god\",\n",
    "    \"omw\" : \"on my way\",\n",
    "    \"p.a\" : \"per annum\",\n",
    "    \"p.m\" : \"after midday\",\n",
    "    \"pm\" : \"prime minister\",\n",
    "    \"poc\" : \"people of color\",\n",
    "    \"pov\" : \"point of view\",\n",
    "    \"pp\" : \"pages\",\n",
    "    \"ppl\" : \"people\",\n",
    "    \"prw\" : \"parents are watching\",\n",
    "    \"ps\" : \"postscript\",\n",
    "    \"pt\" : \"point\",\n",
    "    \"ptb\" : \"please text back\",\n",
    "    \"pto\" : \"please turn over\",\n",
    "    \"qpsa\" : \"what happens\", #\"que pasa\",\n",
    "    \"ratchet\" : \"rude\",\n",
    "    \"rbtl\" : \"read between the lines\",\n",
    "    \"rlrt\" : \"real life retweet\", \n",
    "    \"rofl\" : \"rolling on the floor laughing\",\n",
    "    \"roflol\" : \"rolling on the floor laughing out loud\",\n",
    "    \"rotflmao\" : \"rolling on the floor laughing my ass off\",\n",
    "    \"rt\" : \"retweet\",\n",
    "    \"ruok\" : \"are you ok\",\n",
    "    \"sfw\" : \"safe for work\",\n",
    "    \"sk8\" : \"skate\",\n",
    "    \"smh\" : \"shake my head\",\n",
    "    \"sq\" : \"square\",\n",
    "    \"srsly\" : \"seriously\", \n",
    "    \"ssdd\" : \"same stuff different day\",\n",
    "    \"tbh\" : \"to be honest\",\n",
    "    \"tbs\" : \"tablespooful\",\n",
    "    \"tbsp\" : \"tablespooful\",\n",
    "    \"tfw\" : \"that feeling when\",\n",
    "    \"thks\" : \"thank you\",\n",
    "    \"tho\" : \"though\",\n",
    "    \"thx\" : \"thank you\",\n",
    "    \"tia\" : \"thanks in advance\",\n",
    "    \"til\" : \"today i learned\",\n",
    "    \"tl;dr\" : \"too long i did not read\",\n",
    "    \"tldr\" : \"too long i did not read\",\n",
    "    \"tmb\" : \"tweet me back\",\n",
    "    \"tntl\" : \"trying not to laugh\",\n",
    "    \"ttyl\" : \"talk to you later\",\n",
    "    \"u\" : \"you\",\n",
    "    \"u2\" : \"you too\",\n",
    "    \"u4e\" : \"yours for ever\",\n",
    "    \"utc\" : \"coordinated universal time\",\n",
    "    \"w/\" : \"with\",\n",
    "    \"w/o\" : \"without\",\n",
    "    \"w8\" : \"wait\",\n",
    "    \"wassup\" : \"what is up\",\n",
    "    \"wb\" : \"welcome back\",\n",
    "    \"wtf\" : \"what the fuck\",\n",
    "    \"wtg\" : \"way to go\",\n",
    "    \"wtpa\" : \"where the party at\",\n",
    "    \"wuf\" : \"where are you from\",\n",
    "    \"wuzup\" : \"what is up\",\n",
    "    \"wywh\" : \"wish you were here\",\n",
    "    \"yd\" : \"yard\",\n",
    "    \"ygtr\" : \"you got that right\",\n",
    "    \"ynk\" : \"you never know\",\n",
    "    \"zzz\" : \"sleeping bored and tired\"\n",
    "}"
   ]
  },
  {
   "cell_type": "code",
   "execution_count": 17,
   "id": "8d6ff7c5",
   "metadata": {
    "execution": {
     "iopub.execute_input": "2023-01-08T14:14:06.420170Z",
     "iopub.status.busy": "2023-01-08T14:14:06.419400Z",
     "iopub.status.idle": "2023-01-08T14:14:06.424448Z",
     "shell.execute_reply": "2023-01-08T14:14:06.423622Z"
    },
    "papermill": {
     "duration": 0.027409,
     "end_time": "2023-01-08T14:14:06.426384",
     "exception": false,
     "start_time": "2023-01-08T14:14:06.398975",
     "status": "completed"
    },
    "tags": []
   },
   "outputs": [],
   "source": [
    "# Thanks to https://www.kaggle.com/rftexas/text-only-kfold-bert\n",
    "def convert_abbrev(word):\n",
    "    return abbreviations[word.lower()] if word.lower() in abbreviations.keys() else word"
   ]
  },
  {
   "cell_type": "code",
   "execution_count": 18,
   "id": "b518c3ed",
   "metadata": {
    "execution": {
     "iopub.execute_input": "2023-01-08T14:14:06.466318Z",
     "iopub.status.busy": "2023-01-08T14:14:06.465707Z",
     "iopub.status.idle": "2023-01-08T14:14:06.470469Z",
     "shell.execute_reply": "2023-01-08T14:14:06.469585Z"
    },
    "papermill": {
     "duration": 0.026774,
     "end_time": "2023-01-08T14:14:06.472377",
     "exception": false,
     "start_time": "2023-01-08T14:14:06.445603",
     "status": "completed"
    },
    "tags": []
   },
   "outputs": [],
   "source": [
    "# Thanks to https://www.kaggle.com/rftexas/text-only-kfold-bert\n",
    "def convert_abbrev_in_text(text):\n",
    "    tokenizer = NLTKWordTokenizer()\n",
    "    tokens = tokenizer.tokenize(text)\n",
    "    tokens = [convert_abbrev(word) for word in tokens]\n",
    "    text = ' '.join(tokens)\n",
    "    return text"
   ]
  },
  {
   "cell_type": "code",
   "execution_count": 19,
   "id": "4c8b9b06",
   "metadata": {
    "execution": {
     "iopub.execute_input": "2023-01-08T14:14:06.511736Z",
     "iopub.status.busy": "2023-01-08T14:14:06.510978Z",
     "iopub.status.idle": "2023-01-08T14:14:06.516240Z",
     "shell.execute_reply": "2023-01-08T14:14:06.515417Z"
    },
    "papermill": {
     "duration": 0.027081,
     "end_time": "2023-01-08T14:14:06.518194",
     "exception": false,
     "start_time": "2023-01-08T14:14:06.491113",
     "status": "completed"
    },
    "tags": []
   },
   "outputs": [],
   "source": [
    "#Removing Emojis\n",
    "def remove_emoji(text):\n",
    "    emoji_pattern = re.compile(\"[\"\n",
    "                           u\"\\U0001F600-\\U0001F64F\"  # emoticons\n",
    "                           u\"\\U0001F300-\\U0001F5FF\"  # symbols & pictographs\n",
    "                           u\"\\U0001F680-\\U0001F6FF\"  # transport & map symbols\n",
    "                           u\"\\U0001F1E0-\\U0001F1FF\"  # flags (iOS)\n",
    "                           u\"\\U00002702-\\U000027B0\"\n",
    "                           u\"\\U000024C2-\\U0001F251\"\n",
    "                           \"]+\", flags=re.UNICODE)\n",
    "    return emoji_pattern.sub(r'', text)"
   ]
  },
  {
   "cell_type": "code",
   "execution_count": 20,
   "id": "47ddb8a5",
   "metadata": {
    "execution": {
     "iopub.execute_input": "2023-01-08T14:14:06.557558Z",
     "iopub.status.busy": "2023-01-08T14:14:06.556831Z",
     "iopub.status.idle": "2023-01-08T14:14:06.562295Z",
     "shell.execute_reply": "2023-01-08T14:14:06.561478Z"
    },
    "papermill": {
     "duration": 0.027285,
     "end_time": "2023-01-08T14:14:06.564206",
     "exception": false,
     "start_time": "2023-01-08T14:14:06.536921",
     "status": "completed"
    },
    "tags": []
   },
   "outputs": [],
   "source": [
    "#Removing the stopwords\n",
    "def remove_stopwords(text):\n",
    "    tokenizer = NLTKWordTokenizer()\n",
    "    tokens = tokenizer.tokenize(text)\n",
    "    tokens = [token.strip() for token in tokens]\n",
    "    filtered_tokens = [token for token in tokens if token not in stopword_list]\n",
    "    filtered_text = ' '.join(filtered_tokens)    \n",
    "    return filtered_text"
   ]
  },
  {
   "cell_type": "code",
   "execution_count": 21,
   "id": "6db03be1",
   "metadata": {
    "execution": {
     "iopub.execute_input": "2023-01-08T14:14:06.603635Z",
     "iopub.status.busy": "2023-01-08T14:14:06.602816Z",
     "iopub.status.idle": "2023-01-08T14:14:06.607964Z",
     "shell.execute_reply": "2023-01-08T14:14:06.607143Z"
    },
    "papermill": {
     "duration": 0.026744,
     "end_time": "2023-01-08T14:14:06.609887",
     "exception": false,
     "start_time": "2023-01-08T14:14:06.583143",
     "status": "completed"
    },
    "tags": []
   },
   "outputs": [],
   "source": [
    "#Removing special characters\n",
    "def remove_special_characters(text, remove_digits=True):\n",
    "    pattern=r'[^a-zA-z0-9\\s]'\n",
    "    text=re.sub(pattern,'',text)\n",
    "    return text"
   ]
  },
  {
   "cell_type": "code",
   "execution_count": 22,
   "id": "db1e9859",
   "metadata": {
    "execution": {
     "iopub.execute_input": "2023-01-08T14:14:06.650211Z",
     "iopub.status.busy": "2023-01-08T14:14:06.648682Z",
     "iopub.status.idle": "2023-01-08T14:14:06.653740Z",
     "shell.execute_reply": "2023-01-08T14:14:06.652853Z"
    },
    "papermill": {
     "duration": 0.026651,
     "end_time": "2023-01-08T14:14:06.655611",
     "exception": false,
     "start_time": "2023-01-08T14:14:06.628960",
     "status": "completed"
    },
    "tags": []
   },
   "outputs": [],
   "source": [
    "#Removing punctuations\n",
    "def remove_punct(text):\n",
    "    table=str.maketrans('','',string.punctuation)\n",
    "    return text.translate(table)"
   ]
  },
  {
   "cell_type": "code",
   "execution_count": 23,
   "id": "dc3ee591",
   "metadata": {
    "execution": {
     "iopub.execute_input": "2023-01-08T14:14:06.726264Z",
     "iopub.status.busy": "2023-01-08T14:14:06.725616Z",
     "iopub.status.idle": "2023-01-08T14:14:06.735065Z",
     "shell.execute_reply": "2023-01-08T14:14:06.732243Z"
    },
    "papermill": {
     "duration": 0.064501,
     "end_time": "2023-01-08T14:14:06.740285",
     "exception": false,
     "start_time": "2023-01-08T14:14:06.675784",
     "status": "completed"
    },
    "tags": []
   },
   "outputs": [],
   "source": [
    "#Removing the html strips\n",
    "def strip_html(text):\n",
    "    soup = BeautifulSoup(text, \"html.parser\")\n",
    "    return soup.get_text()\n",
    "\n",
    "#Removing the square brackets\n",
    "def remove_between_square_brackets(text):\n",
    "    return re.sub('\\[[^]]*\\]', '', text)\n",
    "\n",
    "#Removing the noisy text\n",
    "def denoise_text(text):\n",
    "    text = strip_html(text)\n",
    "    text = remove_between_square_brackets(text) \n",
    "    return text"
   ]
  },
  {
   "cell_type": "code",
   "execution_count": 24,
   "id": "91d7ffe8",
   "metadata": {
    "execution": {
     "iopub.execute_input": "2023-01-08T14:14:06.803492Z",
     "iopub.status.busy": "2023-01-08T14:14:06.803216Z",
     "iopub.status.idle": "2023-01-08T14:14:06.807600Z",
     "shell.execute_reply": "2023-01-08T14:14:06.806726Z"
    },
    "papermill": {
     "duration": 0.025843,
     "end_time": "2023-01-08T14:14:06.809526",
     "exception": false,
     "start_time": "2023-01-08T14:14:06.783683",
     "status": "completed"
    },
    "tags": []
   },
   "outputs": [],
   "source": [
    "#Removing URL\n",
    "def remove_URL(text):\n",
    "    url = re.compile(r'https?://\\S+|www\\.\\S+')\n",
    "    return url.sub(r'',text)"
   ]
  },
  {
   "cell_type": "code",
   "execution_count": 25,
   "id": "7eb4b076",
   "metadata": {
    "execution": {
     "iopub.execute_input": "2023-01-08T14:14:06.848468Z",
     "iopub.status.busy": "2023-01-08T14:14:06.847601Z",
     "iopub.status.idle": "2023-01-08T14:14:06.853083Z",
     "shell.execute_reply": "2023-01-08T14:14:06.852280Z"
    },
    "papermill": {
     "duration": 0.02692,
     "end_time": "2023-01-08T14:14:06.855054",
     "exception": false,
     "start_time": "2023-01-08T14:14:06.828134",
     "status": "completed"
    },
    "tags": []
   },
   "outputs": [],
   "source": [
    "#Collect all functions\n",
    "def clean(text):\n",
    "    text = text.lower() #Lets make it lowercase\n",
    "    text = remove_URL(text)\n",
    "    text = remove_emoji(text)\n",
    "    text = denoise_text(text)\n",
    "    text = convert_abbrev_in_text(text)\n",
    "    text = remove_stopwords(text)\n",
    "    text = remove_punct(text)\n",
    "    text = remove_special_characters(text)\n",
    "    return text"
   ]
  },
  {
   "cell_type": "code",
   "execution_count": 26,
   "id": "dd0b0c54",
   "metadata": {
    "execution": {
     "iopub.execute_input": "2023-01-08T14:14:06.894150Z",
     "iopub.status.busy": "2023-01-08T14:14:06.893422Z",
     "iopub.status.idle": "2023-01-08T14:14:29.361529Z",
     "shell.execute_reply": "2023-01-08T14:14:29.360539Z"
    },
    "papermill": {
     "duration": 22.489652,
     "end_time": "2023-01-08T14:14:29.363584",
     "exception": false,
     "start_time": "2023-01-08T14:14:06.873932",
     "status": "completed"
    },
    "tags": []
   },
   "outputs": [
    {
     "data": {
      "text/html": [
       "<div>\n",
       "<style scoped>\n",
       "    .dataframe tbody tr th:only-of-type {\n",
       "        vertical-align: middle;\n",
       "    }\n",
       "\n",
       "    .dataframe tbody tr th {\n",
       "        vertical-align: top;\n",
       "    }\n",
       "\n",
       "    .dataframe thead th {\n",
       "        text-align: right;\n",
       "    }\n",
       "</style>\n",
       "<table border=\"1\" class=\"dataframe\">\n",
       "  <thead>\n",
       "    <tr style=\"text-align: right;\">\n",
       "      <th></th>\n",
       "      <th>Text</th>\n",
       "      <th>Sentiment</th>\n",
       "      <th>length_text</th>\n",
       "      <th>Text_clean</th>\n",
       "    </tr>\n",
       "  </thead>\n",
       "  <tbody>\n",
       "    <tr>\n",
       "      <th>0</th>\n",
       "      <td>@MeNyrbie @Phil_Gahan @Chrisitv https://t.co/i...</td>\n",
       "      <td>Neutral</td>\n",
       "      <td>111</td>\n",
       "      <td>menyrbie  philgahan  chrisitv</td>\n",
       "    </tr>\n",
       "    <tr>\n",
       "      <th>1</th>\n",
       "      <td>advice Talk to your neighbours family to excha...</td>\n",
       "      <td>Positive</td>\n",
       "      <td>237</td>\n",
       "      <td>advice talk neighbours family exchange phone n...</td>\n",
       "    </tr>\n",
       "    <tr>\n",
       "      <th>2</th>\n",
       "      <td>Coronavirus Australia: Woolworths to give elde...</td>\n",
       "      <td>Positive</td>\n",
       "      <td>131</td>\n",
       "      <td>coronavirus australia  woolworths give elderly...</td>\n",
       "    </tr>\n",
       "    <tr>\n",
       "      <th>3</th>\n",
       "      <td>My food stock is not the only one which is emp...</td>\n",
       "      <td>Positive</td>\n",
       "      <td>306</td>\n",
       "      <td>food stock one empty  please  nt panic  enough...</td>\n",
       "    </tr>\n",
       "    <tr>\n",
       "      <th>4</th>\n",
       "      <td>Me, ready to go at supermarket during the #COV...</td>\n",
       "      <td>Extremely Negative</td>\n",
       "      <td>310</td>\n",
       "      <td>ready go supermarket  covid19 outbreak m para...</td>\n",
       "    </tr>\n",
       "  </tbody>\n",
       "</table>\n",
       "</div>"
      ],
      "text/plain": [
       "                                                Text           Sentiment  \\\n",
       "0  @MeNyrbie @Phil_Gahan @Chrisitv https://t.co/i...             Neutral   \n",
       "1  advice Talk to your neighbours family to excha...            Positive   \n",
       "2  Coronavirus Australia: Woolworths to give elde...            Positive   \n",
       "3  My food stock is not the only one which is emp...            Positive   \n",
       "4  Me, ready to go at supermarket during the #COV...  Extremely Negative   \n",
       "\n",
       "   length_text                                         Text_clean  \n",
       "0          111                      menyrbie  philgahan  chrisitv  \n",
       "1          237  advice talk neighbours family exchange phone n...  \n",
       "2          131  coronavirus australia  woolworths give elderly...  \n",
       "3          306  food stock one empty  please  nt panic  enough...  \n",
       "4          310   ready go supermarket  covid19 outbreak m para...  "
      ]
     },
     "execution_count": 26,
     "metadata": {},
     "output_type": "execute_result"
    }
   ],
   "source": [
    "train_df['Text_clean'] = train_df['Text'].apply(clean)\n",
    "test_df['Text_clean'] = test_df['Text'].apply(clean)\n",
    "train_df.head()"
   ]
  },
  {
   "cell_type": "code",
   "execution_count": 27,
   "id": "1c78a9f5",
   "metadata": {
    "execution": {
     "iopub.execute_input": "2023-01-08T14:14:29.404376Z",
     "iopub.status.busy": "2023-01-08T14:14:29.403525Z",
     "iopub.status.idle": "2023-01-08T14:14:29.408521Z",
     "shell.execute_reply": "2023-01-08T14:14:29.407595Z"
    },
    "papermill": {
     "duration": 0.027146,
     "end_time": "2023-01-08T14:14:29.410481",
     "exception": false,
     "start_time": "2023-01-08T14:14:29.383335",
     "status": "completed"
    },
    "tags": []
   },
   "outputs": [],
   "source": [
    "#Stemming the text\n",
    "def simple_stemmer(text):\n",
    "    ps=SnowballStemmer(language='english')\n",
    "    text= ' '.join([ps.stem(word) for word in text.split()])\n",
    "    return text"
   ]
  },
  {
   "cell_type": "code",
   "execution_count": 28,
   "id": "ee50863f",
   "metadata": {
    "execution": {
     "iopub.execute_input": "2023-01-08T14:14:29.452079Z",
     "iopub.status.busy": "2023-01-08T14:14:29.451258Z",
     "iopub.status.idle": "2023-01-08T14:14:29.456396Z",
     "shell.execute_reply": "2023-01-08T14:14:29.455564Z"
    },
    "papermill": {
     "duration": 0.028505,
     "end_time": "2023-01-08T14:14:29.458373",
     "exception": false,
     "start_time": "2023-01-08T14:14:29.429868",
     "status": "completed"
    },
    "tags": []
   },
   "outputs": [],
   "source": [
    "#Lemmatizing the text\n",
    "def lemmatize_word(text):\n",
    "    wnl = WordNetLemmatizer()\n",
    "    text= ' '.join([wnl.lemmatize(word) for word in text.split()])\n",
    "    return text"
   ]
  },
  {
   "cell_type": "code",
   "execution_count": 29,
   "id": "13ec74ec",
   "metadata": {
    "execution": {
     "iopub.execute_input": "2023-01-08T14:14:29.498435Z",
     "iopub.status.busy": "2023-01-08T14:14:29.497590Z",
     "iopub.status.idle": "2023-01-08T14:14:46.127591Z",
     "shell.execute_reply": "2023-01-08T14:14:46.126595Z"
    },
    "papermill": {
     "duration": 16.652559,
     "end_time": "2023-01-08T14:14:46.130211",
     "exception": false,
     "start_time": "2023-01-08T14:14:29.477652",
     "status": "completed"
    },
    "tags": []
   },
   "outputs": [],
   "source": [
    "train_df['Text_clean_stemmer'] = train_df['Text_clean'].apply(simple_stemmer)\n",
    "test_df['Text_clean_stemmer'] = test_df['Text_clean'].apply(simple_stemmer)\n",
    "train_df['Text_clean_lemma'] = train_df['Text_clean'].apply(lemmatize_word)\n",
    "test_df['Text_clean_lemma'] = test_df['Text_clean'].apply(lemmatize_word)"
   ]
  },
  {
   "cell_type": "code",
   "execution_count": 30,
   "id": "052de316",
   "metadata": {
    "execution": {
     "iopub.execute_input": "2023-01-08T14:14:46.171002Z",
     "iopub.status.busy": "2023-01-08T14:14:46.170609Z",
     "iopub.status.idle": "2023-01-08T14:14:46.184714Z",
     "shell.execute_reply": "2023-01-08T14:14:46.183730Z"
    },
    "papermill": {
     "duration": 0.036546,
     "end_time": "2023-01-08T14:14:46.186774",
     "exception": false,
     "start_time": "2023-01-08T14:14:46.150228",
     "status": "completed"
    },
    "tags": []
   },
   "outputs": [
    {
     "data": {
      "text/html": [
       "<div>\n",
       "<style scoped>\n",
       "    .dataframe tbody tr th:only-of-type {\n",
       "        vertical-align: middle;\n",
       "    }\n",
       "\n",
       "    .dataframe tbody tr th {\n",
       "        vertical-align: top;\n",
       "    }\n",
       "\n",
       "    .dataframe thead th {\n",
       "        text-align: right;\n",
       "    }\n",
       "</style>\n",
       "<table border=\"1\" class=\"dataframe\">\n",
       "  <thead>\n",
       "    <tr style=\"text-align: right;\">\n",
       "      <th></th>\n",
       "      <th>Text</th>\n",
       "      <th>Sentiment</th>\n",
       "      <th>length_text</th>\n",
       "      <th>Text_clean</th>\n",
       "      <th>Text_clean_stemmer</th>\n",
       "      <th>Text_clean_lemma</th>\n",
       "    </tr>\n",
       "  </thead>\n",
       "  <tbody>\n",
       "    <tr>\n",
       "      <th>0</th>\n",
       "      <td>@MeNyrbie @Phil_Gahan @Chrisitv https://t.co/i...</td>\n",
       "      <td>Neutral</td>\n",
       "      <td>111</td>\n",
       "      <td>menyrbie  philgahan  chrisitv</td>\n",
       "      <td>menyrbi philgahan chrisitv</td>\n",
       "      <td>menyrbie philgahan chrisitv</td>\n",
       "    </tr>\n",
       "    <tr>\n",
       "      <th>1</th>\n",
       "      <td>advice Talk to your neighbours family to excha...</td>\n",
       "      <td>Positive</td>\n",
       "      <td>237</td>\n",
       "      <td>advice talk neighbours family exchange phone n...</td>\n",
       "      <td>advic talk neighbour famili exchang phone numb...</td>\n",
       "      <td>advice talk neighbour family exchange phone nu...</td>\n",
       "    </tr>\n",
       "    <tr>\n",
       "      <th>2</th>\n",
       "      <td>Coronavirus Australia: Woolworths to give elde...</td>\n",
       "      <td>Positive</td>\n",
       "      <td>131</td>\n",
       "      <td>coronavirus australia  woolworths give elderly...</td>\n",
       "      <td>coronavirus australia woolworth give elder dis...</td>\n",
       "      <td>coronavirus australia woolworth give elderly d...</td>\n",
       "    </tr>\n",
       "    <tr>\n",
       "      <th>3</th>\n",
       "      <td>My food stock is not the only one which is emp...</td>\n",
       "      <td>Positive</td>\n",
       "      <td>306</td>\n",
       "      <td>food stock one empty  please  nt panic  enough...</td>\n",
       "      <td>food stock one empti pleas nt panic enough foo...</td>\n",
       "      <td>food stock one empty please nt panic enough fo...</td>\n",
       "    </tr>\n",
       "    <tr>\n",
       "      <th>4</th>\n",
       "      <td>Me, ready to go at supermarket during the #COV...</td>\n",
       "      <td>Extremely Negative</td>\n",
       "      <td>310</td>\n",
       "      <td>ready go supermarket  covid19 outbreak m para...</td>\n",
       "      <td>readi go supermarket covid19 outbreak m parano...</td>\n",
       "      <td>ready go supermarket covid19 outbreak m parano...</td>\n",
       "    </tr>\n",
       "  </tbody>\n",
       "</table>\n",
       "</div>"
      ],
      "text/plain": [
       "                                                Text           Sentiment  \\\n",
       "0  @MeNyrbie @Phil_Gahan @Chrisitv https://t.co/i...             Neutral   \n",
       "1  advice Talk to your neighbours family to excha...            Positive   \n",
       "2  Coronavirus Australia: Woolworths to give elde...            Positive   \n",
       "3  My food stock is not the only one which is emp...            Positive   \n",
       "4  Me, ready to go at supermarket during the #COV...  Extremely Negative   \n",
       "\n",
       "   length_text                                         Text_clean  \\\n",
       "0          111                      menyrbie  philgahan  chrisitv   \n",
       "1          237  advice talk neighbours family exchange phone n...   \n",
       "2          131  coronavirus australia  woolworths give elderly...   \n",
       "3          306  food stock one empty  please  nt panic  enough...   \n",
       "4          310   ready go supermarket  covid19 outbreak m para...   \n",
       "\n",
       "                                  Text_clean_stemmer  \\\n",
       "0                         menyrbi philgahan chrisitv   \n",
       "1  advic talk neighbour famili exchang phone numb...   \n",
       "2  coronavirus australia woolworth give elder dis...   \n",
       "3  food stock one empti pleas nt panic enough foo...   \n",
       "4  readi go supermarket covid19 outbreak m parano...   \n",
       "\n",
       "                                    Text_clean_lemma  \n",
       "0                        menyrbie philgahan chrisitv  \n",
       "1  advice talk neighbour family exchange phone nu...  \n",
       "2  coronavirus australia woolworth give elderly d...  \n",
       "3  food stock one empty please nt panic enough fo...  \n",
       "4  ready go supermarket covid19 outbreak m parano...  "
      ]
     },
     "execution_count": 30,
     "metadata": {},
     "output_type": "execute_result"
    }
   ],
   "source": [
    "train_df.head()"
   ]
  },
  {
   "cell_type": "markdown",
   "id": "d4fac3d9",
   "metadata": {
    "papermill": {
     "duration": 0.019343,
     "end_time": "2023-01-08T14:14:46.225395",
     "exception": false,
     "start_time": "2023-01-08T14:14:46.206052",
     "status": "completed"
    },
    "tags": []
   },
   "source": [
    "### Encoding the sentiment labels"
   ]
  },
  {
   "cell_type": "code",
   "execution_count": 31,
   "id": "e96e3761",
   "metadata": {
    "execution": {
     "iopub.execute_input": "2023-01-08T14:14:46.265976Z",
     "iopub.status.busy": "2023-01-08T14:14:46.265011Z",
     "iopub.status.idle": "2023-01-08T14:14:46.274570Z",
     "shell.execute_reply": "2023-01-08T14:14:46.273573Z"
    },
    "id": "AR9LZaz2uKpD",
    "papermill": {
     "duration": 0.032017,
     "end_time": "2023-01-08T14:14:46.276581",
     "exception": false,
     "start_time": "2023-01-08T14:14:46.244564",
     "status": "completed"
    },
    "tags": []
   },
   "outputs": [
    {
     "data": {
      "text/plain": [
       "array(['Neutral', 'Positive', 'Extremely Negative', 'Negative',\n",
       "       'Extremely Positive'], dtype=object)"
      ]
     },
     "execution_count": 31,
     "metadata": {},
     "output_type": "execute_result"
    }
   ],
   "source": [
    "train_df['Sentiment'].unique()"
   ]
  },
  {
   "cell_type": "code",
   "execution_count": 32,
   "id": "c29ec787",
   "metadata": {
    "execution": {
     "iopub.execute_input": "2023-01-08T14:14:46.317745Z",
     "iopub.status.busy": "2023-01-08T14:14:46.316880Z",
     "iopub.status.idle": "2023-01-08T14:14:46.326339Z",
     "shell.execute_reply": "2023-01-08T14:14:46.324901Z"
    },
    "papermill": {
     "duration": 0.032602,
     "end_time": "2023-01-08T14:14:46.328859",
     "exception": false,
     "start_time": "2023-01-08T14:14:46.296257",
     "status": "completed"
    },
    "tags": []
   },
   "outputs": [
    {
     "name": "stdout",
     "output_type": "stream",
     "text": [
      "Encoded sentiment values: {'Neutral': 0, 'Positive': 1, 'Extremely Negative': 2, 'Negative': 3, 'Extremely Positive': 4}\n"
     ]
    }
   ],
   "source": [
    "idx_to_sentiment = {k: v for k, v in enumerate(train_df['Sentiment'].unique())}\n",
    "sentiment_to_idx = {v: k for k, v in idx_to_sentiment.items()}\n",
    "print(f'Encoded sentiment values: {sentiment_to_idx}')"
   ]
  },
  {
   "cell_type": "code",
   "execution_count": 33,
   "id": "f3eaf738",
   "metadata": {
    "execution": {
     "iopub.execute_input": "2023-01-08T14:14:46.368862Z",
     "iopub.status.busy": "2023-01-08T14:14:46.368570Z",
     "iopub.status.idle": "2023-01-08T14:14:46.748054Z",
     "shell.execute_reply": "2023-01-08T14:14:46.747070Z"
    },
    "papermill": {
     "duration": 0.402271,
     "end_time": "2023-01-08T14:14:46.750817",
     "exception": false,
     "start_time": "2023-01-08T14:14:46.348546",
     "status": "completed"
    },
    "tags": []
   },
   "outputs": [],
   "source": [
    "train_df['Label'] = train_df['Sentiment'].apply(lambda x: sentiment_to_idx[x])\n",
    "train_df['Label'] = train_df['Label'].apply(lambda x: torch.tensor(x))"
   ]
  },
  {
   "cell_type": "code",
   "execution_count": 34,
   "id": "9c5682b5",
   "metadata": {
    "execution": {
     "iopub.execute_input": "2023-01-08T14:14:46.792118Z",
     "iopub.status.busy": "2023-01-08T14:14:46.791292Z",
     "iopub.status.idle": "2023-01-08T14:14:46.804007Z",
     "shell.execute_reply": "2023-01-08T14:14:46.803026Z"
    },
    "papermill": {
     "duration": 0.035024,
     "end_time": "2023-01-08T14:14:46.805885",
     "exception": false,
     "start_time": "2023-01-08T14:14:46.770861",
     "status": "completed"
    },
    "tags": []
   },
   "outputs": [
    {
     "data": {
      "text/html": [
       "<div>\n",
       "<style scoped>\n",
       "    .dataframe tbody tr th:only-of-type {\n",
       "        vertical-align: middle;\n",
       "    }\n",
       "\n",
       "    .dataframe tbody tr th {\n",
       "        vertical-align: top;\n",
       "    }\n",
       "\n",
       "    .dataframe thead th {\n",
       "        text-align: right;\n",
       "    }\n",
       "</style>\n",
       "<table border=\"1\" class=\"dataframe\">\n",
       "  <thead>\n",
       "    <tr style=\"text-align: right;\">\n",
       "      <th></th>\n",
       "      <th>Text</th>\n",
       "      <th>Sentiment</th>\n",
       "      <th>length_text</th>\n",
       "      <th>Text_clean</th>\n",
       "      <th>Text_clean_stemmer</th>\n",
       "      <th>Text_clean_lemma</th>\n",
       "      <th>Label</th>\n",
       "    </tr>\n",
       "  </thead>\n",
       "  <tbody>\n",
       "    <tr>\n",
       "      <th>0</th>\n",
       "      <td>@MeNyrbie @Phil_Gahan @Chrisitv https://t.co/i...</td>\n",
       "      <td>Neutral</td>\n",
       "      <td>111</td>\n",
       "      <td>menyrbie  philgahan  chrisitv</td>\n",
       "      <td>menyrbi philgahan chrisitv</td>\n",
       "      <td>menyrbie philgahan chrisitv</td>\n",
       "      <td>tensor(0)</td>\n",
       "    </tr>\n",
       "    <tr>\n",
       "      <th>1</th>\n",
       "      <td>advice Talk to your neighbours family to excha...</td>\n",
       "      <td>Positive</td>\n",
       "      <td>237</td>\n",
       "      <td>advice talk neighbours family exchange phone n...</td>\n",
       "      <td>advic talk neighbour famili exchang phone numb...</td>\n",
       "      <td>advice talk neighbour family exchange phone nu...</td>\n",
       "      <td>tensor(1)</td>\n",
       "    </tr>\n",
       "    <tr>\n",
       "      <th>2</th>\n",
       "      <td>Coronavirus Australia: Woolworths to give elde...</td>\n",
       "      <td>Positive</td>\n",
       "      <td>131</td>\n",
       "      <td>coronavirus australia  woolworths give elderly...</td>\n",
       "      <td>coronavirus australia woolworth give elder dis...</td>\n",
       "      <td>coronavirus australia woolworth give elderly d...</td>\n",
       "      <td>tensor(1)</td>\n",
       "    </tr>\n",
       "    <tr>\n",
       "      <th>3</th>\n",
       "      <td>My food stock is not the only one which is emp...</td>\n",
       "      <td>Positive</td>\n",
       "      <td>306</td>\n",
       "      <td>food stock one empty  please  nt panic  enough...</td>\n",
       "      <td>food stock one empti pleas nt panic enough foo...</td>\n",
       "      <td>food stock one empty please nt panic enough fo...</td>\n",
       "      <td>tensor(1)</td>\n",
       "    </tr>\n",
       "    <tr>\n",
       "      <th>4</th>\n",
       "      <td>Me, ready to go at supermarket during the #COV...</td>\n",
       "      <td>Extremely Negative</td>\n",
       "      <td>310</td>\n",
       "      <td>ready go supermarket  covid19 outbreak m para...</td>\n",
       "      <td>readi go supermarket covid19 outbreak m parano...</td>\n",
       "      <td>ready go supermarket covid19 outbreak m parano...</td>\n",
       "      <td>tensor(2)</td>\n",
       "    </tr>\n",
       "  </tbody>\n",
       "</table>\n",
       "</div>"
      ],
      "text/plain": [
       "                                                Text           Sentiment  \\\n",
       "0  @MeNyrbie @Phil_Gahan @Chrisitv https://t.co/i...             Neutral   \n",
       "1  advice Talk to your neighbours family to excha...            Positive   \n",
       "2  Coronavirus Australia: Woolworths to give elde...            Positive   \n",
       "3  My food stock is not the only one which is emp...            Positive   \n",
       "4  Me, ready to go at supermarket during the #COV...  Extremely Negative   \n",
       "\n",
       "   length_text                                         Text_clean  \\\n",
       "0          111                      menyrbie  philgahan  chrisitv   \n",
       "1          237  advice talk neighbours family exchange phone n...   \n",
       "2          131  coronavirus australia  woolworths give elderly...   \n",
       "3          306  food stock one empty  please  nt panic  enough...   \n",
       "4          310   ready go supermarket  covid19 outbreak m para...   \n",
       "\n",
       "                                  Text_clean_stemmer  \\\n",
       "0                         menyrbi philgahan chrisitv   \n",
       "1  advic talk neighbour famili exchang phone numb...   \n",
       "2  coronavirus australia woolworth give elder dis...   \n",
       "3  food stock one empti pleas nt panic enough foo...   \n",
       "4  readi go supermarket covid19 outbreak m parano...   \n",
       "\n",
       "                                    Text_clean_lemma      Label  \n",
       "0                        menyrbie philgahan chrisitv  tensor(0)  \n",
       "1  advice talk neighbour family exchange phone nu...  tensor(1)  \n",
       "2  coronavirus australia woolworth give elderly d...  tensor(1)  \n",
       "3  food stock one empty please nt panic enough fo...  tensor(1)  \n",
       "4  ready go supermarket covid19 outbreak m parano...  tensor(2)  "
      ]
     },
     "execution_count": 34,
     "metadata": {},
     "output_type": "execute_result"
    }
   ],
   "source": [
    "train_df.head()"
   ]
  },
  {
   "cell_type": "code",
   "execution_count": 35,
   "id": "b15706ba",
   "metadata": {
    "execution": {
     "iopub.execute_input": "2023-01-08T14:14:46.846906Z",
     "iopub.status.busy": "2023-01-08T14:14:46.846145Z",
     "iopub.status.idle": "2023-01-08T14:14:46.856814Z",
     "shell.execute_reply": "2023-01-08T14:14:46.855845Z"
    },
    "id": "CYp2Xc_GgfLX",
    "papermill": {
     "duration": 0.032961,
     "end_time": "2023-01-08T14:14:46.858756",
     "exception": false,
     "start_time": "2023-01-08T14:14:46.825795",
     "status": "completed"
    },
    "tags": []
   },
   "outputs": [
    {
     "data": {
      "text/html": [
       "<div>\n",
       "<style scoped>\n",
       "    .dataframe tbody tr th:only-of-type {\n",
       "        vertical-align: middle;\n",
       "    }\n",
       "\n",
       "    .dataframe tbody tr th {\n",
       "        vertical-align: top;\n",
       "    }\n",
       "\n",
       "    .dataframe thead th {\n",
       "        text-align: right;\n",
       "    }\n",
       "</style>\n",
       "<table border=\"1\" class=\"dataframe\">\n",
       "  <thead>\n",
       "    <tr style=\"text-align: right;\">\n",
       "      <th></th>\n",
       "      <th>Text</th>\n",
       "      <th>Text_clean</th>\n",
       "      <th>Text_clean_stemmer</th>\n",
       "      <th>Text_clean_lemma</th>\n",
       "    </tr>\n",
       "    <tr>\n",
       "      <th>id</th>\n",
       "      <th></th>\n",
       "      <th></th>\n",
       "      <th></th>\n",
       "      <th></th>\n",
       "    </tr>\n",
       "  </thead>\n",
       "  <tbody>\n",
       "    <tr>\n",
       "      <th>787bc85b-20d4-46d8-84a0-562a2527f684</th>\n",
       "      <td>TRENDING: New Yorkers encounter empty supermar...</td>\n",
       "      <td>trending  new yorkers encounter empty supermar...</td>\n",
       "      <td>trend new yorker encount empti supermarket she...</td>\n",
       "      <td>trending new yorkers encounter empty supermark...</td>\n",
       "    </tr>\n",
       "    <tr>\n",
       "      <th>17e934cd-ba94-4d4f-9ac0-ead202abe241</th>\n",
       "      <td>When I couldn't find hand sanitizer at Fred Me...</td>\n",
       "      <td>could nt find hand sanitizer fred meyer  turne...</td>\n",
       "      <td>could nt find hand sanit fred meyer turn amazo...</td>\n",
       "      <td>could nt find hand sanitizer fred meyer turned...</td>\n",
       "    </tr>\n",
       "    <tr>\n",
       "      <th>5914534b-2b0f-4de8-bb8a-e25587697e0d</th>\n",
       "      <td>Find out how you can protect yourself and love...</td>\n",
       "      <td>find protect loved ones  coronavirus</td>\n",
       "      <td>find protect love one coronavirus</td>\n",
       "      <td>find protect loved one coronavirus</td>\n",
       "    </tr>\n",
       "    <tr>\n",
       "      <th>cdf06cfe-29ae-48ee-ac6d-be448103ba45</th>\n",
       "      <td>#Panic buying hits #NewYork City as anxious sh...</td>\n",
       "      <td>panic buying hits  newyork city anxious shopp...</td>\n",
       "      <td>panic buy hit newyork citi anxious shopper sto...</td>\n",
       "      <td>panic buying hit newyork city anxious shopper ...</td>\n",
       "    </tr>\n",
       "    <tr>\n",
       "      <th>aff63979-0256-4fb9-a2d9-86a3d3ca5470</th>\n",
       "      <td>#toiletpaper #dunnypaper #coronavirus #coronav...</td>\n",
       "      <td>toiletpaper  dunnypaper  coronavirus  coronav...</td>\n",
       "      <td>toiletpap dunnypap coronavirus coronavirusaust...</td>\n",
       "      <td>toiletpaper dunnypaper coronavirus coronavirus...</td>\n",
       "    </tr>\n",
       "  </tbody>\n",
       "</table>\n",
       "</div>"
      ],
      "text/plain": [
       "                                                                                   Text  \\\n",
       "id                                                                                        \n",
       "787bc85b-20d4-46d8-84a0-562a2527f684  TRENDING: New Yorkers encounter empty supermar...   \n",
       "17e934cd-ba94-4d4f-9ac0-ead202abe241  When I couldn't find hand sanitizer at Fred Me...   \n",
       "5914534b-2b0f-4de8-bb8a-e25587697e0d  Find out how you can protect yourself and love...   \n",
       "cdf06cfe-29ae-48ee-ac6d-be448103ba45  #Panic buying hits #NewYork City as anxious sh...   \n",
       "aff63979-0256-4fb9-a2d9-86a3d3ca5470  #toiletpaper #dunnypaper #coronavirus #coronav...   \n",
       "\n",
       "                                                                             Text_clean  \\\n",
       "id                                                                                        \n",
       "787bc85b-20d4-46d8-84a0-562a2527f684  trending  new yorkers encounter empty supermar...   \n",
       "17e934cd-ba94-4d4f-9ac0-ead202abe241  could nt find hand sanitizer fred meyer  turne...   \n",
       "5914534b-2b0f-4de8-bb8a-e25587697e0d              find protect loved ones  coronavirus    \n",
       "cdf06cfe-29ae-48ee-ac6d-be448103ba45   panic buying hits  newyork city anxious shopp...   \n",
       "aff63979-0256-4fb9-a2d9-86a3d3ca5470   toiletpaper  dunnypaper  coronavirus  coronav...   \n",
       "\n",
       "                                                                     Text_clean_stemmer  \\\n",
       "id                                                                                        \n",
       "787bc85b-20d4-46d8-84a0-562a2527f684  trend new yorker encount empti supermarket she...   \n",
       "17e934cd-ba94-4d4f-9ac0-ead202abe241  could nt find hand sanit fred meyer turn amazo...   \n",
       "5914534b-2b0f-4de8-bb8a-e25587697e0d                  find protect love one coronavirus   \n",
       "cdf06cfe-29ae-48ee-ac6d-be448103ba45  panic buy hit newyork citi anxious shopper sto...   \n",
       "aff63979-0256-4fb9-a2d9-86a3d3ca5470  toiletpap dunnypap coronavirus coronavirusaust...   \n",
       "\n",
       "                                                                       Text_clean_lemma  \n",
       "id                                                                                       \n",
       "787bc85b-20d4-46d8-84a0-562a2527f684  trending new yorkers encounter empty supermark...  \n",
       "17e934cd-ba94-4d4f-9ac0-ead202abe241  could nt find hand sanitizer fred meyer turned...  \n",
       "5914534b-2b0f-4de8-bb8a-e25587697e0d                 find protect loved one coronavirus  \n",
       "cdf06cfe-29ae-48ee-ac6d-be448103ba45  panic buying hit newyork city anxious shopper ...  \n",
       "aff63979-0256-4fb9-a2d9-86a3d3ca5470  toiletpaper dunnypaper coronavirus coronavirus...  "
      ]
     },
     "execution_count": 35,
     "metadata": {},
     "output_type": "execute_result"
    }
   ],
   "source": [
    "test_df.head()"
   ]
  },
  {
   "cell_type": "code",
   "execution_count": 36,
   "id": "54fa7804",
   "metadata": {
    "execution": {
     "iopub.execute_input": "2023-01-08T14:14:46.900036Z",
     "iopub.status.busy": "2023-01-08T14:14:46.899287Z",
     "iopub.status.idle": "2023-01-08T14:14:46.924026Z",
     "shell.execute_reply": "2023-01-08T14:14:46.923218Z"
    },
    "papermill": {
     "duration": 0.04743,
     "end_time": "2023-01-08T14:14:46.926016",
     "exception": false,
     "start_time": "2023-01-08T14:14:46.878586",
     "status": "completed"
    },
    "tags": []
   },
   "outputs": [],
   "source": [
    "train_df['length_text_clean'] = train_df['Text_clean'].apply(length)"
   ]
  },
  {
   "cell_type": "code",
   "execution_count": 37,
   "id": "f13909a9",
   "metadata": {
    "execution": {
     "iopub.execute_input": "2023-01-08T14:14:46.967412Z",
     "iopub.status.busy": "2023-01-08T14:14:46.966650Z",
     "iopub.status.idle": "2023-01-08T14:14:47.337549Z",
     "shell.execute_reply": "2023-01-08T14:14:47.336564Z"
    },
    "papermill": {
     "duration": 0.393801,
     "end_time": "2023-01-08T14:14:47.339707",
     "exception": false,
     "start_time": "2023-01-08T14:14:46.945906",
     "status": "completed"
    },
    "tags": []
   },
   "outputs": [
    {
     "data": {
      "image/png": "[encoded data removed]",
      "text/plain": [
       "<Figure size 1296x432 with 1 Axes>"
      ]
     },
     "metadata": {
      "needs_background": "light"
     },
     "output_type": "display_data"
    }
   ],
   "source": [
    "plt.rcParams['figure.figsize'] = (18.0, 6.0)\n",
    "bins = 50\n",
    "plt.hist(train_df['length_text'], alpha = 0.6, bins=bins, label='Before cleaning text')\n",
    "plt.hist(train_df['length_text_clean'], alpha = 0.6, bins=bins, label='After cleaning text')\n",
    "plt.xlabel('length_text')\n",
    "plt.ylabel('numbers')\n",
    "plt.title('Number of characters in text')\n",
    "plt.legend(loc='upper right')\n",
    "plt.grid()\n",
    "plt.show()"
   ]
  },
  {
   "cell_type": "code",
   "execution_count": 38,
   "id": "4686baf4",
   "metadata": {
    "execution": {
     "iopub.execute_input": "2023-01-08T14:14:47.381904Z",
     "iopub.status.busy": "2023-01-08T14:14:47.381571Z",
     "iopub.status.idle": "2023-01-08T14:14:47.997638Z",
     "shell.execute_reply": "2023-01-08T14:14:47.996652Z"
    },
    "papermill": {
     "duration": 0.6394,
     "end_time": "2023-01-08T14:14:47.999695",
     "exception": false,
     "start_time": "2023-01-08T14:14:47.360295",
     "status": "completed"
    },
    "tags": []
   },
   "outputs": [
    {
     "data": {
      "image/png": "[encoded data removed]",
      "text/plain": [
       "<Figure size 1296x432 with 1 Axes>"
      ]
     },
     "metadata": {
      "needs_background": "light"
     },
     "output_type": "display_data"
    }
   ],
   "source": [
    "plt.rcParams['figure.figsize'] = (18.0, 6.0)\n",
    "bins = 30\n",
    "text_len=train_df['Text'].str.split().map(lambda x: len(x))\n",
    "text_len_clean=train_df['Text_clean'].str.split().map(lambda x: len(x))\n",
    "plt.hist(text_len, alpha = 0.6, bins=bins, label='Before cleaning text')\n",
    "plt.hist(text_len_clean, alpha = 0.6, bins=bins, label='After cleaning text')\n",
    "plt.xlabel('length')\n",
    "plt.ylabel('numbers')\n",
    "plt.title('Number of words in a text')\n",
    "plt.legend(loc='upper right')\n",
    "plt.grid()\n",
    "plt.show()"
   ]
  },
  {
   "cell_type": "code",
   "execution_count": 39,
   "id": "7c37776f",
   "metadata": {
    "execution": {
     "iopub.execute_input": "2023-01-08T14:14:48.042970Z",
     "iopub.status.busy": "2023-01-08T14:14:48.042163Z",
     "iopub.status.idle": "2023-01-08T14:14:48.208672Z",
     "shell.execute_reply": "2023-01-08T14:14:48.207675Z"
    },
    "papermill": {
     "duration": 0.190598,
     "end_time": "2023-01-08T14:14:48.211359",
     "exception": false,
     "start_time": "2023-01-08T14:14:48.020761",
     "status": "completed"
    },
    "tags": []
   },
   "outputs": [],
   "source": [
    "#Removing blank lines\n",
    "train_df = train_df.drop(train_df[train_df['Text_clean'].str.split().map(lambda x: len(x)) == 0].index)\n",
    "test_df = test_df.drop(test_df[test_df['Text_clean'].str.split().map(lambda x: len(x)) == 0].index)"
   ]
  },
  {
   "cell_type": "code",
   "execution_count": 40,
   "id": "57c2d109",
   "metadata": {
    "execution": {
     "iopub.execute_input": "2023-01-08T14:14:48.254698Z",
     "iopub.status.busy": "2023-01-08T14:14:48.253852Z",
     "iopub.status.idle": "2023-01-08T14:14:51.674280Z",
     "shell.execute_reply": "2023-01-08T14:14:51.671735Z"
    },
    "papermill": {
     "duration": 3.451269,
     "end_time": "2023-01-08T14:14:51.683742",
     "exception": false,
     "start_time": "2023-01-08T14:14:48.232473",
     "status": "completed"
    },
    "tags": []
   },
   "outputs": [
    {
     "data": {
      "text/plain": [
       "((32916,), (8229,), (32916,), (8229,))"
      ]
     },
     "execution_count": 40,
     "metadata": {},
     "output_type": "execute_result"
    }
   ],
   "source": [
    "X_train, X_val, y_train, y_val = train_test_split(train_df.Text_clean, train_df.Label,\n",
    "                                                  stratify=train_df.Label, \n",
    "                                                  test_size=0.2,\n",
    "                                                  random_state=SEED)\n",
    "X_train.shape, X_val.shape, y_train.shape, y_val.shape"
   ]
  },
  {
   "cell_type": "markdown",
   "id": "3b03ad2e",
   "metadata": {
    "id": "fY1yzDGy-fAt",
    "papermill": {
     "duration": 0.034506,
     "end_time": "2023-01-08T14:14:51.753003",
     "exception": false,
     "start_time": "2023-01-08T14:14:51.718497",
     "status": "completed"
    },
    "tags": []
   },
   "source": [
    "### Bag of words with RNN"
   ]
  },
  {
   "cell_type": "code",
   "execution_count": 41,
   "id": "55ba2020",
   "metadata": {
    "execution": {
     "iopub.execute_input": "2023-01-08T14:14:51.818359Z",
     "iopub.status.busy": "2023-01-08T14:14:51.817985Z",
     "iopub.status.idle": "2023-01-08T14:14:52.171785Z",
     "shell.execute_reply": "2023-01-08T14:14:52.170128Z"
    },
    "papermill": {
     "duration": 0.38964,
     "end_time": "2023-01-08T14:14:52.174445",
     "exception": false,
     "start_time": "2023-01-08T14:14:51.784805",
     "status": "completed"
    },
    "tags": []
   },
   "outputs": [
    {
     "name": "stdout",
     "output_type": "stream",
     "text": [
      "В словаре 58668 уникальных слов\n"
     ]
    },
    {
     "data": {
      "text/plain": [
       "([('coronavirus', 18093),\n",
       "  ('covid19', 16139),\n",
       "  ('prices', 7934),\n",
       "  ('food', 7077),\n",
       "  ('supermarket', 7046),\n",
       "  ('store', 6839),\n",
       "  ('grocery', 6245),\n",
       "  ('people', 5756),\n",
       "  ('19', 4519),\n",
       "  ('consumer', 4493)],\n",
       " None)"
      ]
     },
     "execution_count": 41,
     "metadata": {},
     "output_type": "execute_result"
    }
   ],
   "source": [
    "#Make vocab\n",
    "words = [item for sublist in train_df['Text_clean'].str.split()  for item in sublist]\n",
    "count_words = Counter(words)\n",
    "\n",
    "total_words = len(words)\n",
    "sorted_words = count_words.most_common(total_words)\n",
    "sorted_words[:10], print(f\"В словаре {len(sorted_words)} уникальных слов\")"
   ]
  },
  {
   "cell_type": "code",
   "execution_count": 42,
   "id": "2219ecb1",
   "metadata": {
    "execution": {
     "iopub.execute_input": "2023-01-08T14:14:52.217731Z",
     "iopub.status.busy": "2023-01-08T14:14:52.217393Z",
     "iopub.status.idle": "2023-01-08T14:14:52.238610Z",
     "shell.execute_reply": "2023-01-08T14:14:52.237511Z"
    },
    "papermill": {
     "duration": 0.045459,
     "end_time": "2023-01-08T14:14:52.241165",
     "exception": false,
     "start_time": "2023-01-08T14:14:52.195706",
     "status": "completed"
    },
    "tags": []
   },
   "outputs": [
    {
     "name": "stdout",
     "output_type": "stream",
     "text": [
      "23507\n"
     ]
    }
   ],
   "source": [
    "#Delete of names and titles\n",
    "sorted_words = [(word,count) for (word,count) in sorted_words if count>1]\n",
    "print(len(sorted_words))"
   ]
  },
  {
   "cell_type": "code",
   "execution_count": 43,
   "id": "41fddb50",
   "metadata": {
    "execution": {
     "iopub.execute_input": "2023-01-08T14:14:52.284459Z",
     "iopub.status.busy": "2023-01-08T14:14:52.284180Z",
     "iopub.status.idle": "2023-01-08T14:14:52.297981Z",
     "shell.execute_reply": "2023-01-08T14:14:52.297002Z"
    },
    "papermill": {
     "duration": 0.037808,
     "end_time": "2023-01-08T14:14:52.300053",
     "exception": false,
     "start_time": "2023-01-08T14:14:52.262245",
     "status": "completed"
    },
    "tags": []
   },
   "outputs": [],
   "source": [
    "vocab_to_int = {word:i+1 for i, (word, count) in enumerate(sorted_words)}\n",
    "sorted_words_for_emb = [count for count, i in sorted_words]\n",
    "MAX_VOCAB_SIZE  = len(sorted_words)"
   ]
  },
  {
   "cell_type": "code",
   "execution_count": 44,
   "id": "8f7592f7",
   "metadata": {
    "execution": {
     "iopub.execute_input": "2023-01-08T14:14:52.342594Z",
     "iopub.status.busy": "2023-01-08T14:14:52.342324Z",
     "iopub.status.idle": "2023-01-08T14:14:52.347143Z",
     "shell.execute_reply": "2023-01-08T14:14:52.346224Z"
    },
    "papermill": {
     "duration": 0.028127,
     "end_time": "2023-01-08T14:14:52.349020",
     "exception": false,
     "start_time": "2023-01-08T14:14:52.320893",
     "status": "completed"
    },
    "tags": []
   },
   "outputs": [],
   "source": [
    "def word_to_int(x):\n",
    "  text_int = []\n",
    "  for word in x.split():\n",
    "    word = vocab_to_int.get(word, 0)\n",
    "    text_int.append(word)\n",
    "  return text_int"
   ]
  },
  {
   "cell_type": "code",
   "execution_count": 45,
   "id": "b1a64f29",
   "metadata": {
    "execution": {
     "iopub.execute_input": "2023-01-08T14:14:52.399847Z",
     "iopub.status.busy": "2023-01-08T14:14:52.399061Z",
     "iopub.status.idle": "2023-01-08T14:14:52.678408Z",
     "shell.execute_reply": "2023-01-08T14:14:52.677481Z"
    },
    "papermill": {
     "duration": 0.311042,
     "end_time": "2023-01-08T14:14:52.680651",
     "exception": false,
     "start_time": "2023-01-08T14:14:52.369609",
     "status": "completed"
    },
    "tags": []
   },
   "outputs": [],
   "source": [
    "X_train = X_train.apply(word_to_int)\n",
    "X_val = X_val.apply(word_to_int)"
   ]
  },
  {
   "cell_type": "code",
   "execution_count": 46,
   "id": "54ccec6c",
   "metadata": {
    "execution": {
     "iopub.execute_input": "2023-01-08T14:14:52.724199Z",
     "iopub.status.busy": "2023-01-08T14:14:52.723908Z",
     "iopub.status.idle": "2023-01-08T14:14:52.729242Z",
     "shell.execute_reply": "2023-01-08T14:14:52.728210Z"
    },
    "papermill": {
     "duration": 0.029734,
     "end_time": "2023-01-08T14:14:52.731519",
     "exception": false,
     "start_time": "2023-01-08T14:14:52.701785",
     "status": "completed"
    },
    "tags": []
   },
   "outputs": [],
   "source": [
    "def pad_features(x, seq_length):\n",
    "  if len(x)<= seq_length:\n",
    "    zeroes = np.zeros(seq_length-len(x))\n",
    "    new = np.concatenate([zeroes,np.array(x)]) #zeroes+np.array(x)\n",
    "  else:\n",
    "    new = np.array(x[0:seq_length])\n",
    "  return new"
   ]
  },
  {
   "cell_type": "code",
   "execution_count": 47,
   "id": "2c6fa848",
   "metadata": {
    "execution": {
     "iopub.execute_input": "2023-01-08T14:14:52.773708Z",
     "iopub.status.busy": "2023-01-08T14:14:52.773418Z",
     "iopub.status.idle": "2023-01-08T14:14:52.995409Z",
     "shell.execute_reply": "2023-01-08T14:14:52.994504Z"
    },
    "papermill": {
     "duration": 0.245542,
     "end_time": "2023-01-08T14:14:52.997571",
     "exception": false,
     "start_time": "2023-01-08T14:14:52.752029",
     "status": "completed"
    },
    "tags": []
   },
   "outputs": [],
   "source": [
    "X_train = X_train.apply(pad_features, seq_length = 45)\n",
    "X_val = X_val.apply(pad_features, seq_length = 45)"
   ]
  },
  {
   "cell_type": "markdown",
   "id": "9bdefc1a",
   "metadata": {
    "papermill": {
     "duration": 0.020696,
     "end_time": "2023-01-08T14:14:53.039285",
     "exception": false,
     "start_time": "2023-01-08T14:14:53.018589",
     "status": "completed"
    },
    "tags": []
   },
   "source": [
    "## DataLoader, Dataset"
   ]
  },
  {
   "cell_type": "code",
   "execution_count": 48,
   "id": "ce758398",
   "metadata": {
    "execution": {
     "iopub.execute_input": "2023-01-08T14:14:53.081716Z",
     "iopub.status.busy": "2023-01-08T14:14:53.081387Z",
     "iopub.status.idle": "2023-01-08T14:14:53.316318Z",
     "shell.execute_reply": "2023-01-08T14:14:53.315416Z"
    },
    "papermill": {
     "duration": 0.258633,
     "end_time": "2023-01-08T14:14:53.318528",
     "exception": false,
     "start_time": "2023-01-08T14:14:53.059895",
     "status": "completed"
    },
    "tags": []
   },
   "outputs": [],
   "source": [
    "train_dataset = TensorDataset(torch.tensor(X_train, dtype=torch.long), torch.from_numpy(y_train.values.astype(np.int64)))\n",
    "valid_dataset = TensorDataset(torch.tensor(X_val, dtype=torch.long), torch.from_numpy(y_val.values.astype(np.int64)))"
   ]
  },
  {
   "cell_type": "code",
   "execution_count": 49,
   "id": "d60758ac",
   "metadata": {
    "execution": {
     "iopub.execute_input": "2023-01-08T14:14:53.362053Z",
     "iopub.status.busy": "2023-01-08T14:14:53.361250Z",
     "iopub.status.idle": "2023-01-08T14:14:53.366127Z",
     "shell.execute_reply": "2023-01-08T14:14:53.365521Z"
    },
    "papermill": {
     "duration": 0.028389,
     "end_time": "2023-01-08T14:14:53.367913",
     "exception": false,
     "start_time": "2023-01-08T14:14:53.339524",
     "status": "completed"
    },
    "tags": []
   },
   "outputs": [],
   "source": [
    "train_loader = DataLoader(train_dataset, shuffle=True, batch_size = BATCH_SIZE)\n",
    "valid_loader = DataLoader(valid_dataset, shuffle=True, batch_size = BATCH_SIZE)"
   ]
  },
  {
   "cell_type": "code",
   "execution_count": 50,
   "id": "a56e5ee4",
   "metadata": {
    "execution": {
     "iopub.execute_input": "2023-01-08T14:14:53.410828Z",
     "iopub.status.busy": "2023-01-08T14:14:53.410262Z",
     "iopub.status.idle": "2023-01-08T14:14:53.423047Z",
     "shell.execute_reply": "2023-01-08T14:14:53.422217Z"
    },
    "papermill": {
     "duration": 0.036597,
     "end_time": "2023-01-08T14:14:53.425103",
     "exception": false,
     "start_time": "2023-01-08T14:14:53.388506",
     "status": "completed"
    },
    "tags": []
   },
   "outputs": [],
   "source": [
    "dataiter = iter(train_loader)\n",
    "sample_x, sample_y = dataiter.next()"
   ]
  },
  {
   "cell_type": "code",
   "execution_count": 51,
   "id": "bfe81e75",
   "metadata": {
    "execution": {
     "iopub.execute_input": "2023-01-08T14:14:53.468344Z",
     "iopub.status.busy": "2023-01-08T14:14:53.468081Z",
     "iopub.status.idle": "2023-01-08T14:14:53.475330Z",
     "shell.execute_reply": "2023-01-08T14:14:53.474152Z"
    },
    "papermill": {
     "duration": 0.031794,
     "end_time": "2023-01-08T14:14:53.477908",
     "exception": false,
     "start_time": "2023-01-08T14:14:53.446114",
     "status": "completed"
    },
    "tags": []
   },
   "outputs": [
    {
     "name": "stdout",
     "output_type": "stream",
     "text": [
      "Sample input size torch.Size([64, 45])\n",
      "Sample input: \n",
      " tensor([[    0,     0,     0,  ...,  3061,     0,   929],\n",
      "        [    0,     0,     0,  ...,  1204,    50,   688],\n",
      "        [    0,     0,     0,  ...,     9,     1, 16000],\n",
      "        ...,\n",
      "        [    0,     0,     0,  ...,  1368,     1,  3118],\n",
      "        [    0,     0,     0,  ...,    46,  1433, 16317],\n",
      "        [    0,     0,     0,  ..., 21099,    24,    24]])\n",
      "Sample label size torch.Size([64])\n",
      "Sample label: \n",
      " tensor([1, 4, 4, 4, 3, 4, 4, 4, 0, 0, 2, 3, 2, 2, 1, 3, 3, 3, 0, 4, 4, 4, 3, 1,\n",
      "        0, 3, 3, 4, 3, 3, 4, 3, 0, 4, 1, 1, 4, 3, 0, 2, 1, 0, 1, 3, 4, 3, 3, 0,\n",
      "        3, 1, 1, 3, 1, 1, 1, 0, 3, 2, 1, 1, 3, 1, 1, 3])\n"
     ]
    }
   ],
   "source": [
    "print('Sample input size', sample_x.size())\n",
    "print('Sample input: \\n', sample_x)\n",
    "print('Sample label size', sample_y.size())\n",
    "print('Sample label: \\n', sample_y)"
   ]
  },
  {
   "cell_type": "markdown",
   "id": "72a81003",
   "metadata": {
    "papermill": {
     "duration": 0.020482,
     "end_time": "2023-01-08T14:14:53.520017",
     "exception": false,
     "start_time": "2023-01-08T14:14:53.499535",
     "status": "completed"
    },
    "tags": []
   },
   "source": [
    "### Build model"
   ]
  },
  {
   "cell_type": "code",
   "execution_count": 52,
   "id": "f1fcc915",
   "metadata": {
    "execution": {
     "iopub.execute_input": "2023-01-08T14:14:53.563050Z",
     "iopub.status.busy": "2023-01-08T14:14:53.562166Z",
     "iopub.status.idle": "2023-01-08T14:14:53.569786Z",
     "shell.execute_reply": "2023-01-08T14:14:53.568944Z"
    },
    "papermill": {
     "duration": 0.030978,
     "end_time": "2023-01-08T14:14:53.571630",
     "exception": false,
     "start_time": "2023-01-08T14:14:53.540652",
     "status": "completed"
    },
    "tags": []
   },
   "outputs": [],
   "source": [
    "class RNN(nn.Module):\n",
    "    def __init__(self, input_dim, vocab_size, embedding_dim, hidden_dim, output_dim, n_layers, dropout_rate):\n",
    "        super().__init__()\n",
    "\n",
    "        self.emb_dim = input_dim\n",
    "\n",
    "        self.output_dim = output_dim\n",
    "        self.n_layers = n_layers\n",
    "        self.hidden_dim = hidden_dim\n",
    "        self.dropout_rate = dropout_rate\n",
    "\n",
    "        self.embedding = nn.Embedding(vocab_size, embedding_dim) \n",
    "        \n",
    "        self.lstm = nn.LSTM(embedding_dim, hidden_dim, n_layers, batch_first = True) \n",
    "        self.fc = nn.Linear(hidden_dim, output_dim)\n",
    "        self.dropout = nn.Dropout(dropout_rate)\n",
    "        \n",
    "    def forward(self, features): \n",
    "\n",
    "        embedds = self.embedding(features)\n",
    "        embedds = self.dropout(embedds)\n",
    "\n",
    "        output, (h_n, c_n) = self.lstm(embedds)\n",
    "        output = self.fc(h_n[-1])\n",
    "        return output"
   ]
  },
  {
   "cell_type": "code",
   "execution_count": 53,
   "id": "ef0af0b2",
   "metadata": {
    "execution": {
     "iopub.execute_input": "2023-01-08T14:14:53.614838Z",
     "iopub.status.busy": "2023-01-08T14:14:53.613993Z",
     "iopub.status.idle": "2023-01-08T14:14:53.620478Z",
     "shell.execute_reply": "2023-01-08T14:14:53.619503Z"
    },
    "papermill": {
     "duration": 0.030221,
     "end_time": "2023-01-08T14:14:53.622435",
     "exception": false,
     "start_time": "2023-01-08T14:14:53.592214",
     "status": "completed"
    },
    "tags": []
   },
   "outputs": [
    {
     "data": {
      "text/plain": [
       "23507"
      ]
     },
     "execution_count": 53,
     "metadata": {},
     "output_type": "execute_result"
    }
   ],
   "source": [
    "MAX_VOCAB_SIZE = len(sorted_words)\n",
    "MAX_VOCAB_SIZE"
   ]
  },
  {
   "cell_type": "code",
   "execution_count": 54,
   "id": "dba2130b",
   "metadata": {
    "execution": {
     "iopub.execute_input": "2023-01-08T14:14:53.665409Z",
     "iopub.status.busy": "2023-01-08T14:14:53.664643Z",
     "iopub.status.idle": "2023-01-08T14:14:53.693671Z",
     "shell.execute_reply": "2023-01-08T14:14:53.692853Z"
    },
    "papermill": {
     "duration": 0.052432,
     "end_time": "2023-01-08T14:14:53.695569",
     "exception": false,
     "start_time": "2023-01-08T14:14:53.643137",
     "status": "completed"
    },
    "tags": []
   },
   "outputs": [],
   "source": [
    "INPUT_DIM = 45\n",
    "VOCAB_SIZE = MAX_VOCAB_SIZE+1\n",
    "EMBEDDING_DIM = 50\n",
    "HIDDEN_DIM = 256\n",
    "OUTPUT_DIM = 5\n",
    "N_LAYERS = 3\n",
    "DROPOUT = 0.1\n",
    "\n",
    "model = RNN(INPUT_DIM, \n",
    "            VOCAB_SIZE,\n",
    "            EMBEDDING_DIM, \n",
    "            HIDDEN_DIM, \n",
    "            OUTPUT_DIM, \n",
    "            N_LAYERS, \n",
    "            DROPOUT) "
   ]
  },
  {
   "cell_type": "code",
   "execution_count": 55,
   "id": "a16df520",
   "metadata": {
    "execution": {
     "iopub.execute_input": "2023-01-08T14:14:53.739484Z",
     "iopub.status.busy": "2023-01-08T14:14:53.738619Z",
     "iopub.status.idle": "2023-01-08T14:14:53.806984Z",
     "shell.execute_reply": "2023-01-08T14:14:53.806132Z"
    },
    "papermill": {
     "duration": 0.092395,
     "end_time": "2023-01-08T14:14:53.809101",
     "exception": false,
     "start_time": "2023-01-08T14:14:53.716706",
     "status": "completed"
    },
    "tags": []
   },
   "outputs": [],
   "source": [
    "device = torch.device('cuda' if torch.cuda.is_available() else 'cpu')\n",
    "optimizer = optim.SGD(model.parameters(), lr=LR_RATE)\n",
    "lr_scheduler = optim.lr_scheduler.CyclicLR(optimizer, base_lr=0.001, max_lr=0.1,step_size_up=5,mode=\"exp_range\",gamma=0.85)"
   ]
  },
  {
   "cell_type": "code",
   "execution_count": 56,
   "id": "d50bbbc4",
   "metadata": {
    "execution": {
     "iopub.execute_input": "2023-01-08T14:14:53.851794Z",
     "iopub.status.busy": "2023-01-08T14:14:53.851510Z",
     "iopub.status.idle": "2023-01-08T14:14:58.972882Z",
     "shell.execute_reply": "2023-01-08T14:14:58.971876Z"
    },
    "papermill": {
     "duration": 5.145413,
     "end_time": "2023-01-08T14:14:58.975361",
     "exception": false,
     "start_time": "2023-01-08T14:14:53.829948",
     "status": "completed"
    },
    "tags": []
   },
   "outputs": [],
   "source": [
    "criterion = nn.CrossEntropyLoss()\n",
    "\n",
    "model = model.to(device)\n",
    "criterion = criterion.to(device)"
   ]
  },
  {
   "cell_type": "code",
   "execution_count": 57,
   "id": "32943fe8",
   "metadata": {
    "execution": {
     "iopub.execute_input": "2023-01-08T14:14:59.019492Z",
     "iopub.status.busy": "2023-01-08T14:14:59.018617Z",
     "iopub.status.idle": "2023-01-08T14:14:59.024260Z",
     "shell.execute_reply": "2023-01-08T14:14:59.023431Z"
    },
    "papermill": {
     "duration": 0.029431,
     "end_time": "2023-01-08T14:14:59.026261",
     "exception": false,
     "start_time": "2023-01-08T14:14:58.996830",
     "status": "completed"
    },
    "tags": []
   },
   "outputs": [],
   "source": [
    "def accuracy(preds, y):\n",
    "    \"\"\"\n",
    "    Returns accuracy per batch, i.e. if you get 8/10 right, this returns 0.8, NOT 8\n",
    "    \"\"\"\n",
    "    correct = (preds == y).float()\n",
    "    acc = correct.sum() / len(correct)\n",
    "    return acc"
   ]
  },
  {
   "cell_type": "code",
   "execution_count": 58,
   "id": "d781d0df",
   "metadata": {
    "execution": {
     "iopub.execute_input": "2023-01-08T14:14:59.069568Z",
     "iopub.status.busy": "2023-01-08T14:14:59.069045Z",
     "iopub.status.idle": "2023-01-08T14:14:59.076479Z",
     "shell.execute_reply": "2023-01-08T14:14:59.075596Z"
    },
    "papermill": {
     "duration": 0.031228,
     "end_time": "2023-01-08T14:14:59.078424",
     "exception": false,
     "start_time": "2023-01-08T14:14:59.047196",
     "status": "completed"
    },
    "tags": []
   },
   "outputs": [],
   "source": [
    "def train(model, iterator, optimizer, scheduler, criterion):\n",
    "    \n",
    "    epoch_loss = 0\n",
    "    epoch_acc = 0\n",
    "    \n",
    "    model.train()\n",
    "    \n",
    "    for feature, label in iterator:\n",
    "        feature, label = feature.to(device), label.to(device)\n",
    "        optimizer.zero_grad()\n",
    "        \n",
    "        predictions = model(feature)  \n",
    "        loss = criterion(predictions, label)\n",
    "        \n",
    "        predictions = torch.softmax(predictions, dim=1)\n",
    "        predictions=torch.argmax(predictions, dim=1)\n",
    "        \n",
    "        acc = accuracy(predictions, label)\n",
    "        \n",
    "        loss.backward()\n",
    "        \n",
    "        optimizer.step()\n",
    "        \n",
    "        epoch_loss += loss.item()\n",
    "        epoch_acc += acc.item()\n",
    "    scheduler.step()\n",
    "        \n",
    "    return epoch_loss / len(iterator), epoch_acc / len(iterator)"
   ]
  },
  {
   "cell_type": "code",
   "execution_count": 59,
   "id": "54a5e4c7",
   "metadata": {
    "execution": {
     "iopub.execute_input": "2023-01-08T14:14:59.122153Z",
     "iopub.status.busy": "2023-01-08T14:14:59.120758Z",
     "iopub.status.idle": "2023-01-08T14:14:59.127701Z",
     "shell.execute_reply": "2023-01-08T14:14:59.126867Z"
    },
    "papermill": {
     "duration": 0.030461,
     "end_time": "2023-01-08T14:14:59.129567",
     "exception": false,
     "start_time": "2023-01-08T14:14:59.099106",
     "status": "completed"
    },
    "tags": []
   },
   "outputs": [],
   "source": [
    "def evaluate(model, iterator, criterion):\n",
    "    \n",
    "    epoch_loss = 0\n",
    "    epoch_acc = 0\n",
    "    \n",
    "    model.eval()\n",
    "    \n",
    "    with torch.no_grad():\n",
    "    \n",
    "        for feature, label in iterator:\n",
    "            feature, label = feature.to(device), label.to(device)\n",
    "\n",
    "            predictions = model(feature)\n",
    "            loss = criterion(predictions,label)\n",
    "            \n",
    "            predictions = torch.softmax(predictions, dim=1)\n",
    "            predictions=torch.argmax(predictions, dim=1)            \n",
    "            \n",
    "            acc = accuracy(predictions, label)\n",
    "\n",
    "            epoch_loss += loss.item()\n",
    "            epoch_acc += acc.item()\n",
    "        \n",
    "    return epoch_loss / len(iterator), epoch_acc / len(iterator)"
   ]
  },
  {
   "cell_type": "code",
   "execution_count": 60,
   "id": "124fcd6c",
   "metadata": {
    "execution": {
     "iopub.execute_input": "2023-01-08T14:14:59.172949Z",
     "iopub.status.busy": "2023-01-08T14:14:59.172191Z",
     "iopub.status.idle": "2023-01-08T14:14:59.177011Z",
     "shell.execute_reply": "2023-01-08T14:14:59.176054Z"
    },
    "papermill": {
     "duration": 0.028401,
     "end_time": "2023-01-08T14:14:59.178891",
     "exception": false,
     "start_time": "2023-01-08T14:14:59.150490",
     "status": "completed"
    },
    "tags": []
   },
   "outputs": [],
   "source": [
    "import time\n",
    "\n",
    "def epoch_time(start_time, end_time):\n",
    "    elapsed_time = end_time - start_time\n",
    "    elapsed_mins = int(elapsed_time / 60)\n",
    "    elapsed_secs = int(elapsed_time - (elapsed_mins * 60))\n",
    "    return elapsed_mins, elapsed_secs"
   ]
  },
  {
   "cell_type": "code",
   "execution_count": 61,
   "id": "cd973a4c",
   "metadata": {
    "execution": {
     "iopub.execute_input": "2023-01-08T14:14:59.222014Z",
     "iopub.status.busy": "2023-01-08T14:14:59.221269Z",
     "iopub.status.idle": "2023-01-08T14:15:01.328614Z",
     "shell.execute_reply": "2023-01-08T14:15:01.327312Z"
    },
    "papermill": {
     "duration": 2.131549,
     "end_time": "2023-01-08T14:15:01.331136",
     "exception": false,
     "start_time": "2023-01-08T14:14:59.199587",
     "status": "completed"
    },
    "tags": []
   },
   "outputs": [],
   "source": [
    "# Load the TensorBoard notebook extension\n",
    "%load_ext tensorboard\n",
    "# Clear any logs from previous runs\n",
    "!rm -rf /kaggle/working/runs\n",
    "!mkdir /kaggle/working/runs"
   ]
  },
  {
   "cell_type": "code",
   "execution_count": 62,
   "id": "c21e5e19",
   "metadata": {
    "execution": {
     "iopub.execute_input": "2023-01-08T14:15:01.375403Z",
     "iopub.status.busy": "2023-01-08T14:15:01.374396Z",
     "iopub.status.idle": "2023-01-08T14:17:02.892631Z",
     "shell.execute_reply": "2023-01-08T14:17:02.891397Z"
    },
    "papermill": {
     "duration": 121.542551,
     "end_time": "2023-01-08T14:17:02.894917",
     "exception": false,
     "start_time": "2023-01-08T14:15:01.352366",
     "status": "completed"
    },
    "tags": []
   },
   "outputs": [
    {
     "name": "stdout",
     "output_type": "stream",
     "text": [
      "Epoch: 01 | Epoch Time: 0m 7s\n",
      "\tTrain Loss: 1.585 | Train Acc: 27.62%\n",
      "\t Val. Loss: 1.576 |  Val. Acc: 27.77%\n",
      "Epoch: 02 | Epoch Time: 0m 5s\n",
      "\tTrain Loss: 1.572 | Train Acc: 27.97%\n",
      "\t Val. Loss: 1.552 |  Val. Acc: 29.49%\n",
      "Epoch: 03 | Epoch Time: 0m 5s\n",
      "\tTrain Loss: 1.513 | Train Acc: 30.78%\n",
      "\t Val. Loss: 1.505 |  Val. Acc: 31.61%\n",
      "Epoch: 04 | Epoch Time: 0m 6s\n",
      "\tTrain Loss: 1.505 | Train Acc: 31.41%\n",
      "\t Val. Loss: 1.499 |  Val. Acc: 32.06%\n",
      "Epoch: 05 | Epoch Time: 0m 5s\n",
      "\tTrain Loss: 1.487 | Train Acc: 32.90%\n",
      "\t Val. Loss: 1.477 |  Val. Acc: 33.22%\n",
      "Epoch: 06 | Epoch Time: 0m 5s\n",
      "\tTrain Loss: 1.462 | Train Acc: 34.28%\n",
      "\t Val. Loss: 1.439 |  Val. Acc: 35.62%\n",
      "Epoch: 07 | Epoch Time: 0m 6s\n",
      "\tTrain Loss: 1.405 | Train Acc: 37.42%\n",
      "\t Val. Loss: 1.370 |  Val. Acc: 40.51%\n",
      "Epoch: 08 | Epoch Time: 0m 5s\n",
      "\tTrain Loss: 1.345 | Train Acc: 40.81%\n",
      "\t Val. Loss: 1.321 |  Val. Acc: 42.37%\n",
      "Epoch: 09 | Epoch Time: 0m 6s\n",
      "\tTrain Loss: 1.289 | Train Acc: 44.19%\n",
      "\t Val. Loss: 1.277 |  Val. Acc: 45.30%\n",
      "Epoch: 10 | Epoch Time: 0m 6s\n",
      "\tTrain Loss: 1.242 | Train Acc: 46.46%\n",
      "\t Val. Loss: 1.246 |  Val. Acc: 46.78%\n",
      "Epoch: 11 | Epoch Time: 0m 5s\n",
      "\tTrain Loss: 1.209 | Train Acc: 48.42%\n",
      "\t Val. Loss: 1.228 |  Val. Acc: 48.04%\n",
      "Epoch: 12 | Epoch Time: 0m 6s\n",
      "\tTrain Loss: 1.213 | Train Acc: 48.11%\n",
      "\t Val. Loss: 1.246 |  Val. Acc: 47.27%\n",
      "Epoch: 13 | Epoch Time: 0m 5s\n",
      "\tTrain Loss: 1.204 | Train Acc: 48.63%\n",
      "\t Val. Loss: 1.226 |  Val. Acc: 48.09%\n",
      "Epoch: 14 | Epoch Time: 0m 6s\n",
      "\tTrain Loss: 1.197 | Train Acc: 48.94%\n",
      "\t Val. Loss: 1.218 |  Val. Acc: 48.92%\n",
      "Epoch: 15 | Epoch Time: 0m 5s\n",
      "\tTrain Loss: 1.176 | Train Acc: 50.27%\n",
      "\t Val. Loss: 1.252 |  Val. Acc: 46.92%\n",
      "Epoch: 16 | Epoch Time: 0m 6s\n",
      "\tTrain Loss: 1.152 | Train Acc: 51.38%\n",
      "\t Val. Loss: 1.167 |  Val. Acc: 51.11%\n",
      "Epoch: 17 | Epoch Time: 0m 5s\n",
      "\tTrain Loss: 1.118 | Train Acc: 53.06%\n",
      "\t Val. Loss: 1.170 |  Val. Acc: 51.36%\n",
      "Epoch: 18 | Epoch Time: 0m 6s\n",
      "\tTrain Loss: 1.094 | Train Acc: 54.17%\n",
      "\t Val. Loss: 1.169 |  Val. Acc: 51.45%\n",
      "Epoch: 19 | Epoch Time: 0m 5s\n",
      "\tTrain Loss: 1.064 | Train Acc: 55.84%\n",
      "\t Val. Loss: 1.134 |  Val. Acc: 53.01%\n",
      "Epoch: 20 | Epoch Time: 0m 5s\n",
      "\tTrain Loss: 1.049 | Train Acc: 56.68%\n",
      "\t Val. Loss: 1.109 |  Val. Acc: 54.23%\n"
     ]
    }
   ],
   "source": [
    "writer = SummaryWriter('runs/RNN+BoW')\n",
    "N_EPOCHS = 20\n",
    "\n",
    "best_valid_loss = float('inf')\n",
    "\n",
    "for epoch in range(N_EPOCHS):\n",
    "    start_time = time.time()\n",
    "    \n",
    "    train_loss, train_acc = train(model, train_loader, optimizer, lr_scheduler, criterion)\n",
    "    valid_loss, valid_acc = evaluate(model, valid_loader, criterion)\n",
    "      \n",
    "    end_time = time.time()\n",
    "\n",
    "    epoch_mins, epoch_secs = epoch_time(start_time, end_time)\n",
    "    \n",
    "    if valid_loss < best_valid_loss:\n",
    "        best_valid_loss = valid_loss\n",
    "        torch.save(model.state_dict(), 'best-model.pt')\n",
    "    \n",
    "    writer.add_scalar(\"Train Loss\", train_loss, epoch+1)\n",
    "    writer.add_scalar(\"Train Acc\", train_acc, epoch+1)\n",
    "    writer.add_scalar(\"Valid Loss\", valid_loss, epoch+1)\n",
    "    writer.add_scalar(\"Valid Acc\", valid_acc, epoch+1)\n",
    "    \n",
    "    print(f'Epoch: {epoch+1:02} | Epoch Time: {epoch_mins}m {epoch_secs}s')\n",
    "    print(f'\\tTrain Loss: {train_loss:.3f} | Train Acc: {train_acc*100:.2f}%')\n",
    "    print(f'\\t Val. Loss: {valid_loss:.3f} |  Val. Acc: {valid_acc*100:.2f}%')"
   ]
  },
  {
   "cell_type": "code",
   "execution_count": 63,
   "id": "fef572e0",
   "metadata": {
    "execution": {
     "iopub.execute_input": "2023-01-08T14:17:02.944715Z",
     "iopub.status.busy": "2023-01-08T14:17:02.943731Z",
     "iopub.status.idle": "2023-01-08T14:17:02.949085Z",
     "shell.execute_reply": "2023-01-08T14:17:02.948176Z"
    },
    "papermill": {
     "duration": 0.031608,
     "end_time": "2023-01-08T14:17:02.951265",
     "exception": false,
     "start_time": "2023-01-08T14:17:02.919657",
     "status": "completed"
    },
    "tags": []
   },
   "outputs": [],
   "source": [
    "writer.close()"
   ]
  },
  {
   "cell_type": "markdown",
   "id": "1145417a",
   "metadata": {
    "papermill": {
     "duration": 0.022663,
     "end_time": "2023-01-08T14:17:02.996795",
     "exception": false,
     "start_time": "2023-01-08T14:17:02.974132",
     "status": "completed"
    },
    "tags": []
   },
   "source": [
    "### Pretrained embedding (GloVe) with RNN"
   ]
  },
  {
   "cell_type": "code",
   "execution_count": 64,
   "id": "dae44b1a",
   "metadata": {
    "execution": {
     "iopub.execute_input": "2023-01-08T14:17:03.043281Z",
     "iopub.status.busy": "2023-01-08T14:17:03.042993Z",
     "iopub.status.idle": "2023-01-08T14:20:07.812445Z",
     "shell.execute_reply": "2023-01-08T14:20:07.810931Z"
    },
    "papermill": {
     "duration": 184.795846,
     "end_time": "2023-01-08T14:20:07.815365",
     "exception": false,
     "start_time": "2023-01-08T14:17:03.019519",
     "status": "completed"
    },
    "tags": []
   },
   "outputs": [
    {
     "name": "stdout",
     "output_type": "stream",
     "text": [
      "--2023-01-08 14:17:03--  http://nlp.stanford.edu/data/glove.6B.zip\r\n",
      "Resolving nlp.stanford.edu (nlp.stanford.edu)... 171.64.67.140\r\n",
      "Connecting to nlp.stanford.edu (nlp.stanford.edu)|171.64.67.140|:80... connected.\r\n",
      "HTTP request sent, awaiting response... 302 Found\r\n",
      "Location: https://nlp.stanford.edu/data/glove.6B.zip [following]\r\n",
      "--2023-01-08 14:17:04--  https://nlp.stanford.edu/data/glove.6B.zip\r\n",
      "Connecting to nlp.stanford.edu (nlp.stanford.edu)|171.64.67.140|:443... connected.\r\n",
      "HTTP request sent, awaiting response... 301 Moved Permanently\r\n",
      "Location: https://downloads.cs.stanford.edu/nlp/data/glove.6B.zip [following]\r\n",
      "--2023-01-08 14:17:05--  https://downloads.cs.stanford.edu/nlp/data/glove.6B.zip\r\n",
      "Resolving downloads.cs.stanford.edu (downloads.cs.stanford.edu)... 171.64.64.22\r\n",
      "Connecting to downloads.cs.stanford.edu (downloads.cs.stanford.edu)|171.64.64.22|:443... connected.\r\n",
      "HTTP request sent, awaiting response... 200 OK\r\n",
      "Length: 862182613 (822M) [application/zip]\r\n",
      "Saving to: ‘glove.6B.zip’\r\n",
      "\r\n",
      "glove.6B.zip        100%[===================>] 822.24M  5.08MB/s    in 2m 39s  \r\n",
      "\r\n",
      "2023-01-08 14:19:45 (5.16 MB/s) - ‘glove.6B.zip’ saved [862182613/862182613]\r\n",
      "\r\n",
      "Archive:  glove.6B.zip\r\n",
      "  inflating: glove.6B.50d.txt        \r\n",
      "  inflating: glove.6B.100d.txt       \r\n",
      "  inflating: glove.6B.200d.txt       \r\n",
      "  inflating: glove.6B.300d.txt       \r\n",
      "total 3049440\r\n",
      "---------- 1 root root     359991 Jan  8 14:20 __notebook__.ipynb\r\n",
      "drwxr-xr-x 3 root root       4096 Jan  8 14:19 .\r\n",
      "-rw-r--r-- 1 root root   10181471 Jan  8 14:17 best-model.pt\r\n",
      "drwxr-xr-x 3 root root       4096 Jan  8 14:15 runs\r\n",
      "drwxr-xr-x 6 root root       4096 Jan  8 14:13 ..\r\n",
      "-rw-r--r-- 1 root root  862182613 Oct 25  2015 glove.6B.zip\r\n",
      "-rw-rw-r-- 1 root root 1037962819 Aug 27  2014 glove.6B.300d.txt\r\n",
      "-rw-rw-r-- 1 root root  171350079 Aug  4  2014 glove.6B.50d.txt\r\n",
      "-rw-rw-r-- 1 root root  693432828 Aug  4  2014 glove.6B.200d.txt\r\n",
      "-rw-rw-r-- 1 root root  347116733 Aug  4  2014 glove.6B.100d.txt\r\n"
     ]
    }
   ],
   "source": [
    "#Download GloVe embeddings\n",
    "!wget http://nlp.stanford.edu/data/glove.6B.zip\n",
    "!unzip glove.6B.zip\n",
    "!ls -lat"
   ]
  },
  {
   "cell_type": "code",
   "execution_count": 65,
   "id": "b101fa07",
   "metadata": {
    "execution": {
     "iopub.execute_input": "2023-01-08T14:20:08.076998Z",
     "iopub.status.busy": "2023-01-08T14:20:08.076527Z",
     "iopub.status.idle": "2023-01-08T14:20:08.083959Z",
     "shell.execute_reply": "2023-01-08T14:20:08.083139Z"
    },
    "papermill": {
     "duration": 0.178226,
     "end_time": "2023-01-08T14:20:08.086515",
     "exception": false,
     "start_time": "2023-01-08T14:20:07.908289",
     "status": "completed"
    },
    "tags": []
   },
   "outputs": [],
   "source": [
    "def get_coefs(word,*arr): return word, np.asarray(arr, dtype='float32')"
   ]
  },
  {
   "cell_type": "code",
   "execution_count": 66,
   "id": "73873617",
   "metadata": {
    "execution": {
     "iopub.execute_input": "2023-01-08T14:20:08.286772Z",
     "iopub.status.busy": "2023-01-08T14:20:08.286382Z",
     "iopub.status.idle": "2023-01-08T14:20:08.295366Z",
     "shell.execute_reply": "2023-01-08T14:20:08.294531Z"
    },
    "papermill": {
     "duration": 0.11039,
     "end_time": "2023-01-08T14:20:08.297885",
     "exception": false,
     "start_time": "2023-01-08T14:20:08.187495",
     "status": "completed"
    },
    "tags": []
   },
   "outputs": [],
   "source": [
    "def get_emb_matrix(EMBEDDING_FILE, EMBEDDING_DIM):\n",
    "    emb_mean,emb_std = -0.005838499,0.48782197\n",
    "    embedding_matrix = np.random.normal(emb_mean,emb_std, size=(VOCAB_SIZE, EMBEDDING_DIM))\n",
    "    embeddings_index  = dict(get_coefs(*o.split(\" \")) for o in open(EMBEDDING_FILE))\n",
    "    for k, v in vocab_to_int.items():\n",
    "        if v >= VOCAB_SIZE: continue\n",
    "        embedding_vector = embeddings_index.get(k)\n",
    "        if embedding_vector is not None:\n",
    "            embedding_matrix[v] = embedding_vector\n",
    "    return embedding_matrix"
   ]
  },
  {
   "cell_type": "code",
   "execution_count": 67,
   "id": "99b0bf5f",
   "metadata": {
    "execution": {
     "iopub.execute_input": "2023-01-08T14:20:08.554512Z",
     "iopub.status.busy": "2023-01-08T14:20:08.553189Z",
     "iopub.status.idle": "2023-01-08T14:20:08.567018Z",
     "shell.execute_reply": "2023-01-08T14:20:08.566109Z"
    },
    "papermill": {
     "duration": 0.159846,
     "end_time": "2023-01-08T14:20:08.570258",
     "exception": false,
     "start_time": "2023-01-08T14:20:08.410412",
     "status": "completed"
    },
    "tags": []
   },
   "outputs": [
    {
     "data": {
      "text/plain": [
       "23508"
      ]
     },
     "execution_count": 67,
     "metadata": {},
     "output_type": "execute_result"
    }
   ],
   "source": [
    "VOCAB_SIZE = MAX_VOCAB_SIZE+1\n",
    "VOCAB_SIZE"
   ]
  },
  {
   "cell_type": "code",
   "execution_count": 68,
   "id": "8e529e8d",
   "metadata": {
    "execution": {
     "iopub.execute_input": "2023-01-08T14:20:08.766097Z",
     "iopub.status.busy": "2023-01-08T14:20:08.765703Z",
     "iopub.status.idle": "2023-01-08T14:20:44.990882Z",
     "shell.execute_reply": "2023-01-08T14:20:44.989825Z"
    },
    "papermill": {
     "duration": 36.322571,
     "end_time": "2023-01-08T14:20:44.993437",
     "exception": false,
     "start_time": "2023-01-08T14:20:08.670866",
     "status": "completed"
    },
    "tags": []
   },
   "outputs": [],
   "source": [
    "embedding_matrix300 = get_emb_matrix('glove.6B.300d.txt', 300)\n",
    "embedding_matrix200 = get_emb_matrix('glove.6B.200d.txt', 200)"
   ]
  },
  {
   "cell_type": "code",
   "execution_count": 69,
   "id": "8947cffe",
   "metadata": {
    "execution": {
     "iopub.execute_input": "2023-01-08T14:20:45.115447Z",
     "iopub.status.busy": "2023-01-08T14:20:45.115110Z",
     "iopub.status.idle": "2023-01-08T14:20:45.542744Z",
     "shell.execute_reply": "2023-01-08T14:20:45.541846Z"
    },
    "papermill": {
     "duration": 0.490652,
     "end_time": "2023-01-08T14:20:45.544892",
     "exception": false,
     "start_time": "2023-01-08T14:20:45.054240",
     "status": "completed"
    },
    "tags": []
   },
   "outputs": [],
   "source": [
    "class BiRNN(nn.Module):\n",
    "    def __init__(self, input_dim, vocab_size, embedding_matrix, embedding_dim, hidden_dim, output_dim, n_layers, bidirectional, dropout_rate): #vocab_size, , pad_index , pad_index\n",
    "        # super(RNN, self).__init__() , bidirectional,                 dropout_rate)\n",
    "        super().__init__()\n",
    "\n",
    "        self.emb_dim = input_dim\n",
    "\n",
    "        self.output_dim = output_dim\n",
    "        self.n_layers = n_layers\n",
    "        self.hidden_dim = hidden_dim\n",
    "        self.dropout = dropout_rate\n",
    "\n",
    "        self.embedding_matrix = embedding_matrix\n",
    "        self.embedding = nn.Embedding.from_pretrained(embedding_matrix, freeze=False) \n",
    "\n",
    "        \n",
    "        self.lstm = nn.LSTM(embedding_dim, hidden_dim, n_layers, bidirectional=bidirectional, dropout=dropout_rate,batch_first = True) #, dropout=dropout_rate, batch_first=False\n",
    "        # self.fc = nn.Linear(hidden_dim*2  if bidirectional else hidden_dim, output_dim)\n",
    "        self.dropout = nn.Dropout(dropout_rate)#.double()\n",
    "        # self.hidden_dim_l = (hidden_dim*2  if bidirectional else hidden_dim)\n",
    "\n",
    "        self.model1 = nn.Sequential(\n",
    "            nn.Linear((hidden_dim*2  if bidirectional else hidden_dim), int((hidden_dim*2  if bidirectional else hidden_dim)/2)),\n",
    "            nn.BatchNorm1d(int((hidden_dim*2  if bidirectional else hidden_dim)/2)),\n",
    "            nn.ReLU()\n",
    "        )\n",
    "        self.model2 = nn.Sequential(\n",
    "            nn.Linear(int((hidden_dim*2  if bidirectional else hidden_dim)/2), int((hidden_dim*2  if bidirectional else hidden_dim)/4)),\n",
    "            nn.BatchNorm1d(int((hidden_dim*2  if bidirectional else hidden_dim)/4)),\n",
    "            nn.ReLU()\n",
    "        )        \n",
    "        self.model3 = nn.Sequential(\n",
    "            nn.Linear(int((hidden_dim*2  if bidirectional else hidden_dim)/4), int((hidden_dim*2  if bidirectional else hidden_dim)/8)),\n",
    "            nn.BatchNorm1d(int((hidden_dim*2  if bidirectional else hidden_dim)/8)),\n",
    "            nn.ReLU()\n",
    "        )        \n",
    "        self.model4 = nn.Sequential(\n",
    "            nn.Linear(int((hidden_dim*2  if bidirectional else hidden_dim)/8), int((hidden_dim*2  if bidirectional else hidden_dim)/16)),\n",
    "            nn.BatchNorm1d(int((hidden_dim*2  if bidirectional else hidden_dim)/16)),\n",
    "            nn.ReLU())\n",
    "        self.model5 = nn.Sequential(\n",
    "            nn.Linear(int((hidden_dim*2  if bidirectional else hidden_dim)/16), int((hidden_dim*2  if bidirectional else hidden_dim)/32)),\n",
    "            nn.BatchNorm1d(int((hidden_dim*2  if bidirectional else hidden_dim)/32)),\n",
    "            nn.ReLU())\n",
    "        self.model6 = nn.Sequential(\n",
    "            nn.Linear(int((hidden_dim*2  if bidirectional else hidden_dim)/32), int((hidden_dim*2  if bidirectional else hidden_dim)/64)),\n",
    "            nn.BatchNorm1d(int((hidden_dim*2  if bidirectional else hidden_dim)/64)),\n",
    "            nn.ReLU())\n",
    "        self.fc7 = nn.Linear(int((hidden_dim*2  if bidirectional else hidden_dim)/64), output_dim)\n",
    "    def forward(self, features): #, lengths\n",
    "        # print(features.shape)\n",
    "        embedds = self.embedding(features)\n",
    "        # print(embedds.shape)\n",
    "        # embedds = nn.ZeroPad2d(embedds, self.pad_index)\n",
    "        embedds = self.dropout(embedds)\n",
    "\n",
    "        output, (h_n, c_n) = self.lstm(embedds)\n",
    "        # print('h_n.shape', h_n.shape, h_n[-1].shape)\n",
    "        # output.squeeze_(0)\n",
    "        if self.lstm.bidirectional:\n",
    "            h_n = self.dropout(torch.cat([h_n[-1,:,:], h_n[-2,:,:]], dim=-1))\n",
    "\n",
    "        else:\n",
    "            h_n = self.dropout(h_n[-1,:,:])\n",
    "        # output = self.model1(self.dropout(h_n))\n",
    "        output = self.model1(h_n)\n",
    "        output = self.model2(output)\n",
    "        output = self.model3(output)\n",
    "        output = self.model4(output)\n",
    "        output = self.model5(output)\n",
    "        output = self.model6(output)\n",
    "        output = self.fc7(output)\n",
    "        return output"
   ]
  },
  {
   "cell_type": "code",
   "execution_count": 70,
   "id": "2b21df63",
   "metadata": {
    "execution": {
     "iopub.execute_input": "2023-01-08T14:20:45.667633Z",
     "iopub.status.busy": "2023-01-08T14:20:45.667322Z",
     "iopub.status.idle": "2023-01-08T14:20:45.796731Z",
     "shell.execute_reply": "2023-01-08T14:20:45.795713Z"
    },
    "papermill": {
     "duration": 0.192381,
     "end_time": "2023-01-08T14:20:45.798926",
     "exception": false,
     "start_time": "2023-01-08T14:20:45.606545",
     "status": "completed"
    },
    "tags": []
   },
   "outputs": [],
   "source": [
    "INPUT_DIM = 45\n",
    "VOCAB_SIZE = MAX_VOCAB_SIZE+1\n",
    "EMBEDDING_MATRIX = torch.tensor(embedding_matrix200, dtype=torch.float32)\n",
    "EMBEDDING_DIM = 200\n",
    "HIDDEN_DIM = 512\n",
    "OUTPUT_DIM = 5\n",
    "N_LAYERS = 3\n",
    "BIDIRECTIONAL = True\n",
    "DROPOUT = 0.1\n",
    "VEC_DIM = 200\n",
    "\n",
    "model = BiRNN(INPUT_DIM, \n",
    "            VOCAB_SIZE,\n",
    "            EMBEDDING_MATRIX,\n",
    "            EMBEDDING_DIM, \n",
    "            HIDDEN_DIM, \n",
    "            OUTPUT_DIM, \n",
    "            N_LAYERS, \n",
    "            BIDIRECTIONAL, \n",
    "            DROPOUT) "
   ]
  },
  {
   "cell_type": "code",
   "execution_count": 71,
   "id": "bd9f825c",
   "metadata": {
    "execution": {
     "iopub.execute_input": "2023-01-08T14:20:45.920602Z",
     "iopub.status.busy": "2023-01-08T14:20:45.919927Z",
     "iopub.status.idle": "2023-01-08T14:20:45.925609Z",
     "shell.execute_reply": "2023-01-08T14:20:45.924683Z"
    },
    "papermill": {
     "duration": 0.06769,
     "end_time": "2023-01-08T14:20:45.927537",
     "exception": false,
     "start_time": "2023-01-08T14:20:45.859847",
     "status": "completed"
    },
    "tags": []
   },
   "outputs": [],
   "source": [
    "device = torch.device('cuda' if torch.cuda.is_available() else 'cpu')\n",
    "optimizer = optim.SGD(model.parameters(), lr=LR_RATE)\n",
    "lr_scheduler = optim.lr_scheduler.CyclicLR(optimizer, base_lr=0.001, max_lr=0.1,step_size_up=5,mode=\"exp_range\",gamma=0.85)"
   ]
  },
  {
   "cell_type": "code",
   "execution_count": 72,
   "id": "48decc8f",
   "metadata": {
    "execution": {
     "iopub.execute_input": "2023-01-08T14:20:46.047131Z",
     "iopub.status.busy": "2023-01-08T14:20:46.046367Z",
     "iopub.status.idle": "2023-01-08T14:20:46.073894Z",
     "shell.execute_reply": "2023-01-08T14:20:46.073084Z"
    },
    "papermill": {
     "duration": 0.089395,
     "end_time": "2023-01-08T14:20:46.075800",
     "exception": false,
     "start_time": "2023-01-08T14:20:45.986405",
     "status": "completed"
    },
    "tags": []
   },
   "outputs": [],
   "source": [
    "criterion = nn.CrossEntropyLoss()\n",
    "model = model.to(device)\n",
    "criterion = criterion.to(device)"
   ]
  },
  {
   "cell_type": "code",
   "execution_count": 73,
   "id": "8703f695",
   "metadata": {
    "execution": {
     "iopub.execute_input": "2023-01-08T14:20:46.195509Z",
     "iopub.status.busy": "2023-01-08T14:20:46.194759Z",
     "iopub.status.idle": "2023-01-08T14:33:52.050023Z",
     "shell.execute_reply": "2023-01-08T14:33:52.048989Z"
    },
    "papermill": {
     "duration": 785.978612,
     "end_time": "2023-01-08T14:33:52.113129",
     "exception": false,
     "start_time": "2023-01-08T14:20:46.134517",
     "status": "completed"
    },
    "tags": []
   },
   "outputs": [
    {
     "name": "stdout",
     "output_type": "stream",
     "text": [
      "Epoch: 01 | Epoch Time: 0m 39s\n",
      "\tTrain Loss: 1.571 | Train Acc: 26.32%\n",
      "\t Val. Loss: 1.517 |  Val. Acc: 31.30%\n",
      "Epoch: 02 | Epoch Time: 0m 39s\n",
      "\tTrain Loss: 1.346 | Train Acc: 40.54%\n",
      "\t Val. Loss: 1.215 |  Val. Acc: 46.93%\n",
      "Epoch: 03 | Epoch Time: 0m 39s\n",
      "\tTrain Loss: 1.222 | Train Acc: 47.81%\n",
      "\t Val. Loss: 1.236 |  Val. Acc: 47.86%\n",
      "Epoch: 04 | Epoch Time: 0m 39s\n",
      "\tTrain Loss: 1.120 | Train Acc: 52.90%\n",
      "\t Val. Loss: 1.102 |  Val. Acc: 53.84%\n",
      "Epoch: 05 | Epoch Time: 0m 39s\n",
      "\tTrain Loss: 1.009 | Train Acc: 58.81%\n",
      "\t Val. Loss: 0.997 |  Val. Acc: 59.19%\n",
      "Epoch: 06 | Epoch Time: 0m 39s\n",
      "\tTrain Loss: 0.924 | Train Acc: 63.49%\n",
      "\t Val. Loss: 1.151 |  Val. Acc: 48.64%\n",
      "Epoch: 07 | Epoch Time: 0m 39s\n",
      "\tTrain Loss: 0.856 | Train Acc: 67.04%\n",
      "\t Val. Loss: 0.828 |  Val. Acc: 68.50%\n",
      "Epoch: 08 | Epoch Time: 0m 39s\n",
      "\tTrain Loss: 0.806 | Train Acc: 69.66%\n",
      "\t Val. Loss: 0.847 |  Val. Acc: 67.33%\n",
      "Epoch: 09 | Epoch Time: 0m 39s\n",
      "\tTrain Loss: 0.774 | Train Acc: 71.18%\n",
      "\t Val. Loss: 0.774 |  Val. Acc: 71.16%\n",
      "Epoch: 10 | Epoch Time: 0m 39s\n",
      "\tTrain Loss: 0.754 | Train Acc: 72.57%\n",
      "\t Val. Loss: 0.758 |  Val. Acc: 72.51%\n",
      "Epoch: 11 | Epoch Time: 0m 39s\n",
      "\tTrain Loss: 0.733 | Train Acc: 73.04%\n",
      "\t Val. Loss: 0.745 |  Val. Acc: 72.52%\n",
      "Epoch: 12 | Epoch Time: 0m 39s\n",
      "\tTrain Loss: 0.741 | Train Acc: 72.84%\n",
      "\t Val. Loss: 0.743 |  Val. Acc: 72.81%\n",
      "Epoch: 13 | Epoch Time: 0m 39s\n",
      "\tTrain Loss: 0.734 | Train Acc: 73.02%\n",
      "\t Val. Loss: 0.742 |  Val. Acc: 72.77%\n",
      "Epoch: 14 | Epoch Time: 0m 39s\n",
      "\tTrain Loss: 0.731 | Train Acc: 73.28%\n",
      "\t Val. Loss: 0.768 |  Val. Acc: 72.02%\n",
      "Epoch: 15 | Epoch Time: 0m 39s\n",
      "\tTrain Loss: 0.724 | Train Acc: 73.41%\n",
      "\t Val. Loss: 0.734 |  Val. Acc: 73.10%\n",
      "Epoch: 16 | Epoch Time: 0m 39s\n",
      "\tTrain Loss: 0.716 | Train Acc: 73.99%\n",
      "\t Val. Loss: 0.741 |  Val. Acc: 73.05%\n",
      "Epoch: 17 | Epoch Time: 0m 39s\n",
      "\tTrain Loss: 0.702 | Train Acc: 74.65%\n",
      "\t Val. Loss: 0.736 |  Val. Acc: 73.54%\n",
      "Epoch: 18 | Epoch Time: 0m 39s\n",
      "\tTrain Loss: 0.689 | Train Acc: 75.13%\n",
      "\t Val. Loss: 0.712 |  Val. Acc: 74.12%\n",
      "Epoch: 19 | Epoch Time: 0m 39s\n",
      "\tTrain Loss: 0.677 | Train Acc: 75.40%\n",
      "\t Val. Loss: 0.719 |  Val. Acc: 73.91%\n",
      "Epoch: 20 | Epoch Time: 0m 39s\n",
      "\tTrain Loss: 0.670 | Train Acc: 75.89%\n",
      "\t Val. Loss: 0.711 |  Val. Acc: 74.15%\n"
     ]
    }
   ],
   "source": [
    "writer = SummaryWriter('runs/RNN+EMB')\n",
    "N_EPOCHS = 20\n",
    "\n",
    "best_valid_loss = float('inf')\n",
    "\n",
    "for epoch in range(N_EPOCHS):\n",
    "    start_time = time.time()\n",
    "\n",
    "    train_loss, train_acc = train(model, train_loader, optimizer, lr_scheduler, criterion)\n",
    "    valid_loss, valid_acc = evaluate(model, valid_loader, criterion)\n",
    "        \n",
    "    end_time = time.time()\n",
    "\n",
    "    epoch_mins, epoch_secs = epoch_time(start_time, end_time)\n",
    "      \n",
    "    if valid_loss < best_valid_loss:\n",
    "        best_valid_loss = valid_loss\n",
    "        torch.save(model.state_dict(), 'best-model.pt')\n",
    "      \n",
    "    writer.add_scalar(\"Train Loss\", train_loss, epoch+1)\n",
    "    writer.add_scalar(\"Train Acc\", train_acc, epoch+1)\n",
    "    writer.add_scalar(\"Valid Loss\", valid_loss, epoch+1)\n",
    "    writer.add_scalar(\"Valid Acc\", valid_acc, epoch+1)\n",
    "    \n",
    "    print(f'Epoch: {epoch+1:02} | Epoch Time: {epoch_mins}m {epoch_secs}s')\n",
    "    print(f'\\tTrain Loss: {train_loss:.3f} | Train Acc: {train_acc*100:.2f}%')\n",
    "    print(f'\\t Val. Loss: {valid_loss:.3f} |  Val. Acc: {valid_acc*100:.2f}%')"
   ]
  },
  {
   "cell_type": "code",
   "execution_count": 74,
   "id": "453c47a4",
   "metadata": {
    "execution": {
     "iopub.execute_input": "2023-01-08T14:33:52.235335Z",
     "iopub.status.busy": "2023-01-08T14:33:52.235012Z",
     "iopub.status.idle": "2023-01-08T14:33:52.240045Z",
     "shell.execute_reply": "2023-01-08T14:33:52.238930Z"
    },
    "papermill": {
     "duration": 0.067578,
     "end_time": "2023-01-08T14:33:52.241993",
     "exception": false,
     "start_time": "2023-01-08T14:33:52.174415",
     "status": "completed"
    },
    "tags": []
   },
   "outputs": [],
   "source": [
    "writer.close()"
   ]
  },
  {
   "cell_type": "markdown",
   "id": "4d924c78",
   "metadata": {
    "papermill": {
     "duration": 0.069849,
     "end_time": "2023-01-08T14:33:52.372123",
     "exception": false,
     "start_time": "2023-01-08T14:33:52.302274",
     "status": "completed"
    },
    "tags": []
   },
   "source": [
    "### RoBERTa"
   ]
  },
  {
   "cell_type": "code",
   "execution_count": 75,
   "id": "e14fe172",
   "metadata": {
    "execution": {
     "iopub.execute_input": "2023-01-08T14:33:52.516633Z",
     "iopub.status.busy": "2023-01-08T14:33:52.516321Z",
     "iopub.status.idle": "2023-01-08T14:34:02.998939Z",
     "shell.execute_reply": "2023-01-08T14:34:02.998028Z"
    },
    "papermill": {
     "duration": 10.549451,
     "end_time": "2023-01-08T14:34:03.001437",
     "exception": false,
     "start_time": "2023-01-08T14:33:52.451986",
     "status": "completed"
    },
    "tags": []
   },
   "outputs": [
    {
     "data": {
      "application/vnd.jupyter.widget-view+json": {
       "model_id": "4e1adfce136a4fff881789fe097633a5",
       "version_major": 2,
       "version_minor": 0
      },
      "text/plain": [
       "Downloading:   0%|          | 0.00/878k [00:00<?, ?B/s]"
      ]
     },
     "metadata": {},
     "output_type": "display_data"
    },
    {
     "data": {
      "application/vnd.jupyter.widget-view+json": {
       "model_id": "59c221d7bd054991828402edb2b009e6",
       "version_major": 2,
       "version_minor": 0
      },
      "text/plain": [
       "Downloading:   0%|          | 0.00/446k [00:00<?, ?B/s]"
      ]
     },
     "metadata": {},
     "output_type": "display_data"
    },
    {
     "data": {
      "application/vnd.jupyter.widget-view+json": {
       "model_id": "6901266cd8884f25aae0d835025aead8",
       "version_major": 2,
       "version_minor": 0
      },
      "text/plain": [
       "Downloading:   0%|          | 0.00/481 [00:00<?, ?B/s]"
      ]
     },
     "metadata": {},
     "output_type": "display_data"
    }
   ],
   "source": [
    "tokenizer = RobertaTokenizer.from_pretrained(\"roberta-base\")"
   ]
  },
  {
   "cell_type": "code",
   "execution_count": 76,
   "id": "ccf0fd06",
   "metadata": {
    "execution": {
     "iopub.execute_input": "2023-01-08T14:34:03.126610Z",
     "iopub.status.busy": "2023-01-08T14:34:03.125797Z",
     "iopub.status.idle": "2023-01-08T14:34:03.133246Z",
     "shell.execute_reply": "2023-01-08T14:34:03.132410Z"
    },
    "papermill": {
     "duration": 0.071668,
     "end_time": "2023-01-08T14:34:03.135208",
     "exception": false,
     "start_time": "2023-01-08T14:34:03.063540",
     "status": "completed"
    },
    "tags": []
   },
   "outputs": [],
   "source": [
    "def get_tokens(text: str):\n",
    "    encoded_dict = tokenizer.encode_plus(text,\n",
    "                                         add_special_tokens=True,\n",
    "                                         truncation=True,\n",
    "                                         max_length=128,\n",
    "                                         padding='max_length',\n",
    "                                         return_attention_mask=True,\n",
    "                                         return_tensors='pt')\n",
    "    input_ids = encoded_dict['input_ids'].squeeze(0)\n",
    "    attention_mask = encoded_dict['attention_mask'].squeeze(0)\n",
    "    return input_ids, attention_mask"
   ]
  },
  {
   "cell_type": "code",
   "execution_count": 77,
   "id": "22c9e7dc",
   "metadata": {
    "execution": {
     "iopub.execute_input": "2023-01-08T14:34:03.259989Z",
     "iopub.status.busy": "2023-01-08T14:34:03.258281Z",
     "iopub.status.idle": "2023-01-08T14:34:25.037323Z",
     "shell.execute_reply": "2023-01-08T14:34:25.036362Z"
    },
    "papermill": {
     "duration": 21.843196,
     "end_time": "2023-01-08T14:34:25.039672",
     "exception": false,
     "start_time": "2023-01-08T14:34:03.196476",
     "status": "completed"
    },
    "tags": []
   },
   "outputs": [
    {
     "name": "stderr",
     "output_type": "stream",
     "text": [
      "100%|██████████| 41145/41145 [00:20<00:00, 1968.25it/s]\n"
     ]
    }
   ],
   "source": [
    "train_df['input_ids'], train_df['attention_mask'] = zip(*train_df['Text_clean'].progress_apply(get_tokens))"
   ]
  },
  {
   "cell_type": "code",
   "execution_count": 78,
   "id": "da3501cf",
   "metadata": {
    "execution": {
     "iopub.execute_input": "2023-01-08T14:34:25.183699Z",
     "iopub.status.busy": "2023-01-08T14:34:25.182831Z",
     "iopub.status.idle": "2023-01-08T14:34:25.190264Z",
     "shell.execute_reply": "2023-01-08T14:34:25.189417Z"
    },
    "papermill": {
     "duration": 0.080685,
     "end_time": "2023-01-08T14:34:25.192222",
     "exception": false,
     "start_time": "2023-01-08T14:34:25.111537",
     "status": "completed"
    },
    "tags": []
   },
   "outputs": [],
   "source": [
    "class TextDataset(torch.utils.data.Dataset):\n",
    "    \"\"\"\n",
    "    Class to create PyTorch dataset for the sentiment analysis task\n",
    "    \"\"\"\n",
    "\n",
    "    def __init__(self, data_df: pd.DataFrame):\n",
    "        \"\"\"\n",
    "        Create the PyTorch dataset for the sentiment analysis task\n",
    "        Parameters\n",
    "        ----------\n",
    "        data_df (pd.DataFrame): prepared data in Pandas DataFrame format\n",
    "        \"\"\"\n",
    "\n",
    "        self.data_df = data_df\n",
    "\n",
    "    def __len__(self):\n",
    "        \"\"\"\n",
    "        Returns\n",
    "        ----------\n",
    "        data_len (int): dataset length\n",
    "        \"\"\"\n",
    "        data_len = self.data_df.shape[0]\n",
    "        return data_len\n",
    "\n",
    "    def __getitem__(self, idx: int):\n",
    "        \"\"\"\n",
    "        Gets tokenized text, attention masks and labels by id\n",
    "        \n",
    "        Parameters\n",
    "        ----------\n",
    "        idx (int): data item id\n",
    "        \n",
    "        Returns\n",
    "        ----------\n",
    "        input_ids (torch.Tensor): tokenized text\n",
    "        attention_mask (torch.Tensor): attention mask\n",
    "        label (torch.Tensor): sentiment label\n",
    "        \"\"\"\n",
    "        input_ids = self.data_df.iloc[idx]['input_ids']\n",
    "        attention_mask = self.data_df.iloc[idx]['attention_mask']\n",
    "        label = self.data_df.iloc[idx]['Label']\n",
    "        return input_ids, attention_mask, label"
   ]
  },
  {
   "cell_type": "code",
   "execution_count": 79,
   "id": "ef5f950d",
   "metadata": {
    "execution": {
     "iopub.execute_input": "2023-01-08T14:34:25.376936Z",
     "iopub.status.busy": "2023-01-08T14:34:25.375292Z",
     "iopub.status.idle": "2023-01-08T14:34:29.123068Z",
     "shell.execute_reply": "2023-01-08T14:34:29.121730Z"
    },
    "papermill": {
     "duration": 3.863052,
     "end_time": "2023-01-08T14:34:29.125458",
     "exception": false,
     "start_time": "2023-01-08T14:34:25.262406",
     "status": "completed"
    },
    "tags": []
   },
   "outputs": [
    {
     "data": {
      "text/plain": [
       "((32916, 10), (8229, 10))"
      ]
     },
     "execution_count": 79,
     "metadata": {},
     "output_type": "execute_result"
    }
   ],
   "source": [
    "train_split, val_split = train_test_split(train_df,\n",
    "                                          stratify=train_df.Label, \n",
    "                                          test_size=0.2,\n",
    "                                          random_state=SEED)\n",
    "train_split.shape, val_split.shape"
   ]
  },
  {
   "cell_type": "code",
   "execution_count": 80,
   "id": "13b4f4d5",
   "metadata": {
    "execution": {
     "iopub.execute_input": "2023-01-08T14:34:29.271047Z",
     "iopub.status.busy": "2023-01-08T14:34:29.270438Z",
     "iopub.status.idle": "2023-01-08T14:34:29.276481Z",
     "shell.execute_reply": "2023-01-08T14:34:29.275624Z"
    },
    "papermill": {
     "duration": 0.078936,
     "end_time": "2023-01-08T14:34:29.278470",
     "exception": false,
     "start_time": "2023-01-08T14:34:29.199534",
     "status": "completed"
    },
    "tags": []
   },
   "outputs": [],
   "source": [
    "train_dataset = TextDataset(train_split)\n",
    "train_loader = DataLoader(train_dataset,\n",
    "                          shuffle=True,\n",
    "                          batch_size=32,\n",
    "                          drop_last=True)\n",
    "\n",
    "val_dataset = TextDataset(val_split)\n",
    "val_loader = DataLoader(val_dataset,\n",
    "                        shuffle=False,\n",
    "                        batch_size=32,\n",
    "                        drop_last=False)"
   ]
  },
  {
   "cell_type": "code",
   "execution_count": 81,
   "id": "5e014f50",
   "metadata": {
    "execution": {
     "iopub.execute_input": "2023-01-08T14:34:29.420342Z",
     "iopub.status.busy": "2023-01-08T14:34:29.419500Z",
     "iopub.status.idle": "2023-01-08T14:35:16.328077Z",
     "shell.execute_reply": "2023-01-08T14:35:16.326133Z"
    },
    "papermill": {
     "duration": 46.981602,
     "end_time": "2023-01-08T14:35:16.330440",
     "exception": false,
     "start_time": "2023-01-08T14:34:29.348838",
     "status": "completed"
    },
    "tags": []
   },
   "outputs": [
    {
     "data": {
      "application/vnd.jupyter.widget-view+json": {
       "model_id": "78bcca16aefd4ca79238a78fd6676457",
       "version_major": 2,
       "version_minor": 0
      },
      "text/plain": [
       "Downloading:   0%|          | 0.00/768 [00:00<?, ?B/s]"
      ]
     },
     "metadata": {},
     "output_type": "display_data"
    },
    {
     "data": {
      "application/vnd.jupyter.widget-view+json": {
       "model_id": "cf730350bc5e40a98677529a01645d83",
       "version_major": 2,
       "version_minor": 0
      },
      "text/plain": [
       "Downloading:   0%|          | 0.00/476M [00:00<?, ?B/s]"
      ]
     },
     "metadata": {},
     "output_type": "display_data"
    },
    {
     "name": "stderr",
     "output_type": "stream",
     "text": [
      "Some weights of RobertaForSequenceClassification were not initialized from the model checkpoint at cardiffnlp/twitter-roberta-base-emotion and are newly initialized because the shapes did not match:\n",
      "- classifier.out_proj.weight: found shape torch.Size([4, 768]) in the checkpoint and torch.Size([5, 768]) in the model instantiated\n",
      "- classifier.out_proj.bias: found shape torch.Size([4]) in the checkpoint and torch.Size([5]) in the model instantiated\n",
      "You should probably TRAIN this model on a down-stream task to be able to use it for predictions and inference.\n"
     ]
    }
   ],
   "source": [
    "model = RobertaForSequenceClassification.from_pretrained(\"cardiffnlp/twitter-roberta-base-emotion\",\n",
    "                                                      num_labels=len(sentiment_to_idx),\n",
    "                                                      output_attentions=False,\n",
    "                                                      output_hidden_states=False,\n",
    "                                                      ignore_mismatched_sizes=True)"
   ]
  },
  {
   "cell_type": "code",
   "execution_count": 82,
   "id": "29da0191",
   "metadata": {
    "execution": {
     "iopub.execute_input": "2023-01-08T14:35:16.478827Z",
     "iopub.status.busy": "2023-01-08T14:35:16.478501Z",
     "iopub.status.idle": "2023-01-08T14:35:16.484522Z",
     "shell.execute_reply": "2023-01-08T14:35:16.483597Z"
    },
    "papermill": {
     "duration": 0.081073,
     "end_time": "2023-01-08T14:35:16.486527",
     "exception": false,
     "start_time": "2023-01-08T14:35:16.405454",
     "status": "completed"
    },
    "tags": []
   },
   "outputs": [],
   "source": [
    "epochs = 8\n",
    "optimizer = optim.SGD(model.parameters(), lr=LR_RATE)\n",
    "scheduler = optim.lr_scheduler.CyclicLR(optimizer, base_lr=0.001, max_lr=0.1,step_size_up=5,mode=\"exp_range\",gamma=0.85)"
   ]
  },
  {
   "cell_type": "code",
   "execution_count": 83,
   "id": "b66fe486",
   "metadata": {
    "execution": {
     "iopub.execute_input": "2023-01-08T14:35:16.630246Z",
     "iopub.status.busy": "2023-01-08T14:35:16.629458Z",
     "iopub.status.idle": "2023-01-08T14:35:16.635548Z",
     "shell.execute_reply": "2023-01-08T14:35:16.634720Z"
    },
    "papermill": {
     "duration": 0.080453,
     "end_time": "2023-01-08T14:35:16.637593",
     "exception": false,
     "start_time": "2023-01-08T14:35:16.557140",
     "status": "completed"
    },
    "tags": []
   },
   "outputs": [],
   "source": [
    "class RunningAverage:\n",
    "    \"\"\"\n",
    "    Class to save and update the running average\n",
    "    \"\"\"\n",
    "\n",
    "    def __init__(self) -> None:\n",
    "        self.count = 0\n",
    "        self.total = 0.0\n",
    "\n",
    "    def update(self, n: float) -> None:\n",
    "        \"\"\"\n",
    "        Updates running average with new value\n",
    "        Parameters\n",
    "        ----------\n",
    "        n (float): value to add to the running average\n",
    "        \"\"\"\n",
    "        self.total += n\n",
    "        self.count += 1\n",
    "\n",
    "    def __call__(self) -> float:\n",
    "        \"\"\"\n",
    "        Returns current running average\n",
    "        Returns\n",
    "        -------\n",
    "        running_avg (float): Current running average\n",
    "        \"\"\"\n",
    "        running_avg = self.total / (self.count + 1e-15)\n",
    "        return running_avg"
   ]
  },
  {
   "cell_type": "code",
   "execution_count": 84,
   "id": "688ac86b",
   "metadata": {
    "execution": {
     "iopub.execute_input": "2023-01-08T14:35:16.781127Z",
     "iopub.status.busy": "2023-01-08T14:35:16.780542Z",
     "iopub.status.idle": "2023-01-08T15:31:15.465851Z",
     "shell.execute_reply": "2023-01-08T15:31:15.464820Z"
    },
    "papermill": {
     "duration": 3359.709462,
     "end_time": "2023-01-08T15:31:16.417523",
     "exception": false,
     "start_time": "2023-01-08T14:35:16.708061",
     "status": "completed"
    },
    "tags": []
   },
   "outputs": [
    {
     "name": "stdout",
     "output_type": "stream",
     "text": [
      "Epoch 1. Train_loss: 1.3881, val_loss: 1.1289, val: 0.5164, time: 06:26\n",
      "Epoch 2. Train_loss: 1.0184, val_loss: 0.8965, val: 0.6449, time: 06:26\n",
      "Epoch 3. Train_loss: 0.9101, val_loss: 0.8855, val: 0.6548, time: 06:26\n",
      "Epoch 4. Train_loss: 0.8434, val_loss: 0.8850, val: 0.6553, time: 06:26\n",
      "Epoch 5. Train_loss: 0.8013, val_loss: 0.8004, val: 0.7026, time: 06:27\n",
      "Epoch 6. Train_loss: 0.7695, val_loss: 0.8300, val: 0.6813, time: 06:27\n",
      "Epoch 7. Train_loss: 0.7336, val_loss: 0.7484, val: 0.7295, time: 06:28\n",
      "Epoch 8. Train_loss: 0.7125, val_loss: 0.8024, val: 0.7001, time: 06:27\n"
     ]
    }
   ],
   "source": [
    "device = torch.device('cuda')\n",
    "model.to(device)\n",
    "\n",
    "for e in range(epochs):\n",
    "    loss_avg = RunningAverage()\n",
    "    val_avg = RunningAverage()\n",
    "    val_loss_avg = RunningAverage()\n",
    "\n",
    "    # Force the garbage collection\n",
    "    torch.cuda.empty_cache()\n",
    "    gc.collect()\n",
    "\n",
    "    model.train()\n",
    "    with tqdm(total=len(train_loader), leave=False, file=sys.stdout) as t:\n",
    "        t.set_description(f'Epoch {e + 1}')\n",
    "\n",
    "        for batch_n, batch_data in enumerate(train_loader):\n",
    "            # Load the current batch data on the defined device\n",
    "            b_input_ids = batch_data[0].to(device)\n",
    "            b_input_mask = batch_data[1].to(device)\n",
    "            b_labels = batch_data[2].to(device)\n",
    "\n",
    "            model.zero_grad()\n",
    "            model_output = model(b_input_ids,\n",
    "                                 token_type_ids=None,\n",
    "                                 attention_mask=b_input_mask,\n",
    "                                 labels=b_labels)\n",
    "            loss, logits = model_output['loss'], model_output['logits']\n",
    "            loss_avg.update(loss.item())\n",
    "            loss.backward()\n",
    "            # Adaptively clip gradients to avoid gradient explosion\n",
    "            torch.nn.utils.clip_grad_norm_(model.parameters(), 2.0)\n",
    "            optimizer.step()\n",
    "            # Update the LR scheduler every step\n",
    "            scheduler.step()\n",
    "\n",
    "            t.set_postfix({'stats': f'train_loss: {loss_avg():.4f}'})\n",
    "            t.update()\n",
    "            stats_time_elapsed = t.format_interval(t.format_dict['elapsed'])\n",
    "\n",
    "    # Evaluate every epoch\n",
    "    model.eval()\n",
    "    with torch.no_grad():\n",
    "        for val_batch_data in val_loader:\n",
    "            # Load the current batch data on the defined device\n",
    "            b_val_input_ids = val_batch_data[0].to(device)\n",
    "            b_val_input_mask = val_batch_data[1].to(device)\n",
    "            b_val_labels = val_batch_data[2].to(device)\n",
    "\n",
    "            val_model_output = model(b_val_input_ids,\n",
    "                                     token_type_ids=None,\n",
    "                                     attention_mask=b_val_input_mask,\n",
    "                                     labels=b_val_labels)\n",
    "            val_loss, val_logits = val_model_output['loss'], val_model_output['logits']\n",
    "            val_loss_avg.update(val_loss.item())\n",
    "            val_logits = torch.argmax(val_logits, 1)\n",
    "            # Calculate the validation accuracy\n",
    "            val_batch = torch.sum(val_logits == b_val_labels) / b_val_labels.shape[0]\n",
    "            val_avg.update(val_batch.item())\n",
    "\n",
    "    # Print the epoch stats\n",
    "    print(f'Epoch {e + 1}. Train_loss: {loss_avg():.4f},'\n",
    "          f' val_loss: {val_loss_avg():.4f}, val: {val_avg():.4f}, time: {stats_time_elapsed}')"
   ]
  },
  {
   "cell_type": "code",
   "execution_count": 85,
   "id": "6b278af9",
   "metadata": {
    "execution": {
     "iopub.execute_input": "2023-01-08T15:31:18.667534Z",
     "iopub.status.busy": "2023-01-08T15:31:18.667185Z",
     "iopub.status.idle": "2023-01-08T15:31:46.267011Z",
     "shell.execute_reply": "2023-01-08T15:31:46.265812Z"
    },
    "papermill": {
     "duration": 28.671023,
     "end_time": "2023-01-08T15:31:46.269525",
     "exception": false,
     "start_time": "2023-01-08T15:31:17.598502",
     "status": "completed"
    },
    "tags": []
   },
   "outputs": [
    {
     "name": "stderr",
     "output_type": "stream",
     "text": [
      "100%|██████████| 3798/3798 [00:27<00:00, 137.67it/s]\n"
     ]
    }
   ],
   "source": [
    "sentiments = []\n",
    "\n",
    "model.eval()\n",
    "with torch.inference_mode():\n",
    "    for i, row in tqdm(test_df.iterrows(), total=test_df.shape[0]):\n",
    "        # Cleanup and tokenize the sentence\n",
    "        text = row['Text_clean']\n",
    "        input_ids, attention_mask = get_tokens(text)\n",
    "        # Place the tokenized sentence and its attention mask tensors on defined device\n",
    "        input_ids, attention_mask = input_ids.unsqueeze(0).to(device), attention_mask.unsqueeze(0).to(device)\n",
    "        # Get predictions\n",
    "        logits = model(input_ids,\n",
    "                       attention_mask=attention_mask,\n",
    "                       labels=None)['logits']\n",
    "        pred = torch.argmax(logits, 1)\n",
    "        # Convert the integer category value to its actual name and save in predictions list\n",
    "        sentiments.append(idx_to_sentiment[pred.item()])\n",
    "\n",
    "# Save the predictions in Pandas column\n",
    "test_df['Sentiment'] = sentiments"
   ]
  },
  {
   "cell_type": "code",
   "execution_count": 86,
   "id": "727884bf",
   "metadata": {
    "execution": {
     "iopub.execute_input": "2023-01-08T15:31:48.138014Z",
     "iopub.status.busy": "2023-01-08T15:31:48.137625Z",
     "iopub.status.idle": "2023-01-08T15:31:48.150331Z",
     "shell.execute_reply": "2023-01-08T15:31:48.149495Z"
    },
    "id": "3ml9ol-kiF5n",
    "papermill": {
     "duration": 0.921021,
     "end_time": "2023-01-08T15:31:48.152313",
     "exception": false,
     "start_time": "2023-01-08T15:31:47.231292",
     "status": "completed"
    },
    "tags": []
   },
   "outputs": [],
   "source": [
    "submission = test_df['Sentiment']\n",
    "submission.to_csv('submission_8_Roberta.csv', index=True)"
   ]
  },
  {
   "cell_type": "code",
   "execution_count": 87,
   "id": "be2d42ce",
   "metadata": {
    "execution": {
     "iopub.execute_input": "2023-01-08T15:31:50.076652Z",
     "iopub.status.busy": "2023-01-08T15:31:50.076284Z",
     "iopub.status.idle": "2023-01-08T15:31:50.080588Z",
     "shell.execute_reply": "2023-01-08T15:31:50.079678Z"
    },
    "id": "dsktGDtOiFyS",
    "papermill": {
     "duration": 0.965179,
     "end_time": "2023-01-08T15:31:50.082607",
     "exception": false,
     "start_time": "2023-01-08T15:31:49.117428",
     "status": "completed"
    },
    "tags": []
   },
   "outputs": [],
   "source": [
    "# ! kaggle competitions submit -c nlp-txt-classification -f submission_4.csv -m \"4 Roberta EPOCH\""
   ]
  },
  {
   "cell_type": "code",
   "execution_count": 88,
   "id": "fb4822c0",
   "metadata": {
    "execution": {
     "iopub.execute_input": "2023-01-08T15:31:52.747193Z",
     "iopub.status.busy": "2023-01-08T15:31:52.746623Z",
     "iopub.status.idle": "2023-01-08T15:31:57.859595Z",
     "shell.execute_reply": "2023-01-08T15:31:57.858204Z"
    },
    "id": "r70rpS0QiFt6",
    "papermill": {
     "duration": 6.472073,
     "end_time": "2023-01-08T15:31:57.861746",
     "exception": false,
     "start_time": "2023-01-08T15:31:51.389673",
     "status": "completed"
    },
    "tags": []
   },
   "outputs": [
    {
     "data": {
      "text/html": [
       "\n",
       "      <iframe id=\"tensorboard-frame-7d66b7b356347606\" width=\"100%\" height=\"800\" frameborder=\"0\">\n",
       "      </iframe>\n",
       "      <script>\n",
       "        (function() {\n",
       "          const frame = document.getElementById(\"tensorboard-frame-7d66b7b356347606\");\n",
       "          const url = new URL(\"/\", window.location);\n",
       "          const port = 6006;\n",
       "          if (port) {\n",
       "            url.port = port;\n",
       "          }\n",
       "          frame.src = url;\n",
       "        })();\n",
       "      </script>\n",
       "    "
      ],
      "text/plain": [
       "<IPython.core.display.HTML object>"
      ]
     },
     "metadata": {},
     "output_type": "display_data"
    }
   ],
   "source": [
    "%tensorboard --logdir={./runs/}"
   ]
  }
 ],
 "metadata": {
  "kernelspec": {
   "display_name": "Python 3",
   "language": "python",
   "name": "python3"
  },
  "language_info": {
   "codemirror_mode": {
    "name": "ipython",
    "version": 3
   },
   "file_extension": ".py",
   "mimetype": "text/x-python",
   "name": "python",
   "nbconvert_exporter": "python",
   "pygments_lexer": "ipython3",
   "version": "3.7.12"
  },
  "papermill": {
   "default_parameters": {},
   "duration": 4697.560362,
   "end_time": "2023-01-08T15:32:01.724905",
   "environment_variables": {},
   "exception": null,
   "input_path": "__notebook__.ipynb",
   "output_path": "__notebook__.ipynb",
   "parameters": {},
   "start_time": "2023-01-08T14:13:44.164543",
   "version": "2.3.4"
  },
  "widgets": {
   "application/vnd.jupyter.widget-state+json": {
    "state": {
     "01fcae22f9ac4219b6711113906ec29f": {
      "model_module": "@jupyter-widgets/base",
      "model_module_version": "1.2.0",
      "model_name": "LayoutModel",
      "state": {
       "_model_module": "@jupyter-widgets/base",
       "_model_module_version": "1.2.0",
       "_model_name": "LayoutModel",
       "_view_count": null,
       "_view_module": "@jupyter-widgets/base",
       "_view_module_version": "1.2.0",
       "_view_name": "LayoutView",
       "align_content": null,
       "align_items": null,
       "align_self": null,
       "border": null,
       "bottom": null,
       "display": null,
       "flex": null,
       "flex_flow": null,
       "grid_area": null,
       "grid_auto_columns": null,
       "grid_auto_flow": null,
       "grid_auto_rows": null,
       "grid_column": null,
       "grid_gap": null,
       "grid_row": null,
       "grid_template_areas": null,
       "grid_template_columns": null,
       "grid_template_rows": null,
       "height": null,
       "justify_content": null,
       "justify_items": null,
       "left": null,
       "margin": null,
       "max_height": null,
       "max_width": null,
       "min_height": null,
       "min_width": null,
       "object_fit": null,
       "object_position": null,
       "order": null,
       "overflow": null,
       "overflow_x": null,
       "overflow_y": null,
       "padding": null,
       "right": null,
       "top": null,
       "visibility": null,
       "width": null
      }
     },
     "05980b04524c43578541b601b03247e9": {
      "model_module": "@jupyter-widgets/controls",
      "model_module_version": "1.5.0",
      "model_name": "DescriptionStyleModel",
      "state": {
       "_model_module": "@jupyter-widgets/controls",
       "_model_module_version": "1.5.0",
       "_model_name": "DescriptionStyleModel",
       "_view_count": null,
       "_view_module": "@jupyter-widgets/base",
       "_view_module_version": "1.2.0",
       "_view_name": "StyleView",
       "description_width": ""
      }
     },
     "0637df9a47b44f4484ac80e104fc9f2f": {
      "model_module": "@jupyter-widgets/base",
      "model_module_version": "1.2.0",
      "model_name": "LayoutModel",
      "state": {
       "_model_module": "@jupyter-widgets/base",
       "_model_module_version": "1.2.0",
       "_model_name": "LayoutModel",
       "_view_count": null,
       "_view_module": "@jupyter-widgets/base",
       "_view_module_version": "1.2.0",
       "_view_name": "LayoutView",
       "align_content": null,
       "align_items": null,
       "align_self": null,
       "border": null,
       "bottom": null,
       "display": null,
       "flex": null,
       "flex_flow": null,
       "grid_area": null,
       "grid_auto_columns": null,
       "grid_auto_flow": null,
       "grid_auto_rows": null,
       "grid_column": null,
       "grid_gap": null,
       "grid_row": null,
       "grid_template_areas": null,
       "grid_template_columns": null,
       "grid_template_rows": null,
       "height": null,
       "justify_content": null,
       "justify_items": null,
       "left": null,
       "margin": null,
       "max_height": null,
       "max_width": null,
       "min_height": null,
       "min_width": null,
       "object_fit": null,
       "object_position": null,
       "order": null,
       "overflow": null,
       "overflow_x": null,
       "overflow_y": null,
       "padding": null,
       "right": null,
       "top": null,
       "visibility": null,
       "width": null
      }
     },
     "0d4b55f74ee54a28b5cc22024e68a986": {
      "model_module": "@jupyter-widgets/controls",
      "model_module_version": "1.5.0",
      "model_name": "ProgressStyleModel",
      "state": {
       "_model_module": "@jupyter-widgets/controls",
       "_model_module_version": "1.5.0",
       "_model_name": "ProgressStyleModel",
       "_view_count": null,
       "_view_module": "@jupyter-widgets/base",
       "_view_module_version": "1.2.0",
       "_view_name": "StyleView",
       "bar_color": null,
       "description_width": ""
      }
     },
     "0dab8c40837a474289f24c4174430a78": {
      "model_module": "@jupyter-widgets/controls",
      "model_module_version": "1.5.0",
      "model_name": "HTMLModel",
      "state": {
       "_dom_classes": [],
       "_model_module": "@jupyter-widgets/controls",
       "_model_module_version": "1.5.0",
       "_model_name": "HTMLModel",
       "_view_count": null,
       "_view_module": "@jupyter-widgets/controls",
       "_view_module_version": "1.5.0",
       "_view_name": "HTMLView",
       "description": "",
       "description_tooltip": null,
       "layout": "IPY_MODEL_388fb02243f447c1aff51e8bb30389eb",
       "placeholder": "​",
       "style": "IPY_MODEL_05980b04524c43578541b601b03247e9",
       "value": " 446k/446k [00:00&lt;00:00, 646kB/s]"
      }
     },
     "177e00ef345841f89b8df6185a4c891f": {
      "model_module": "@jupyter-widgets/controls",
      "model_module_version": "1.5.0",
      "model_name": "ProgressStyleModel",
      "state": {
       "_model_module": "@jupyter-widgets/controls",
       "_model_module_version": "1.5.0",
       "_model_name": "ProgressStyleModel",
       "_view_count": null,
       "_view_module": "@jupyter-widgets/base",
       "_view_module_version": "1.2.0",
       "_view_name": "StyleView",
       "bar_color": null,
       "description_width": ""
      }
     },
     "1c44f205c0694f8dabbd149ad1c865a0": {
      "model_module": "@jupyter-widgets/controls",
      "model_module_version": "1.5.0",
      "model_name": "FloatProgressModel",
      "state": {
       "_dom_classes": [],
       "_model_module": "@jupyter-widgets/controls",
       "_model_module_version": "1.5.0",
       "_model_name": "FloatProgressModel",
       "_view_count": null,
       "_view_module": "@jupyter-widgets/controls",
       "_view_module_version": "1.5.0",
       "_view_name": "ProgressView",
       "bar_style": "success",
       "description": "",
       "description_tooltip": null,
       "layout": "IPY_MODEL_b247d9d7fe9a4295885031df16231405",
       "max": 498682569.0,
       "min": 0.0,
       "orientation": "horizontal",
       "style": "IPY_MODEL_177e00ef345841f89b8df6185a4c891f",
       "value": 498682569.0
      }
     },
     "205a169e3d1e4429bcb6c8a064afb37e": {
      "model_module": "@jupyter-widgets/base",
      "model_module_version": "1.2.0",
      "model_name": "LayoutModel",
      "state": {
       "_model_module": "@jupyter-widgets/base",
       "_model_module_version": "1.2.0",
       "_model_name": "LayoutModel",
       "_view_count": null,
       "_view_module": "@jupyter-widgets/base",
       "_view_module_version": "1.2.0",
       "_view_name": "LayoutView",
       "align_content": null,
       "align_items": null,
       "align_self": null,
       "border": null,
       "bottom": null,
       "display": null,
       "flex": null,
       "flex_flow": null,
       "grid_area": null,
       "grid_auto_columns": null,
       "grid_auto_flow": null,
       "grid_auto_rows": null,
       "grid_column": null,
       "grid_gap": null,
       "grid_row": null,
       "grid_template_areas": null,
       "grid_template_columns": null,
       "grid_template_rows": null,
       "height": null,
       "justify_content": null,
       "justify_items": null,
       "left": null,
       "margin": null,
       "max_height": null,
       "max_width": null,
       "min_height": null,
       "min_width": null,
       "object_fit": null,
       "object_position": null,
       "order": null,
       "overflow": null,
       "overflow_x": null,
       "overflow_y": null,
       "padding": null,
       "right": null,
       "top": null,
       "visibility": null,
       "width": null
      }
     },
     "281c0fce94944be9a1fe8e4de9925b30": {
      "model_module": "@jupyter-widgets/controls",
      "model_module_version": "1.5.0",
      "model_name": "HTMLModel",
      "state": {
       "_dom_classes": [],
       "_model_module": "@jupyter-widgets/controls",
       "_model_module_version": "1.5.0",
       "_model_name": "HTMLModel",
       "_view_count": null,
       "_view_module": "@jupyter-widgets/controls",
       "_view_module_version": "1.5.0",
       "_view_name": "HTMLView",
       "description": "",
       "description_tooltip": null,
       "layout": "IPY_MODEL_d11f15ed297d4c02a099948eac914482",
       "placeholder": "​",
       "style": "IPY_MODEL_b504de6c0d8b403c9928c46184002110",
       "value": "Downloading: 100%"
      }
     },
     "2a1a66de6316473486f1290f676cd145": {
      "model_module": "@jupyter-widgets/controls",
      "model_module_version": "1.5.0",
      "model_name": "HTMLModel",
      "state": {
       "_dom_classes": [],
       "_model_module": "@jupyter-widgets/controls",
       "_model_module_version": "1.5.0",
       "_model_name": "HTMLModel",
       "_view_count": null,
       "_view_module": "@jupyter-widgets/controls",
       "_view_module_version": "1.5.0",
       "_view_name": "HTMLView",
       "description": "",
       "description_tooltip": null,
       "layout": "IPY_MODEL_3882c0728f0a449f9b6cc1af92dc4c42",
       "placeholder": "​",
       "style": "IPY_MODEL_b690db181ad24f9e8cda670a90cea637",
       "value": "Downloading: 100%"
      }
     },
     "2d5c885e3f3243e3b5717dec5aaf4d05": {
      "model_module": "@jupyter-widgets/controls",
      "model_module_version": "1.5.0",
      "model_name": "FloatProgressModel",
      "state": {
       "_dom_classes": [],
       "_model_module": "@jupyter-widgets/controls",
       "_model_module_version": "1.5.0",
       "_model_name": "FloatProgressModel",
       "_view_count": null,
       "_view_module": "@jupyter-widgets/controls",
       "_view_module_version": "1.5.0",
       "_view_name": "ProgressView",
       "bar_style": "success",
       "description": "",
       "description_tooltip": null,
       "layout": "IPY_MODEL_705e349a54f64b6a872cd0debf51d6ad",
       "max": 898823.0,
       "min": 0.0,
       "orientation": "horizontal",
       "style": "IPY_MODEL_5cc5c6600d1d43acaaecbf9912cf54ff",
       "value": 898823.0
      }
     },
     "31523b1d8be5496a8ef9c591478a34f4": {
      "model_module": "@jupyter-widgets/controls",
      "model_module_version": "1.5.0",
      "model_name": "DescriptionStyleModel",
      "state": {
       "_model_module": "@jupyter-widgets/controls",
       "_model_module_version": "1.5.0",
       "_model_name": "DescriptionStyleModel",
       "_view_count": null,
       "_view_module": "@jupyter-widgets/base",
       "_view_module_version": "1.2.0",
       "_view_name": "StyleView",
       "description_width": ""
      }
     },
     "36919d997177467081569ae71af5f87f": {
      "model_module": "@jupyter-widgets/base",
      "model_module_version": "1.2.0",
      "model_name": "LayoutModel",
      "state": {
       "_model_module": "@jupyter-widgets/base",
       "_model_module_version": "1.2.0",
       "_model_name": "LayoutModel",
       "_view_count": null,
       "_view_module": "@jupyter-widgets/base",
       "_view_module_version": "1.2.0",
       "_view_name": "LayoutView",
       "align_content": null,
       "align_items": null,
       "align_self": null,
       "border": null,
       "bottom": null,
       "display": null,
       "flex": null,
       "flex_flow": null,
       "grid_area": null,
       "grid_auto_columns": null,
       "grid_auto_flow": null,
       "grid_auto_rows": null,
       "grid_column": null,
       "grid_gap": null,
       "grid_row": null,
       "grid_template_areas": null,
       "grid_template_columns": null,
       "grid_template_rows": null,
       "height": null,
       "justify_content": null,
       "justify_items": null,
       "left": null,
       "margin": null,
       "max_height": null,
       "max_width": null,
       "min_height": null,
       "min_width": null,
       "object_fit": null,
       "object_position": null,
       "order": null,
       "overflow": null,
       "overflow_x": null,
       "overflow_y": null,
       "padding": null,
       "right": null,
       "top": null,
       "visibility": null,
       "width": null
      }
     },
     "3882c0728f0a449f9b6cc1af92dc4c42": {
      "model_module": "@jupyter-widgets/base",
      "model_module_version": "1.2.0",
      "model_name": "LayoutModel",
      "state": {
       "_model_module": "@jupyter-widgets/base",
       "_model_module_version": "1.2.0",
       "_model_name": "LayoutModel",
       "_view_count": null,
       "_view_module": "@jupyter-widgets/base",
       "_view_module_version": "1.2.0",
       "_view_name": "LayoutView",
       "align_content": null,
       "align_items": null,
       "align_self": null,
       "border": null,
       "bottom": null,
       "display": null,
       "flex": null,
       "flex_flow": null,
       "grid_area": null,
       "grid_auto_columns": null,
       "grid_auto_flow": null,
       "grid_auto_rows": null,
       "grid_column": null,
       "grid_gap": null,
       "grid_row": null,
       "grid_template_areas": null,
       "grid_template_columns": null,
       "grid_template_rows": null,
       "height": null,
       "justify_content": null,
       "justify_items": null,
       "left": null,
       "margin": null,
       "max_height": null,
       "max_width": null,
       "min_height": null,
       "min_width": null,
       "object_fit": null,
       "object_position": null,
       "order": null,
       "overflow": null,
       "overflow_x": null,
       "overflow_y": null,
       "padding": null,
       "right": null,
       "top": null,
       "visibility": null,
       "width": null
      }
     },
     "388fb02243f447c1aff51e8bb30389eb": {
      "model_module": "@jupyter-widgets/base",
      "model_module_version": "1.2.0",
      "model_name": "LayoutModel",
      "state": {
       "_model_module": "@jupyter-widgets/base",
       "_model_module_version": "1.2.0",
       "_model_name": "LayoutModel",
       "_view_count": null,
       "_view_module": "@jupyter-widgets/base",
       "_view_module_version": "1.2.0",
       "_view_name": "LayoutView",
       "align_content": null,
       "align_items": null,
       "align_self": null,
       "border": null,
       "bottom": null,
       "display": null,
       "flex": null,
       "flex_flow": null,
       "grid_area": null,
       "grid_auto_columns": null,
       "grid_auto_flow": null,
       "grid_auto_rows": null,
       "grid_column": null,
       "grid_gap": null,
       "grid_row": null,
       "grid_template_areas": null,
       "grid_template_columns": null,
       "grid_template_rows": null,
       "height": null,
       "justify_content": null,
       "justify_items": null,
       "left": null,
       "margin": null,
       "max_height": null,
       "max_width": null,
       "min_height": null,
       "min_width": null,
       "object_fit": null,
       "object_position": null,
       "order": null,
       "overflow": null,
       "overflow_x": null,
       "overflow_y": null,
       "padding": null,
       "right": null,
       "top": null,
       "visibility": null,
       "width": null
      }
     },
     "3ee74e02c8d247c2a42d26083f187536": {
      "model_module": "@jupyter-widgets/base",
      "model_module_version": "1.2.0",
      "model_name": "LayoutModel",
      "state": {
       "_model_module": "@jupyter-widgets/base",
       "_model_module_version": "1.2.0",
       "_model_name": "LayoutModel",
       "_view_count": null,
       "_view_module": "@jupyter-widgets/base",
       "_view_module_version": "1.2.0",
       "_view_name": "LayoutView",
       "align_content": null,
       "align_items": null,
       "align_self": null,
       "border": null,
       "bottom": null,
       "display": null,
       "flex": null,
       "flex_flow": null,
       "grid_area": null,
       "grid_auto_columns": null,
       "grid_auto_flow": null,
       "grid_auto_rows": null,
       "grid_column": null,
       "grid_gap": null,
       "grid_row": null,
       "grid_template_areas": null,
       "grid_template_columns": null,
       "grid_template_rows": null,
       "height": null,
       "justify_content": null,
       "justify_items": null,
       "left": null,
       "margin": null,
       "max_height": null,
       "max_width": null,
       "min_height": null,
       "min_width": null,
       "object_fit": null,
       "object_position": null,
       "order": null,
       "overflow": null,
       "overflow_x": null,
       "overflow_y": null,
       "padding": null,
       "right": null,
       "top": null,
       "visibility": null,
       "width": null
      }
     },
     "49303ea37f1f4ade98088c7b3ecbfcc2": {
      "model_module": "@jupyter-widgets/base",
      "model_module_version": "1.2.0",
      "model_name": "LayoutModel",
      "state": {
       "_model_module": "@jupyter-widgets/base",
       "_model_module_version": "1.2.0",
       "_model_name": "LayoutModel",
       "_view_count": null,
       "_view_module": "@jupyter-widgets/base",
       "_view_module_version": "1.2.0",
       "_view_name": "LayoutView",
       "align_content": null,
       "align_items": null,
       "align_self": null,
       "border": null,
       "bottom": null,
       "display": null,
       "flex": null,
       "flex_flow": null,
       "grid_area": null,
       "grid_auto_columns": null,
       "grid_auto_flow": null,
       "grid_auto_rows": null,
       "grid_column": null,
       "grid_gap": null,
       "grid_row": null,
       "grid_template_areas": null,
       "grid_template_columns": null,
       "grid_template_rows": null,
       "height": null,
       "justify_content": null,
       "justify_items": null,
       "left": null,
       "margin": null,
       "max_height": null,
       "max_width": null,
       "min_height": null,
       "min_width": null,
       "object_fit": null,
       "object_position": null,
       "order": null,
       "overflow": null,
       "overflow_x": null,
       "overflow_y": null,
       "padding": null,
       "right": null,
       "top": null,
       "visibility": null,
       "width": null
      }
     },
     "4b3c65f2ad5647ddbc06e63c7374fc44": {
      "model_module": "@jupyter-widgets/controls",
      "model_module_version": "1.5.0",
      "model_name": "HTMLModel",
      "state": {
       "_dom_classes": [],
       "_model_module": "@jupyter-widgets/controls",
       "_model_module_version": "1.5.0",
       "_model_name": "HTMLModel",
       "_view_count": null,
       "_view_module": "@jupyter-widgets/controls",
       "_view_module_version": "1.5.0",
       "_view_name": "HTMLView",
       "description": "",
       "description_tooltip": null,
       "layout": "IPY_MODEL_b1efdd96437b4e4890bd62f7f3216f28",
       "placeholder": "​",
       "style": "IPY_MODEL_b04f54d1553b4d8aa0bdee11a11dc565",
       "value": " 768/768 [00:00&lt;00:00, 28.5kB/s]"
      }
     },
     "4b67ea449d374da2bcb36dbd1ad4cad6": {
      "model_module": "@jupyter-widgets/controls",
      "model_module_version": "1.5.0",
      "model_name": "ProgressStyleModel",
      "state": {
       "_model_module": "@jupyter-widgets/controls",
       "_model_module_version": "1.5.0",
       "_model_name": "ProgressStyleModel",
       "_view_count": null,
       "_view_module": "@jupyter-widgets/base",
       "_view_module_version": "1.2.0",
       "_view_name": "StyleView",
       "bar_color": null,
       "description_width": ""
      }
     },
     "4e1adfce136a4fff881789fe097633a5": {
      "model_module": "@jupyter-widgets/controls",
      "model_module_version": "1.5.0",
      "model_name": "HBoxModel",
      "state": {
       "_dom_classes": [],
       "_model_module": "@jupyter-widgets/controls",
       "_model_module_version": "1.5.0",
       "_model_name": "HBoxModel",
       "_view_count": null,
       "_view_module": "@jupyter-widgets/controls",
       "_view_module_version": "1.5.0",
       "_view_name": "HBoxView",
       "box_style": "",
       "children": [
        "IPY_MODEL_281c0fce94944be9a1fe8e4de9925b30",
        "IPY_MODEL_2d5c885e3f3243e3b5717dec5aaf4d05",
        "IPY_MODEL_c036f67a45e74eda81b370d57f697dbe"
       ],
       "layout": "IPY_MODEL_49303ea37f1f4ade98088c7b3ecbfcc2"
      }
     },
     "59c221d7bd054991828402edb2b009e6": {
      "model_module": "@jupyter-widgets/controls",
      "model_module_version": "1.5.0",
      "model_name": "HBoxModel",
      "state": {
       "_dom_classes": [],
       "_model_module": "@jupyter-widgets/controls",
       "_model_module_version": "1.5.0",
       "_model_name": "HBoxModel",
       "_view_count": null,
       "_view_module": "@jupyter-widgets/controls",
       "_view_module_version": "1.5.0",
       "_view_name": "HBoxView",
       "box_style": "",
       "children": [
        "IPY_MODEL_8371e4e66bad4507b909566e1d083d03",
        "IPY_MODEL_7c6bc37f5c244a3b81732322c93fabff",
        "IPY_MODEL_0dab8c40837a474289f24c4174430a78"
       ],
       "layout": "IPY_MODEL_01fcae22f9ac4219b6711113906ec29f"
      }
     },
     "5c2df021e6b1455989815316d25128ea": {
      "model_module": "@jupyter-widgets/base",
      "model_module_version": "1.2.0",
      "model_name": "LayoutModel",
      "state": {
       "_model_module": "@jupyter-widgets/base",
       "_model_module_version": "1.2.0",
       "_model_name": "LayoutModel",
       "_view_count": null,
       "_view_module": "@jupyter-widgets/base",
       "_view_module_version": "1.2.0",
       "_view_name": "LayoutView",
       "align_content": null,
       "align_items": null,
       "align_self": null,
       "border": null,
       "bottom": null,
       "display": null,
       "flex": null,
       "flex_flow": null,
       "grid_area": null,
       "grid_auto_columns": null,
       "grid_auto_flow": null,
       "grid_auto_rows": null,
       "grid_column": null,
       "grid_gap": null,
       "grid_row": null,
       "grid_template_areas": null,
       "grid_template_columns": null,
       "grid_template_rows": null,
       "height": null,
       "justify_content": null,
       "justify_items": null,
       "left": null,
       "margin": null,
       "max_height": null,
       "max_width": null,
       "min_height": null,
       "min_width": null,
       "object_fit": null,
       "object_position": null,
       "order": null,
       "overflow": null,
       "overflow_x": null,
       "overflow_y": null,
       "padding": null,
       "right": null,
       "top": null,
       "visibility": null,
       "width": null
      }
     },
     "5cc5c6600d1d43acaaecbf9912cf54ff": {
      "model_module": "@jupyter-widgets/controls",
      "model_module_version": "1.5.0",
      "model_name": "ProgressStyleModel",
      "state": {
       "_model_module": "@jupyter-widgets/controls",
       "_model_module_version": "1.5.0",
       "_model_name": "ProgressStyleModel",
       "_view_count": null,
       "_view_module": "@jupyter-widgets/base",
       "_view_module_version": "1.2.0",
       "_view_name": "StyleView",
       "bar_color": null,
       "description_width": ""
      }
     },
     "656d3fe64cc549e2ae010c0d577bd308": {
      "model_module": "@jupyter-widgets/base",
      "model_module_version": "1.2.0",
      "model_name": "LayoutModel",
      "state": {
       "_model_module": "@jupyter-widgets/base",
       "_model_module_version": "1.2.0",
       "_model_name": "LayoutModel",
       "_view_count": null,
       "_view_module": "@jupyter-widgets/base",
       "_view_module_version": "1.2.0",
       "_view_name": "LayoutView",
       "align_content": null,
       "align_items": null,
       "align_self": null,
       "border": null,
       "bottom": null,
       "display": null,
       "flex": null,
       "flex_flow": null,
       "grid_area": null,
       "grid_auto_columns": null,
       "grid_auto_flow": null,
       "grid_auto_rows": null,
       "grid_column": null,
       "grid_gap": null,
       "grid_row": null,
       "grid_template_areas": null,
       "grid_template_columns": null,
       "grid_template_rows": null,
       "height": null,
       "justify_content": null,
       "justify_items": null,
       "left": null,
       "margin": null,
       "max_height": null,
       "max_width": null,
       "min_height": null,
       "min_width": null,
       "object_fit": null,
       "object_position": null,
       "order": null,
       "overflow": null,
       "overflow_x": null,
       "overflow_y": null,
       "padding": null,
       "right": null,
       "top": null,
       "visibility": null,
       "width": null
      }
     },
     "66bed3631b9747179ffa9718ff897352": {
      "model_module": "@jupyter-widgets/controls",
      "model_module_version": "1.5.0",
      "model_name": "DescriptionStyleModel",
      "state": {
       "_model_module": "@jupyter-widgets/controls",
       "_model_module_version": "1.5.0",
       "_model_name": "DescriptionStyleModel",
       "_view_count": null,
       "_view_module": "@jupyter-widgets/base",
       "_view_module_version": "1.2.0",
       "_view_name": "StyleView",
       "description_width": ""
      }
     },
     "6901266cd8884f25aae0d835025aead8": {
      "model_module": "@jupyter-widgets/controls",
      "model_module_version": "1.5.0",
      "model_name": "HBoxModel",
      "state": {
       "_dom_classes": [],
       "_model_module": "@jupyter-widgets/controls",
       "_model_module_version": "1.5.0",
       "_model_name": "HBoxModel",
       "_view_count": null,
       "_view_module": "@jupyter-widgets/controls",
       "_view_module_version": "1.5.0",
       "_view_name": "HBoxView",
       "box_style": "",
       "children": [
        "IPY_MODEL_d2e852c9ed6943bf8286c18b0344cf2a",
        "IPY_MODEL_981a057cb1484f90b8096c8b171356df",
        "IPY_MODEL_752a7578325647db9c4aa13f386822a3"
       ],
       "layout": "IPY_MODEL_3ee74e02c8d247c2a42d26083f187536"
      }
     },
     "705e349a54f64b6a872cd0debf51d6ad": {
      "model_module": "@jupyter-widgets/base",
      "model_module_version": "1.2.0",
      "model_name": "LayoutModel",
      "state": {
       "_model_module": "@jupyter-widgets/base",
       "_model_module_version": "1.2.0",
       "_model_name": "LayoutModel",
       "_view_count": null,
       "_view_module": "@jupyter-widgets/base",
       "_view_module_version": "1.2.0",
       "_view_name": "LayoutView",
       "align_content": null,
       "align_items": null,
       "align_self": null,
       "border": null,
       "bottom": null,
       "display": null,
       "flex": null,
       "flex_flow": null,
       "grid_area": null,
       "grid_auto_columns": null,
       "grid_auto_flow": null,
       "grid_auto_rows": null,
       "grid_column": null,
       "grid_gap": null,
       "grid_row": null,
       "grid_template_areas": null,
       "grid_template_columns": null,
       "grid_template_rows": null,
       "height": null,
       "justify_content": null,
       "justify_items": null,
       "left": null,
       "margin": null,
       "max_height": null,
       "max_width": null,
       "min_height": null,
       "min_width": null,
       "object_fit": null,
       "object_position": null,
       "order": null,
       "overflow": null,
       "overflow_x": null,
       "overflow_y": null,
       "padding": null,
       "right": null,
       "top": null,
       "visibility": null,
       "width": null
      }
     },
     "752a7578325647db9c4aa13f386822a3": {
      "model_module": "@jupyter-widgets/controls",
      "model_module_version": "1.5.0",
      "model_name": "HTMLModel",
      "state": {
       "_dom_classes": [],
       "_model_module": "@jupyter-widgets/controls",
       "_model_module_version": "1.5.0",
       "_model_name": "HTMLModel",
       "_view_count": null,
       "_view_module": "@jupyter-widgets/controls",
       "_view_module_version": "1.5.0",
       "_view_name": "HTMLView",
       "description": "",
       "description_tooltip": null,
       "layout": "IPY_MODEL_205a169e3d1e4429bcb6c8a064afb37e",
       "placeholder": "​",
       "style": "IPY_MODEL_ab3581f5f839490591da3e87dd6a83d5",
       "value": " 481/481 [00:00&lt;00:00, 18.7kB/s]"
      }
     },
     "77b79f1890274f2eb087aba765d75855": {
      "model_module": "@jupyter-widgets/controls",
      "model_module_version": "1.5.0",
      "model_name": "DescriptionStyleModel",
      "state": {
       "_model_module": "@jupyter-widgets/controls",
       "_model_module_version": "1.5.0",
       "_model_name": "DescriptionStyleModel",
       "_view_count": null,
       "_view_module": "@jupyter-widgets/base",
       "_view_module_version": "1.2.0",
       "_view_name": "StyleView",
       "description_width": ""
      }
     },
     "78bcca16aefd4ca79238a78fd6676457": {
      "model_module": "@jupyter-widgets/controls",
      "model_module_version": "1.5.0",
      "model_name": "HBoxModel",
      "state": {
       "_dom_classes": [],
       "_model_module": "@jupyter-widgets/controls",
       "_model_module_version": "1.5.0",
       "_model_name": "HBoxModel",
       "_view_count": null,
       "_view_module": "@jupyter-widgets/controls",
       "_view_module_version": "1.5.0",
       "_view_name": "HBoxView",
       "box_style": "",
       "children": [
        "IPY_MODEL_2a1a66de6316473486f1290f676cd145",
        "IPY_MODEL_e1a0a9531f0f4cda9180f4710f8bfba1",
        "IPY_MODEL_4b3c65f2ad5647ddbc06e63c7374fc44"
       ],
       "layout": "IPY_MODEL_c7b1add541424c868db3561a30b5edb0"
      }
     },
     "7c6bc37f5c244a3b81732322c93fabff": {
      "model_module": "@jupyter-widgets/controls",
      "model_module_version": "1.5.0",
      "model_name": "FloatProgressModel",
      "state": {
       "_dom_classes": [],
       "_model_module": "@jupyter-widgets/controls",
       "_model_module_version": "1.5.0",
       "_model_name": "FloatProgressModel",
       "_view_count": null,
       "_view_module": "@jupyter-widgets/controls",
       "_view_module_version": "1.5.0",
       "_view_name": "ProgressView",
       "bar_style": "success",
       "description": "",
       "description_tooltip": null,
       "layout": "IPY_MODEL_5c2df021e6b1455989815316d25128ea",
       "max": 456318.0,
       "min": 0.0,
       "orientation": "horizontal",
       "style": "IPY_MODEL_0d4b55f74ee54a28b5cc22024e68a986",
       "value": 456318.0
      }
     },
     "7e93b2c0da7c48c49a6d3df88be15216": {
      "model_module": "@jupyter-widgets/base",
      "model_module_version": "1.2.0",
      "model_name": "LayoutModel",
      "state": {
       "_model_module": "@jupyter-widgets/base",
       "_model_module_version": "1.2.0",
       "_model_name": "LayoutModel",
       "_view_count": null,
       "_view_module": "@jupyter-widgets/base",
       "_view_module_version": "1.2.0",
       "_view_name": "LayoutView",
       "align_content": null,
       "align_items": null,
       "align_self": null,
       "border": null,
       "bottom": null,
       "display": null,
       "flex": null,
       "flex_flow": null,
       "grid_area": null,
       "grid_auto_columns": null,
       "grid_auto_flow": null,
       "grid_auto_rows": null,
       "grid_column": null,
       "grid_gap": null,
       "grid_row": null,
       "grid_template_areas": null,
       "grid_template_columns": null,
       "grid_template_rows": null,
       "height": null,
       "justify_content": null,
       "justify_items": null,
       "left": null,
       "margin": null,
       "max_height": null,
       "max_width": null,
       "min_height": null,
       "min_width": null,
       "object_fit": null,
       "object_position": null,
       "order": null,
       "overflow": null,
       "overflow_x": null,
       "overflow_y": null,
       "padding": null,
       "right": null,
       "top": null,
       "visibility": null,
       "width": null
      }
     },
     "8371e4e66bad4507b909566e1d083d03": {
      "model_module": "@jupyter-widgets/controls",
      "model_module_version": "1.5.0",
      "model_name": "HTMLModel",
      "state": {
       "_dom_classes": [],
       "_model_module": "@jupyter-widgets/controls",
       "_model_module_version": "1.5.0",
       "_model_name": "HTMLModel",
       "_view_count": null,
       "_view_module": "@jupyter-widgets/controls",
       "_view_module_version": "1.5.0",
       "_view_name": "HTMLView",
       "description": "",
       "description_tooltip": null,
       "layout": "IPY_MODEL_7e93b2c0da7c48c49a6d3df88be15216",
       "placeholder": "​",
       "style": "IPY_MODEL_77b79f1890274f2eb087aba765d75855",
       "value": "Downloading: 100%"
      }
     },
     "981a057cb1484f90b8096c8b171356df": {
      "model_module": "@jupyter-widgets/controls",
      "model_module_version": "1.5.0",
      "model_name": "FloatProgressModel",
      "state": {
       "_dom_classes": [],
       "_model_module": "@jupyter-widgets/controls",
       "_model_module_version": "1.5.0",
       "_model_name": "FloatProgressModel",
       "_view_count": null,
       "_view_module": "@jupyter-widgets/controls",
       "_view_module_version": "1.5.0",
       "_view_name": "ProgressView",
       "bar_style": "success",
       "description": "",
       "description_tooltip": null,
       "layout": "IPY_MODEL_36919d997177467081569ae71af5f87f",
       "max": 481.0,
       "min": 0.0,
       "orientation": "horizontal",
       "style": "IPY_MODEL_4b67ea449d374da2bcb36dbd1ad4cad6",
       "value": 481.0
      }
     },
     "9c39f3aa8c4b4a598dbfd3ec6a2f0611": {
      "model_module": "@jupyter-widgets/base",
      "model_module_version": "1.2.0",
      "model_name": "LayoutModel",
      "state": {
       "_model_module": "@jupyter-widgets/base",
       "_model_module_version": "1.2.0",
       "_model_name": "LayoutModel",
       "_view_count": null,
       "_view_module": "@jupyter-widgets/base",
       "_view_module_version": "1.2.0",
       "_view_name": "LayoutView",
       "align_content": null,
       "align_items": null,
       "align_self": null,
       "border": null,
       "bottom": null,
       "display": null,
       "flex": null,
       "flex_flow": null,
       "grid_area": null,
       "grid_auto_columns": null,
       "grid_auto_flow": null,
       "grid_auto_rows": null,
       "grid_column": null,
       "grid_gap": null,
       "grid_row": null,
       "grid_template_areas": null,
       "grid_template_columns": null,
       "grid_template_rows": null,
       "height": null,
       "justify_content": null,
       "justify_items": null,
       "left": null,
       "margin": null,
       "max_height": null,
       "max_width": null,
       "min_height": null,
       "min_width": null,
       "object_fit": null,
       "object_position": null,
       "order": null,
       "overflow": null,
       "overflow_x": null,
       "overflow_y": null,
       "padding": null,
       "right": null,
       "top": null,
       "visibility": null,
       "width": null
      }
     },
     "9d6d49eee29d4e4c8da8cf6b74888e6c": {
      "model_module": "@jupyter-widgets/base",
      "model_module_version": "1.2.0",
      "model_name": "LayoutModel",
      "state": {
       "_model_module": "@jupyter-widgets/base",
       "_model_module_version": "1.2.0",
       "_model_name": "LayoutModel",
       "_view_count": null,
       "_view_module": "@jupyter-widgets/base",
       "_view_module_version": "1.2.0",
       "_view_name": "LayoutView",
       "align_content": null,
       "align_items": null,
       "align_self": null,
       "border": null,
       "bottom": null,
       "display": null,
       "flex": null,
       "flex_flow": null,
       "grid_area": null,
       "grid_auto_columns": null,
       "grid_auto_flow": null,
       "grid_auto_rows": null,
       "grid_column": null,
       "grid_gap": null,
       "grid_row": null,
       "grid_template_areas": null,
       "grid_template_columns": null,
       "grid_template_rows": null,
       "height": null,
       "justify_content": null,
       "justify_items": null,
       "left": null,
       "margin": null,
       "max_height": null,
       "max_width": null,
       "min_height": null,
       "min_width": null,
       "object_fit": null,
       "object_position": null,
       "order": null,
       "overflow": null,
       "overflow_x": null,
       "overflow_y": null,
       "padding": null,
       "right": null,
       "top": null,
       "visibility": null,
       "width": null
      }
     },
     "a2bcc61079394c5ca6ffda21bc7fcf42": {
      "model_module": "@jupyter-widgets/controls",
      "model_module_version": "1.5.0",
      "model_name": "ProgressStyleModel",
      "state": {
       "_model_module": "@jupyter-widgets/controls",
       "_model_module_version": "1.5.0",
       "_model_name": "ProgressStyleModel",
       "_view_count": null,
       "_view_module": "@jupyter-widgets/base",
       "_view_module_version": "1.2.0",
       "_view_name": "StyleView",
       "bar_color": null,
       "description_width": ""
      }
     },
     "a6b02d31b1564586a8d92ed914b8fd81": {
      "model_module": "@jupyter-widgets/controls",
      "model_module_version": "1.5.0",
      "model_name": "HTMLModel",
      "state": {
       "_dom_classes": [],
       "_model_module": "@jupyter-widgets/controls",
       "_model_module_version": "1.5.0",
       "_model_name": "HTMLModel",
       "_view_count": null,
       "_view_module": "@jupyter-widgets/controls",
       "_view_module_version": "1.5.0",
       "_view_name": "HTMLView",
       "description": "",
       "description_tooltip": null,
       "layout": "IPY_MODEL_656d3fe64cc549e2ae010c0d577bd308",
       "placeholder": "​",
       "style": "IPY_MODEL_66bed3631b9747179ffa9718ff897352",
       "value": "Downloading: 100%"
      }
     },
     "ab3581f5f839490591da3e87dd6a83d5": {
      "model_module": "@jupyter-widgets/controls",
      "model_module_version": "1.5.0",
      "model_name": "DescriptionStyleModel",
      "state": {
       "_model_module": "@jupyter-widgets/controls",
       "_model_module_version": "1.5.0",
       "_model_name": "DescriptionStyleModel",
       "_view_count": null,
       "_view_module": "@jupyter-widgets/base",
       "_view_module_version": "1.2.0",
       "_view_name": "StyleView",
       "description_width": ""
      }
     },
     "b04f54d1553b4d8aa0bdee11a11dc565": {
      "model_module": "@jupyter-widgets/controls",
      "model_module_version": "1.5.0",
      "model_name": "DescriptionStyleModel",
      "state": {
       "_model_module": "@jupyter-widgets/controls",
       "_model_module_version": "1.5.0",
       "_model_name": "DescriptionStyleModel",
       "_view_count": null,
       "_view_module": "@jupyter-widgets/base",
       "_view_module_version": "1.2.0",
       "_view_name": "StyleView",
       "description_width": ""
      }
     },
     "b1efdd96437b4e4890bd62f7f3216f28": {
      "model_module": "@jupyter-widgets/base",
      "model_module_version": "1.2.0",
      "model_name": "LayoutModel",
      "state": {
       "_model_module": "@jupyter-widgets/base",
       "_model_module_version": "1.2.0",
       "_model_name": "LayoutModel",
       "_view_count": null,
       "_view_module": "@jupyter-widgets/base",
       "_view_module_version": "1.2.0",
       "_view_name": "LayoutView",
       "align_content": null,
       "align_items": null,
       "align_self": null,
       "border": null,
       "bottom": null,
       "display": null,
       "flex": null,
       "flex_flow": null,
       "grid_area": null,
       "grid_auto_columns": null,
       "grid_auto_flow": null,
       "grid_auto_rows": null,
       "grid_column": null,
       "grid_gap": null,
       "grid_row": null,
       "grid_template_areas": null,
       "grid_template_columns": null,
       "grid_template_rows": null,
       "height": null,
       "justify_content": null,
       "justify_items": null,
       "left": null,
       "margin": null,
       "max_height": null,
       "max_width": null,
       "min_height": null,
       "min_width": null,
       "object_fit": null,
       "object_position": null,
       "order": null,
       "overflow": null,
       "overflow_x": null,
       "overflow_y": null,
       "padding": null,
       "right": null,
       "top": null,
       "visibility": null,
       "width": null
      }
     },
     "b247d9d7fe9a4295885031df16231405": {
      "model_module": "@jupyter-widgets/base",
      "model_module_version": "1.2.0",
      "model_name": "LayoutModel",
      "state": {
       "_model_module": "@jupyter-widgets/base",
       "_model_module_version": "1.2.0",
       "_model_name": "LayoutModel",
       "_view_count": null,
       "_view_module": "@jupyter-widgets/base",
       "_view_module_version": "1.2.0",
       "_view_name": "LayoutView",
       "align_content": null,
       "align_items": null,
       "align_self": null,
       "border": null,
       "bottom": null,
       "display": null,
       "flex": null,
       "flex_flow": null,
       "grid_area": null,
       "grid_auto_columns": null,
       "grid_auto_flow": null,
       "grid_auto_rows": null,
       "grid_column": null,
       "grid_gap": null,
       "grid_row": null,
       "grid_template_areas": null,
       "grid_template_columns": null,
       "grid_template_rows": null,
       "height": null,
       "justify_content": null,
       "justify_items": null,
       "left": null,
       "margin": null,
       "max_height": null,
       "max_width": null,
       "min_height": null,
       "min_width": null,
       "object_fit": null,
       "object_position": null,
       "order": null,
       "overflow": null,
       "overflow_x": null,
       "overflow_y": null,
       "padding": null,
       "right": null,
       "top": null,
       "visibility": null,
       "width": null
      }
     },
     "b504de6c0d8b403c9928c46184002110": {
      "model_module": "@jupyter-widgets/controls",
      "model_module_version": "1.5.0",
      "model_name": "DescriptionStyleModel",
      "state": {
       "_model_module": "@jupyter-widgets/controls",
       "_model_module_version": "1.5.0",
       "_model_name": "DescriptionStyleModel",
       "_view_count": null,
       "_view_module": "@jupyter-widgets/base",
       "_view_module_version": "1.2.0",
       "_view_name": "StyleView",
       "description_width": ""
      }
     },
     "b690db181ad24f9e8cda670a90cea637": {
      "model_module": "@jupyter-widgets/controls",
      "model_module_version": "1.5.0",
      "model_name": "DescriptionStyleModel",
      "state": {
       "_model_module": "@jupyter-widgets/controls",
       "_model_module_version": "1.5.0",
       "_model_name": "DescriptionStyleModel",
       "_view_count": null,
       "_view_module": "@jupyter-widgets/base",
       "_view_module_version": "1.2.0",
       "_view_name": "StyleView",
       "description_width": ""
      }
     },
     "c036f67a45e74eda81b370d57f697dbe": {
      "model_module": "@jupyter-widgets/controls",
      "model_module_version": "1.5.0",
      "model_name": "HTMLModel",
      "state": {
       "_dom_classes": [],
       "_model_module": "@jupyter-widgets/controls",
       "_model_module_version": "1.5.0",
       "_model_name": "HTMLModel",
       "_view_count": null,
       "_view_module": "@jupyter-widgets/controls",
       "_view_module_version": "1.5.0",
       "_view_name": "HTMLView",
       "description": "",
       "description_tooltip": null,
       "layout": "IPY_MODEL_e087a22cf02f4ea189d561d5714151c3",
       "placeholder": "​",
       "style": "IPY_MODEL_e2df9164382643debf6c6f55a865b191",
       "value": " 878k/878k [00:00&lt;00:00, 697kB/s]"
      }
     },
     "c236b2f4d841457c869f6ba3559cc8cc": {
      "model_module": "@jupyter-widgets/controls",
      "model_module_version": "1.5.0",
      "model_name": "HTMLModel",
      "state": {
       "_dom_classes": [],
       "_model_module": "@jupyter-widgets/controls",
       "_model_module_version": "1.5.0",
       "_model_name": "HTMLModel",
       "_view_count": null,
       "_view_module": "@jupyter-widgets/controls",
       "_view_module_version": "1.5.0",
       "_view_name": "HTMLView",
       "description": "",
       "description_tooltip": null,
       "layout": "IPY_MODEL_ccb38fe072294e0d96490c5ccbaed8d1",
       "placeholder": "​",
       "style": "IPY_MODEL_31523b1d8be5496a8ef9c591478a34f4",
       "value": " 476M/476M [00:41&lt;00:00, 13.2MB/s]"
      }
     },
     "c3966e06ac5449afa95712b047f53f71": {
      "model_module": "@jupyter-widgets/controls",
      "model_module_version": "1.5.0",
      "model_name": "DescriptionStyleModel",
      "state": {
       "_model_module": "@jupyter-widgets/controls",
       "_model_module_version": "1.5.0",
       "_model_name": "DescriptionStyleModel",
       "_view_count": null,
       "_view_module": "@jupyter-widgets/base",
       "_view_module_version": "1.2.0",
       "_view_name": "StyleView",
       "description_width": ""
      }
     },
     "c7b1add541424c868db3561a30b5edb0": {
      "model_module": "@jupyter-widgets/base",
      "model_module_version": "1.2.0",
      "model_name": "LayoutModel",
      "state": {
       "_model_module": "@jupyter-widgets/base",
       "_model_module_version": "1.2.0",
       "_model_name": "LayoutModel",
       "_view_count": null,
       "_view_module": "@jupyter-widgets/base",
       "_view_module_version": "1.2.0",
       "_view_name": "LayoutView",
       "align_content": null,
       "align_items": null,
       "align_self": null,
       "border": null,
       "bottom": null,
       "display": null,
       "flex": null,
       "flex_flow": null,
       "grid_area": null,
       "grid_auto_columns": null,
       "grid_auto_flow": null,
       "grid_auto_rows": null,
       "grid_column": null,
       "grid_gap": null,
       "grid_row": null,
       "grid_template_areas": null,
       "grid_template_columns": null,
       "grid_template_rows": null,
       "height": null,
       "justify_content": null,
       "justify_items": null,
       "left": null,
       "margin": null,
       "max_height": null,
       "max_width": null,
       "min_height": null,
       "min_width": null,
       "object_fit": null,
       "object_position": null,
       "order": null,
       "overflow": null,
       "overflow_x": null,
       "overflow_y": null,
       "padding": null,
       "right": null,
       "top": null,
       "visibility": null,
       "width": null
      }
     },
     "ccb38fe072294e0d96490c5ccbaed8d1": {
      "model_module": "@jupyter-widgets/base",
      "model_module_version": "1.2.0",
      "model_name": "LayoutModel",
      "state": {
       "_model_module": "@jupyter-widgets/base",
       "_model_module_version": "1.2.0",
       "_model_name": "LayoutModel",
       "_view_count": null,
       "_view_module": "@jupyter-widgets/base",
       "_view_module_version": "1.2.0",
       "_view_name": "LayoutView",
       "align_content": null,
       "align_items": null,
       "align_self": null,
       "border": null,
       "bottom": null,
       "display": null,
       "flex": null,
       "flex_flow": null,
       "grid_area": null,
       "grid_auto_columns": null,
       "grid_auto_flow": null,
       "grid_auto_rows": null,
       "grid_column": null,
       "grid_gap": null,
       "grid_row": null,
       "grid_template_areas": null,
       "grid_template_columns": null,
       "grid_template_rows": null,
       "height": null,
       "justify_content": null,
       "justify_items": null,
       "left": null,
       "margin": null,
       "max_height": null,
       "max_width": null,
       "min_height": null,
       "min_width": null,
       "object_fit": null,
       "object_position": null,
       "order": null,
       "overflow": null,
       "overflow_x": null,
       "overflow_y": null,
       "padding": null,
       "right": null,
       "top": null,
       "visibility": null,
       "width": null
      }
     },
     "cf730350bc5e40a98677529a01645d83": {
      "model_module": "@jupyter-widgets/controls",
      "model_module_version": "1.5.0",
      "model_name": "HBoxModel",
      "state": {
       "_dom_classes": [],
       "_model_module": "@jupyter-widgets/controls",
       "_model_module_version": "1.5.0",
       "_model_name": "HBoxModel",
       "_view_count": null,
       "_view_module": "@jupyter-widgets/controls",
       "_view_module_version": "1.5.0",
       "_view_name": "HBoxView",
       "box_style": "",
       "children": [
        "IPY_MODEL_a6b02d31b1564586a8d92ed914b8fd81",
        "IPY_MODEL_1c44f205c0694f8dabbd149ad1c865a0",
        "IPY_MODEL_c236b2f4d841457c869f6ba3559cc8cc"
       ],
       "layout": "IPY_MODEL_9c39f3aa8c4b4a598dbfd3ec6a2f0611"
      }
     },
     "d11f15ed297d4c02a099948eac914482": {
      "model_module": "@jupyter-widgets/base",
      "model_module_version": "1.2.0",
      "model_name": "LayoutModel",
      "state": {
       "_model_module": "@jupyter-widgets/base",
       "_model_module_version": "1.2.0",
       "_model_name": "LayoutModel",
       "_view_count": null,
       "_view_module": "@jupyter-widgets/base",
       "_view_module_version": "1.2.0",
       "_view_name": "LayoutView",
       "align_content": null,
       "align_items": null,
       "align_self": null,
       "border": null,
       "bottom": null,
       "display": null,
       "flex": null,
       "flex_flow": null,
       "grid_area": null,
       "grid_auto_columns": null,
       "grid_auto_flow": null,
       "grid_auto_rows": null,
       "grid_column": null,
       "grid_gap": null,
       "grid_row": null,
       "grid_template_areas": null,
       "grid_template_columns": null,
       "grid_template_rows": null,
       "height": null,
       "justify_content": null,
       "justify_items": null,
       "left": null,
       "margin": null,
       "max_height": null,
       "max_width": null,
       "min_height": null,
       "min_width": null,
       "object_fit": null,
       "object_position": null,
       "order": null,
       "overflow": null,
       "overflow_x": null,
       "overflow_y": null,
       "padding": null,
       "right": null,
       "top": null,
       "visibility": null,
       "width": null
      }
     },
     "d2e852c9ed6943bf8286c18b0344cf2a": {
      "model_module": "@jupyter-widgets/controls",
      "model_module_version": "1.5.0",
      "model_name": "HTMLModel",
      "state": {
       "_dom_classes": [],
       "_model_module": "@jupyter-widgets/controls",
       "_model_module_version": "1.5.0",
       "_model_name": "HTMLModel",
       "_view_count": null,
       "_view_module": "@jupyter-widgets/controls",
       "_view_module_version": "1.5.0",
       "_view_name": "HTMLView",
       "description": "",
       "description_tooltip": null,
       "layout": "IPY_MODEL_9d6d49eee29d4e4c8da8cf6b74888e6c",
       "placeholder": "​",
       "style": "IPY_MODEL_c3966e06ac5449afa95712b047f53f71",
       "value": "Downloading: 100%"
      }
     },
     "e087a22cf02f4ea189d561d5714151c3": {
      "model_module": "@jupyter-widgets/base",
      "model_module_version": "1.2.0",
      "model_name": "LayoutModel",
      "state": {
       "_model_module": "@jupyter-widgets/base",
       "_model_module_version": "1.2.0",
       "_model_name": "LayoutModel",
       "_view_count": null,
       "_view_module": "@jupyter-widgets/base",
       "_view_module_version": "1.2.0",
       "_view_name": "LayoutView",
       "align_content": null,
       "align_items": null,
       "align_self": null,
       "border": null,
       "bottom": null,
       "display": null,
       "flex": null,
       "flex_flow": null,
       "grid_area": null,
       "grid_auto_columns": null,
       "grid_auto_flow": null,
       "grid_auto_rows": null,
       "grid_column": null,
       "grid_gap": null,
       "grid_row": null,
       "grid_template_areas": null,
       "grid_template_columns": null,
       "grid_template_rows": null,
       "height": null,
       "justify_content": null,
       "justify_items": null,
       "left": null,
       "margin": null,
       "max_height": null,
       "max_width": null,
       "min_height": null,
       "min_width": null,
       "object_fit": null,
       "object_position": null,
       "order": null,
       "overflow": null,
       "overflow_x": null,
       "overflow_y": null,
       "padding": null,
       "right": null,
       "top": null,
       "visibility": null,
       "width": null
      }
     },
     "e1a0a9531f0f4cda9180f4710f8bfba1": {
      "model_module": "@jupyter-widgets/controls",
      "model_module_version": "1.5.0",
      "model_name": "FloatProgressModel",
      "state": {
       "_dom_classes": [],
       "_model_module": "@jupyter-widgets/controls",
       "_model_module_version": "1.5.0",
       "_model_name": "FloatProgressModel",
       "_view_count": null,
       "_view_module": "@jupyter-widgets/controls",
       "_view_module_version": "1.5.0",
       "_view_name": "ProgressView",
       "bar_style": "success",
       "description": "",
       "description_tooltip": null,
       "layout": "IPY_MODEL_0637df9a47b44f4484ac80e104fc9f2f",
       "max": 768.0,
       "min": 0.0,
       "orientation": "horizontal",
       "style": "IPY_MODEL_a2bcc61079394c5ca6ffda21bc7fcf42",
       "value": 768.0
      }
     },
     "e2df9164382643debf6c6f55a865b191": {
      "model_module": "@jupyter-widgets/controls",
      "model_module_version": "1.5.0",
      "model_name": "DescriptionStyleModel",
      "state": {
       "_model_module": "@jupyter-widgets/controls",
       "_model_module_version": "1.5.0",
       "_model_name": "DescriptionStyleModel",
       "_view_count": null,
       "_view_module": "@jupyter-widgets/base",
       "_view_module_version": "1.2.0",
       "_view_name": "StyleView",
       "description_width": ""
      }
     }
    },
    "version_major": 2,
    "version_minor": 0
   }
  }
 },
 "nbformat": 4,
 "nbformat_minor": 5
}
